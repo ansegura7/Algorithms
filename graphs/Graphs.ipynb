{
 "cells": [
  {
   "cell_type": "markdown",
   "metadata": {},
   "source": [
    "# Graphs - NetworkX"
   ]
  },
  {
   "cell_type": "markdown",
   "metadata": {},
   "source": [
    "- **Created by Andrés Segura Tinoco**\n",
    "- **Created on Nov 27, 2019**"
   ]
  },
  {
   "cell_type": "markdown",
   "metadata": {},
   "source": [
    "NetworkX is a Python package for the creation, manipulation, and study of the structure, dynamics, and functions of complex networks."
   ]
  },
  {
   "cell_type": "code",
   "execution_count": 1,
   "metadata": {},
   "outputs": [],
   "source": [
    "# Load the Python libraries\n",
    "import networkx as nx\n",
    "import math\n",
    "import timeit"
   ]
  },
  {
   "cell_type": "code",
   "execution_count": 2,
   "metadata": {},
   "outputs": [],
   "source": [
    "# Load Plotting libraries\n",
    "import matplotlib.pyplot as plt"
   ]
  },
  {
   "cell_type": "code",
   "execution_count": 3,
   "metadata": {},
   "outputs": [
    {
     "name": "stdout",
     "output_type": "stream",
     "text": [
      "Networkx version: 2.3\n"
     ]
    }
   ],
   "source": [
    "print('Networkx version:', nx.__version__)"
   ]
  },
  {
   "cell_type": "markdown",
   "metadata": {},
   "source": [
    "## 1. Graph or Undirected Simple Graph"
   ]
  },
  {
   "cell_type": "markdown",
   "metadata": {},
   "source": [
    "A graph (sometimes called undirected graph for distinguishing from a directed graph) is a pair $ G = (V, E) $, where $V$ is a set whose elements are called vertices (singular: vertex), and $E$ is a set of two-sets (sets with two distinct elements) of vertices, whose elements are called edges (sometimes links or lines)."
   ]
  },
  {
   "cell_type": "code",
   "execution_count": 4,
   "metadata": {},
   "outputs": [],
   "source": [
    "# Create an empty Undirected Simple Graph (USG)\n",
    "usg = nx.Graph()"
   ]
  },
  {
   "cell_type": "code",
   "execution_count": 5,
   "metadata": {},
   "outputs": [
    {
     "name": "stdout",
     "output_type": "stream",
     "text": [
      "[1, 2, 3, 4, 5]\n"
     ]
    }
   ],
   "source": [
    "# Add nodes\n",
    "usg.add_nodes_from([1, 2, 3, 4, 5])\n",
    "print(usg.nodes())"
   ]
  },
  {
   "cell_type": "code",
   "execution_count": 6,
   "metadata": {},
   "outputs": [
    {
     "name": "stdout",
     "output_type": "stream",
     "text": [
      "[(1, 2), (1, 3), (1, 4), (1, 5), (2, 3), (2, 4), (3, 4), (4, 5)]\n"
     ]
    }
   ],
   "source": [
    "# Add edges\n",
    "usg.add_edges_from([(1, 2), (1, 3), (1, 4), (1, 5), (3, 2), (4, 2), (4, 3), (5, 4)])\n",
    "print(usg.edges())"
   ]
  },
  {
   "cell_type": "code",
   "execution_count": 7,
   "metadata": {},
   "outputs": [],
   "source": [
    "# Function that calculates the graph density\n",
    "def get_graph_density(g):\n",
    "    n_nodes = len(g.nodes())\n",
    "    n_edges = len(g.edges())\n",
    "    \n",
    "    if nx.is_directed(g):\n",
    "        density = n_edges / (n_nodes * (n_nodes - 1))\n",
    "    else:\n",
    "        density = 2 * n_edges / (n_nodes * (n_nodes - 1))\n",
    "    \n",
    "    return density"
   ]
  },
  {
   "cell_type": "code",
   "execution_count": 8,
   "metadata": {},
   "outputs": [
    {
     "name": "stdout",
     "output_type": "stream",
     "text": [
      "Graph density: 0.8\n"
     ]
    }
   ],
   "source": [
    "# Calculate the graph density\n",
    "density = get_graph_density(usg)\n",
    "print('Graph density:', density)"
   ]
  },
  {
   "cell_type": "code",
   "execution_count": 9,
   "metadata": {},
   "outputs": [
    {
     "data": {
      "text/plain": [
       "[2, 3, 4, 5]"
      ]
     },
     "execution_count": 9,
     "metadata": {},
     "output_type": "execute_result"
    }
   ],
   "source": [
    "# Get neighbors of node 1\n",
    "list(usg.neighbors(1))"
   ]
  },
  {
   "cell_type": "code",
   "execution_count": 10,
   "metadata": {},
   "outputs": [
    {
     "data": {
      "text/plain": [
       "{1: array([-0.13262559,  0.30893109]),\n",
       " 2: array([ 0.63222721, -0.34381132]),\n",
       " 3: array([0.6293805 , 0.34480629]),\n",
       " 4: array([-0.12898213, -0.30894653]),\n",
       " 5: array([-1.00000000e+00, -9.79517691e-04])}"
      ]
     },
     "execution_count": 10,
     "metadata": {},
     "output_type": "execute_result"
    }
   ],
   "source": [
    "# Get nodes positions with spring layout\n",
    "pos = nx.layout.spring_layout(usg)\n",
    "pos"
   ]
  },
  {
   "cell_type": "code",
   "execution_count": 11,
   "metadata": {},
   "outputs": [
    {
     "data": {
      "image/png": "[encoded data removed]",
      "text/plain": [
       "<Figure size 360x360 with 1 Axes>"
      ]
     },
     "metadata": {},
     "output_type": "display_data"
    }
   ],
   "source": [
    "# Plot Simple Graph (free format)\n",
    "plt.rcParams[\"figure.figsize\"] = [5, 5]\n",
    "nx.draw(usg)\n",
    "plt.title('Undirected Simple Graph (USG)', fontsize=14)\n",
    "plt.axis('off')\n",
    "plt.show()"
   ]
  },
  {
   "cell_type": "markdown",
   "metadata": {},
   "source": [
    "## 2. Minimum Spanning Tree of an Undirected Weighted Graph"
   ]
  },
  {
   "cell_type": "markdown",
   "metadata": {},
   "source": [
    "A minimum spanning tree <b>(MST)</b> or minimum weight spanning tree is a subset of the edges of a connected, edge-weighted undirected graph <b>(UWG)</b> that connects all the vertices together, without any cycles and with the minimum possible total edge weight."
   ]
  },
  {
   "cell_type": "code",
   "execution_count": 12,
   "metadata": {},
   "outputs": [],
   "source": [
    "# Create an empty Undirected Weighted Graph (UWG)\n",
    "uwg = nx.Graph()"
   ]
  },
  {
   "cell_type": "code",
   "execution_count": 13,
   "metadata": {},
   "outputs": [],
   "source": [
    "# Add nodes\n",
    "nodes_list = [1, 2, 3, 4, 5, 6, 7]\n",
    "uwg.add_nodes_from(nodes_list)"
   ]
  },
  {
   "cell_type": "code",
   "execution_count": 14,
   "metadata": {},
   "outputs": [],
   "source": [
    "# Add weighted edges\n",
    "edges = [(1, 2, 1), (1, 4, 4), (2, 3, 2), (2, 4, 6), (2, 5, 4), (3, 5, 5), \n",
    "         (3, 6, 6), (4, 5, 3), (4, 7, 4), (5, 6, 8), (5, 7, 7), (6, 7, 3)]\n",
    "uwg.add_weighted_edges_from(edges)"
   ]
  },
  {
   "cell_type": "code",
   "execution_count": 15,
   "metadata": {},
   "outputs": [
    {
     "name": "stdout",
     "output_type": "stream",
     "text": [
      "Graph density: 0.5714285714285714\n"
     ]
    }
   ],
   "source": [
    "# Calculate the graph density\n",
    "density = get_graph_density(uwg)\n",
    "print('Graph density:', density)"
   ]
  },
  {
   "cell_type": "markdown",
   "metadata": {},
   "source": [
    "#### The MST with the Prim algorithm"
   ]
  },
  {
   "cell_type": "code",
   "execution_count": 16,
   "metadata": {},
   "outputs": [
    {
     "name": "stdout",
     "output_type": "stream",
     "text": [
      "[(1, 2, {'weight': 1}), (1, 4, {'weight': 4}), (2, 3, {'weight': 2}), (4, 5, {'weight': 3}), (4, 7, {'weight': 4}), (6, 7, {'weight': 3})]\n"
     ]
    }
   ],
   "source": [
    "# Calculate a minimum spanning tree of an undirected weighted graph with the Prim algorithm\n",
    "mst = nx.minimum_spanning_tree(uwg, algorithm='prim')\n",
    "print(sorted(mst.edges(data=True)))"
   ]
  },
  {
   "cell_type": "markdown",
   "metadata": {},
   "source": [
    "#### The MST with the Kruskal algorithm from Scratch"
   ]
  },
  {
   "cell_type": "markdown",
   "metadata": {},
   "source": [
    "Below, the Kruskal's minimum spanning tree algorithm with utility functions for sets union."
   ]
  },
  {
   "cell_type": "code",
   "execution_count": 17,
   "metadata": {},
   "outputs": [],
   "source": [
    "# A utility function to find set of an element n\n",
    "def find(s, n):\n",
    "    if s[n] == n:\n",
    "        return n\n",
    "    return find(s, s[n])\n",
    "\n",
    "# A function that does union of two sets of u and v (uses union by rank)\n",
    "def union(s, r, u, v):\n",
    "    comp_u = find(s, u)\n",
    "    comp_v = find(s, v)\n",
    "    \n",
    "    if r[comp_u] < r[comp_v]:\n",
    "        s[comp_u] = comp_v\n",
    "    elif r[comp_u] > r[comp_v]:\n",
    "        s[comp_v] = comp_u\n",
    "    else:\n",
    "        s[comp_v] = comp_u\n",
    "        r[comp_u] += 1"
   ]
  },
  {
   "cell_type": "code",
   "execution_count": 18,
   "metadata": {},
   "outputs": [],
   "source": [
    "# Find the minimum spanning tree into the graph\n",
    "def get_mst_kruskal(uwg, verbose=False):\n",
    "    start_time = timeit.default_timer()\n",
    "    min_tree = []\n",
    "    \n",
    "    # Sort all the edges in non-decreasing order of their weight\n",
    "    edges = uwg.edges(data=True)\n",
    "    edges = sorted(edges, key=lambda t: t[2].get('weight', 1))\n",
    "    n_edges = len(edges)\n",
    "    n_nodes = len(uwg.nodes())\n",
    "    \n",
    "    # Create N subsets with single elements\n",
    "    s_tree = dict()\n",
    "    rank = dict()\n",
    "    for node in uwg.nodes():\n",
    "        s_tree[node] = node\n",
    "        rank[node] = 0\n",
    "    \n",
    "    if verbose:\n",
    "        print('>> n_nodes:', n_nodes, ', n_edges:', n_edges)\n",
    "    \n",
    "    ix = 0\n",
    "    while len(min_tree) < n_nodes - 1 and ix < n_edges:\n",
    "        u, v, w = edges[ix]\n",
    "        comp_u = find(s_tree, u)\n",
    "        comp_v = find(s_tree, v)\n",
    "        if verbose:\n",
    "            print('>> ix:', ix, ', edge:', edges[ix])\n",
    "        \n",
    "        if comp_u != comp_v:\n",
    "            union(s_tree, rank, comp_u, comp_v)\n",
    "            min_tree.append(edges[ix])\n",
    "            \n",
    "            if verbose:\n",
    "                print('   added edge in comp_u:', comp_u, ', comp_v:', comp_v)\n",
    "        else:\n",
    "            print('   rejected edge')\n",
    "        ix += 1\n",
    "    \n",
    "    # Elapsed time\n",
    "    if verbose:\n",
    "        elapsed = (timeit.default_timer() - start_time) * 1000\n",
    "        print('>> elapsed time', elapsed, 'ms')\n",
    "    \n",
    "    return min_tree"
   ]
  },
  {
   "cell_type": "code",
   "execution_count": 19,
   "metadata": {},
   "outputs": [
    {
     "name": "stdout",
     "output_type": "stream",
     "text": [
      ">> n_nodes: 7 , n_edges: 12\n",
      ">> ix: 0 , edge: (1, 2, {'weight': 1})\n",
      "   added edge in comp_u: 1 , comp_v: 2\n",
      ">> ix: 1 , edge: (2, 3, {'weight': 2})\n",
      "   added edge in comp_u: 1 , comp_v: 3\n",
      ">> ix: 2 , edge: (4, 5, {'weight': 3})\n",
      "   added edge in comp_u: 4 , comp_v: 5\n",
      ">> ix: 3 , edge: (6, 7, {'weight': 3})\n",
      "   added edge in comp_u: 6 , comp_v: 7\n",
      ">> ix: 4 , edge: (1, 4, {'weight': 4})\n",
      "   added edge in comp_u: 1 , comp_v: 4\n",
      ">> ix: 5 , edge: (2, 5, {'weight': 4})\n",
      "   rejected edge\n",
      ">> ix: 6 , edge: (4, 7, {'weight': 4})\n",
      "   added edge in comp_u: 1 , comp_v: 6\n",
      ">> elapsed time 15.519400000000001 ms\n",
      "[(1, 2, {'weight': 1}), (1, 4, {'weight': 4}), (2, 3, {'weight': 2}), (4, 5, {'weight': 3}), (4, 7, {'weight': 4}), (6, 7, {'weight': 3})]\n"
     ]
    }
   ],
   "source": [
    "# Calculate a minimum spanning tree from scratch with the Prim algorithm\n",
    "mst_edges = get_mst_kruskal(uwg, True)\n",
    "print(sorted(mst_edges))"
   ]
  },
  {
   "cell_type": "markdown",
   "metadata": {},
   "source": [
    "#### Plotting Minimum Spanning Tree of an UWG"
   ]
  },
  {
   "cell_type": "code",
   "execution_count": 20,
   "metadata": {},
   "outputs": [],
   "source": [
    "# We then set the coordinates of each node\n",
    "uwg.node[1]['pos'] = (0, 2)\n",
    "uwg.node[2]['pos'] = (3, 2)\n",
    "uwg.node[3]['pos'] = (6, 2)\n",
    "uwg.node[4]['pos'] = (0, 0)\n",
    "uwg.node[5]['pos'] = (3, 0)\n",
    "uwg.node[6]['pos'] = (6, 0)\n",
    "uwg.node[7]['pos'] = (3,-2)\n",
    "\n",
    "# The positions of each node are stored in a dictionary\n",
    "pos = nx.get_node_attributes(uwg, 'pos')"
   ]
  },
  {
   "cell_type": "code",
   "execution_count": 21,
   "metadata": {},
   "outputs": [
    {
     "data": {
      "image/png": "[encoded data removed]",
      "text/plain": [
       "<Figure size 576x576 with 1 Axes>"
      ]
     },
     "metadata": {},
     "output_type": "display_data"
    }
   ],
   "source": [
    "# Nodes labels\n",
    "labels = {}\n",
    "for n in uwg.nodes():\n",
    "    labels[n] = n\n",
    "\n",
    "# Edges labels\n",
    "weights = {}\n",
    "for s, t, w in edges:\n",
    "    weights[(s, t)] = w\n",
    "\n",
    "# Plot Directed Weighted Graph\n",
    "plt.rcParams[\"figure.figsize\"] = [8, 8]\n",
    "nx.draw_networkx_nodes(uwg, pos, nodelist=uwg.nodes(), node_color='steelblue', node_size=500, alpha=1)\n",
    "nx.draw_networkx_edges(uwg, pos, edgelist=uwg.edges(), width=1, alpha=0.7, edge_color='black')\n",
    "nx.draw_networkx_edges(uwg, pos, edgelist=mst_edges,   width=3, alpha=0.9, edge_color='green')\n",
    "nx.draw_networkx_labels(uwg, pos, labels, font_size=12, font_color='w')\n",
    "nx.draw_networkx_edge_labels(uwg, pos, edge_labels=weights, font_color='black')\n",
    "plt.title('Minimum Spanning Tree of an UWG', fontsize=14)\n",
    "plt.axis('off')\n",
    "plt.show()"
   ]
  },
  {
   "cell_type": "markdown",
   "metadata": {},
   "source": [
    " ## 3. Shortest Path of a Directed Weighted Graph"
   ]
  },
  {
   "cell_type": "markdown",
   "metadata": {},
   "source": [
    "A directed graph or digraph is a graph in which edges have orientations."
   ]
  },
  {
   "cell_type": "code",
   "execution_count": 22,
   "metadata": {},
   "outputs": [],
   "source": [
    "# Create an empty Directed Weighted Graph (DWG)\n",
    "dwg = nx.DiGraph()"
   ]
  },
  {
   "cell_type": "code",
   "execution_count": 23,
   "metadata": {},
   "outputs": [],
   "source": [
    "# Add nodes\n",
    "nodes_list = [1, 2, 3, 4, 5]\n",
    "dwg.add_nodes_from(nodes_list)"
   ]
  },
  {
   "cell_type": "code",
   "execution_count": 24,
   "metadata": {},
   "outputs": [],
   "source": [
    "# Add weighted edges\n",
    "edges = [(1, 2, 50), (1, 3, 30), (1, 4, 100), (1, 5, 10), (3, 2, 5), (4, 2, 20), (4, 3, 50), (5, 4, 10)]\n",
    "dwg.add_weighted_edges_from(edges)"
   ]
  },
  {
   "cell_type": "code",
   "execution_count": 25,
   "metadata": {},
   "outputs": [
    {
     "name": "stdout",
     "output_type": "stream",
     "text": [
      "Graph density: 0.4\n"
     ]
    }
   ],
   "source": [
    "# Calculate the graph density\n",
    "density = get_graph_density(dwg)\n",
    "print('Graph density:', density)"
   ]
  },
  {
   "cell_type": "markdown",
   "metadata": {},
   "source": [
    "#### The Shortest Path with the Dijkstra algorithm"
   ]
  },
  {
   "cell_type": "markdown",
   "metadata": {},
   "source": [
    "Given a directed graph $ G = \\langle V, E \\rangle $, the time complexity of Dijkstra's algorithm is $ \\Theta (V^2) $ but with **min-priority queue** it drops down to $ \\Theta((E + V) \\thinspace log{V}) $."
   ]
  },
  {
   "cell_type": "code",
   "execution_count": 26,
   "metadata": {},
   "outputs": [
    {
     "data": {
      "text/plain": [
       "[1, 3, 2]"
      ]
     },
     "execution_count": 26,
     "metadata": {},
     "output_type": "execute_result"
    }
   ],
   "source": [
    "# Using Dijkstra algorithm\n",
    "sp = nx.dijkstra_path(dwg, source = 1, target = 2)\n",
    "sp"
   ]
  },
  {
   "cell_type": "code",
   "execution_count": 27,
   "metadata": {},
   "outputs": [
    {
     "data": {
      "text/plain": [
       "35"
      ]
     },
     "execution_count": 27,
     "metadata": {},
     "output_type": "execute_result"
    }
   ],
   "source": [
    "# Using Dijkstra algorithm\n",
    "sp = nx.dijkstra_path_length(dwg, source = 1, target = 2)\n",
    "sp"
   ]
  },
  {
   "cell_type": "markdown",
   "metadata": {},
   "source": [
    "#### The Dijkstra algorithm from Scratch"
   ]
  },
  {
   "cell_type": "markdown",
   "metadata": {},
   "source": [
    "Below, a detailed version of the Dijkstra algorithm for directed graphs with edges with positive weights is shown."
   ]
  },
  {
   "cell_type": "code",
   "execution_count": 28,
   "metadata": {},
   "outputs": [],
   "source": [
    "# Returns the node with a minimum own distance\n",
    "def get_min_node(nodes, weights):\n",
    "    min_node = -1\n",
    "    min_weigth = math.inf\n",
    "    \n",
    "    for n in nodes:\n",
    "        w = weights[n]\n",
    "        if w < min_weigth:\n",
    "            min_node = n\n",
    "            min_weigth = w\n",
    "    \n",
    "    return min_node"
   ]
  },
  {
   "cell_type": "code",
   "execution_count": 29,
   "metadata": {},
   "outputs": [],
   "source": [
    "# A detailed version of the Dijkstra algorithm for directed graphs with edges with positive weights \n",
    "def get_dijkstra_dist(graph, source, verbose=False):\n",
    "    nodes = list(graph.nodes())\n",
    "    edges = graph.edges()\n",
    "    \n",
    "    # Init distances\n",
    "    dists = dict()\n",
    "    for n in nodes:\n",
    "        dists[n] = (0 if n == source else math.inf)\n",
    "    paths = dict()\n",
    "    for n in nodes:\n",
    "        paths[n] = source\n",
    "    \n",
    "    # Greedy cycle\n",
    "    v = source\n",
    "    while len(nodes) > 1:        \n",
    "        nodes.remove(v)\n",
    "        if verbose:\n",
    "            print('>> curr node:', v, ', len:', len(nodes))\n",
    "        \n",
    "        # Update weights\n",
    "        for w in nodes:\n",
    "            if (v, w) in edges:\n",
    "                if dists[w] > dists[v] + edges[v, w]['weight']:\n",
    "                    dists[w] = dists[v] + edges[v, w]['weight']\n",
    "                    paths[w] = v\n",
    "                    if verbose:\n",
    "                        print('   v:', v, ', w:', w, ', weigth:', dists[w])\n",
    "        \n",
    "        # Get the node with a minimum own distance\n",
    "        v = get_min_node(nodes, dists)\n",
    "        if v == -1:\n",
    "            break\n",
    "        \n",
    "    return { 'distances': dists, 'paths': paths }"
   ]
  },
  {
   "cell_type": "code",
   "execution_count": 30,
   "metadata": {},
   "outputs": [],
   "source": [
    "# Show shortes path from source node to target node\n",
    "def get_shortes_path(dwg, source, target, verbose=False):\n",
    "    \n",
    "    # Validation\n",
    "    if not source in dwg.nodes() or not target in dwg.nodes():\n",
    "        print('Both the source and the target must exist in the graph.')\n",
    "        return {}\n",
    "    \n",
    "    start_time = timeit.default_timer()\n",
    "    \n",
    "    # Get the distance from 'source' to the other nodes\n",
    "    sol = get_dijkstra_dist(dwg, source, verbose)\n",
    "    paths = sol['paths']\n",
    "    \n",
    "    # Get shortest path from 'source' to 'target'\n",
    "    ix = target\n",
    "    path = [ix]\n",
    "    while ix != source:\n",
    "        ix = paths[ix]\n",
    "        path.append(ix)\n",
    "    path.reverse()\n",
    "    \n",
    "    weight = sol['distances'][target]\n",
    "    \n",
    "    # Elapsed time\n",
    "    if verbose:\n",
    "        elapsed = (timeit.default_timer() - start_time) * 1000\n",
    "        print('>> elapsed time', elapsed, 'ms')\n",
    "    \n",
    "    return { 'path': path, 'weight': weight }"
   ]
  },
  {
   "cell_type": "code",
   "execution_count": 31,
   "metadata": {},
   "outputs": [
    {
     "name": "stdout",
     "output_type": "stream",
     "text": [
      ">> curr node: 1 , len: 4\n",
      "   v: 1 , w: 2 , weigth: 50\n",
      "   v: 1 , w: 3 , weigth: 30\n",
      "   v: 1 , w: 4 , weigth: 100\n",
      "   v: 1 , w: 5 , weigth: 10\n",
      ">> curr node: 5 , len: 3\n",
      "   v: 5 , w: 4 , weigth: 20\n",
      ">> curr node: 4 , len: 2\n",
      "   v: 4 , w: 2 , weigth: 40\n",
      ">> curr node: 3 , len: 1\n",
      "   v: 3 , w: 2 , weigth: 35\n",
      ">> elapsed time 7.151699999999983 ms\n"
     ]
    },
    {
     "data": {
      "text/plain": [
       "{'path': [1, 3, 2], 'weight': 35}"
      ]
     },
     "execution_count": 31,
     "metadata": {},
     "output_type": "execute_result"
    }
   ],
   "source": [
    "# Example of the shortes path calculation from '1' to '2'\n",
    "source = 1\n",
    "target = 2\n",
    "sp_sol = get_shortes_path(dwg, source, target, True)\n",
    "sp_sol"
   ]
  },
  {
   "cell_type": "markdown",
   "metadata": {},
   "source": [
    "#### Plotting Shortest Path of a DWG"
   ]
  },
  {
   "cell_type": "code",
   "execution_count": 32,
   "metadata": {},
   "outputs": [],
   "source": [
    "# We then set the coordinates of each node\n",
    "dwg.node[1]['pos'] = (0, 0)\n",
    "dwg.node[2]['pos'] = (2, 2)\n",
    "dwg.node[3]['pos'] = (2,-2)\n",
    "dwg.node[4]['pos'] = (5, 2)\n",
    "dwg.node[5]['pos'] = (5,-2)\n",
    "\n",
    "# The positions of each node are stored in a dictionary\n",
    "pos = nx.get_node_attributes(dwg, 'pos')"
   ]
  },
  {
   "cell_type": "code",
   "execution_count": 33,
   "metadata": {},
   "outputs": [
    {
     "data": {
      "image/png": "[encoded data removed]",
      "text/plain": [
       "<Figure size 576x576 with 1 Axes>"
      ]
     },
     "metadata": {},
     "output_type": "display_data"
    }
   ],
   "source": [
    "# Nodes labels\n",
    "labels = {}\n",
    "for n in dwg.nodes():\n",
    "    labels[n] = n\n",
    "\n",
    "# Edges labels\n",
    "weights = {}\n",
    "for s, t, w in edges:\n",
    "    weights[(s, t)] = w\n",
    "\n",
    "sp_edges = []\n",
    "for i in range(len(sp_sol['path']) - 1):\n",
    "    e = (sp_sol['path'][i], sp_sol['path'][i+1])\n",
    "    sp_edges.append(e)\n",
    "\n",
    "# Plot Directed Weighted Graph\n",
    "plt.rcParams[\"figure.figsize\"] = [8, 8]\n",
    "nx.draw_networkx_nodes(dwg, pos, nodelist=dwg.nodes(), node_color='steelblue', node_size=500, alpha=1)\n",
    "nx.draw_networkx_edges(dwg, pos, edgelist=dwg.edges(), width=1, alpha=0.8, edge_color='black')\n",
    "nx.draw_networkx_edges(dwg, pos, edgelist=sp_edges,    width=3, alpha=0.9, edge_color='green')\n",
    "nx.draw_networkx_labels(dwg, pos, labels, font_size=12, font_color='w')\n",
    "nx.draw_networkx_edge_labels(dwg, pos, edge_labels=weights, font_color='black')\n",
    "plt.title('Shortest Path of a DWG', fontsize=14)\n",
    "plt.axis('off')\n",
    "plt.show()"
   ]
  },
  {
   "cell_type": "markdown",
   "metadata": {},
   "source": [
    "## 4. Floyd-Warshall algorithm"
   ]
  },
  {
   "cell_type": "markdown",
   "metadata": {},
   "source": [
    "The **Floyd–Warshall** algorithm is a method for finding shortest paths in a weighted graph with positive or negative edge weights (but with no negative cycles)."
   ]
  },
  {
   "cell_type": "markdown",
   "metadata": {},
   "source": [
    "The Floyd–Warshall algorithm compares all possible paths through the graph between each pair of vertices. It is able to do this with $ \\Theta (|V|^{3}) $ comparisons in a graph."
   ]
  },
  {
   "cell_type": "code",
   "execution_count": 34,
   "metadata": {},
   "outputs": [],
   "source": [
    "# Algorithm for finding shortest paths in a directed weighted graph\n",
    "def floyd_warshall_paths(g, verbose=False):\n",
    "    start_time = timeit.default_timer()\n",
    "    \n",
    "    edges = g.edges(data=True)\n",
    "    vertices = list(g.nodes())\n",
    "    n_vertices = len(vertices)\n",
    "    \n",
    "    # Init dist matrix\n",
    "    dist = [[math.inf for j in range(n_vertices)] for i in range(n_vertices)]\n",
    "    path = [[None for j in range(n_vertices)] for i in range(n_vertices)]\n",
    "    \n",
    "    for (u, v, w) in edges:\n",
    "        u = u - 1\n",
    "        v = v - 1\n",
    "        w = w['weight']\n",
    "        dist[u][v] = w\n",
    "        path[u][v] = v + 1\n",
    "    \n",
    "    for v in range(n_vertices):\n",
    "        dist[v][v] = 0\n",
    "        path[v][v] = v + 1\n",
    "    \n",
    "    if verbose:\n",
    "        print('>> run floyd-warshall algorithm')\n",
    "        \n",
    "    for k in range(n_vertices):\n",
    "        for i in range(n_vertices):\n",
    "            for j in range(n_vertices):\n",
    "                new_val = dist[i][k] + dist[k][j]\n",
    "                \n",
    "                if dist[i][j] > new_val:\n",
    "                    dist[i][j] = new_val\n",
    "                    path[i][j] = path[i][k]\n",
    "                    \n",
    "                    if verbose:\n",
    "                        print('   update edge (', i, ',', j, '), value:', new_val)\n",
    "    \n",
    "    # Elapsed time\n",
    "    if verbose:\n",
    "        elapsed = (timeit.default_timer() - start_time) * 1000\n",
    "        print('>> elapsed time', elapsed, 'ms')\n",
    "    \n",
    "    # Return nodes and dist matrix\n",
    "    return {'nodes': vertices, 'dist': dist, 'path': path}"
   ]
  },
  {
   "cell_type": "code",
   "execution_count": 35,
   "metadata": {},
   "outputs": [
    {
     "name": "stdout",
     "output_type": "stream",
     "text": [
      ">> run floyd-warshall algorithm\n",
      "   update edge ( 0 , 1 ), value: 35\n",
      "   update edge ( 4 , 1 ), value: 30\n",
      "   update edge ( 4 , 2 ), value: 60\n",
      "   update edge ( 0 , 3 ), value: 20\n",
      ">> elapsed time 8.6986 ms\n"
     ]
    }
   ],
   "source": [
    "# Calculate the Floyd-Warshall paths\n",
    "sol = floyd_warshall_paths(dwg, True)"
   ]
  },
  {
   "cell_type": "code",
   "execution_count": 36,
   "metadata": {},
   "outputs": [
    {
     "data": {
      "text/plain": [
       "('nodes:', [1, 2, 3, 4, 5])"
      ]
     },
     "execution_count": 36,
     "metadata": {},
     "output_type": "execute_result"
    }
   ],
   "source": [
    "# Show Floyd-Warshall results\n",
    "'nodes:', sol['nodes']"
   ]
  },
  {
   "cell_type": "code",
   "execution_count": 37,
   "metadata": {},
   "outputs": [
    {
     "name": "stdout",
     "output_type": "stream",
     "text": [
      "dist matrix:\n"
     ]
    },
    {
     "data": {
      "text/plain": [
       "[[0, 35, 30, 20, 10],\n",
       " [inf, 0, inf, inf, inf],\n",
       " [inf, 5, 0, inf, inf],\n",
       " [inf, 20, 50, 0, inf],\n",
       " [inf, 30, 60, 10, 0]]"
      ]
     },
     "execution_count": 37,
     "metadata": {},
     "output_type": "execute_result"
    }
   ],
   "source": [
    "print('dist matrix:')\n",
    "sol['dist']"
   ]
  },
  {
   "cell_type": "code",
   "execution_count": 38,
   "metadata": {},
   "outputs": [
    {
     "name": "stdout",
     "output_type": "stream",
     "text": [
      "path matrix:\n"
     ]
    },
    {
     "data": {
      "text/plain": [
       "[[1, 3, 3, 5, 5],\n",
       " [None, 2, None, None, None],\n",
       " [None, 2, 3, None, None],\n",
       " [None, 2, 3, 4, None],\n",
       " [None, 4, 4, 4, 5]]"
      ]
     },
     "execution_count": 38,
     "metadata": {},
     "output_type": "execute_result"
    }
   ],
   "source": [
    "print('path matrix:')\n",
    "sol['path']"
   ]
  },
  {
   "cell_type": "code",
   "execution_count": 39,
   "metadata": {},
   "outputs": [],
   "source": [
    "# Returns the shortest path from a Floyd-Warshall distance matrix\n",
    "def get_path(paths, u, v):\n",
    "    \n",
    "    # Validation\n",
    "    if paths[u - 1][v - 1] is None:\n",
    "        return []\n",
    "    \n",
    "    # Build the shortest path\n",
    "    path = [u]\n",
    "    while u != v:\n",
    "        u = paths[u - 1][v - 1]\n",
    "        path.append(u)\n",
    "    \n",
    "    return path"
   ]
  },
  {
   "cell_type": "code",
   "execution_count": 40,
   "metadata": {},
   "outputs": [
    {
     "data": {
      "text/plain": [
       "[1, 3, 2]"
      ]
     },
     "execution_count": 40,
     "metadata": {},
     "output_type": "execute_result"
    }
   ],
   "source": [
    "# Show the shortes path from '1' to '2'\n",
    "source = 1\n",
    "target = 2\n",
    "get_path(sol['path'], source, target)"
   ]
  },
  {
   "cell_type": "markdown",
   "metadata": {},
   "source": [
    "---\n",
    "<a href=\"https://ansegura7.github.io/Algorithms/\">« Home</a>"
   ]
  }
 ],
 "metadata": {
  "kernelspec": {
   "display_name": "Python 3",
   "language": "python",
   "name": "python3"
  },
  "language_info": {
   "codemirror_mode": {
    "name": "ipython",
    "version": 3
   },
   "file_extension": ".py",
   "mimetype": "text/x-python",
   "name": "python",
   "nbconvert_exporter": "python",
   "pygments_lexer": "ipython3",
   "version": "3.6.8"
  },
  "varInspector": {
   "cols": {
    "lenName": 16,
    "lenType": 16,
    "lenVar": 40
   },
   "kernels_config": {
    "python": {
     "delete_cmd_postfix": "",
     "delete_cmd_prefix": "del ",
     "library": "var_list.py",
     "varRefreshCmd": "print(var_dic_list())"
    },
    "r": {
     "delete_cmd_postfix": ") ",
     "delete_cmd_prefix": "rm(",
     "library": "var_list.r",
     "varRefreshCmd": "cat(var_dic_list()) "
    }
   },
   "types_to_exclude": [
    "module",
    "function",
    "builtin_function_or_method",
    "instance",
    "_Feature"
   ],
   "window_display": false
  }
 },
 "nbformat": 4,
 "nbformat_minor": 2
}
