{
 "cells": [
  {
   "cell_type": "markdown",
   "metadata": {},
   "source": [
    "# Graphs with NetworkX"
   ]
  },
  {
   "cell_type": "markdown",
   "metadata": {},
   "source": [
    "- **Created by Andrés Segura Tinoco**\n",
    "- **Created on Nov 27, 2019**"
   ]
  },
  {
   "cell_type": "markdown",
   "metadata": {},
   "source": [
    "**NetworkX** is a Python package for the creation, manipulation, and study of the structure, dynamics, and functions of complex networks <a href=\"#link_one\">[1]</a>. In this notebook we will use this library to analyze graphs."
   ]
  },
  {
   "cell_type": "code",
   "execution_count": 1,
   "metadata": {},
   "outputs": [],
   "source": [
    "# Load the Python libraries\n",
    "import networkx as nx\n",
    "import numpy as np\n",
    "import math\n",
    "import timeit"
   ]
  },
  {
   "cell_type": "code",
   "execution_count": 2,
   "metadata": {},
   "outputs": [],
   "source": [
    "# Load Plotting libraries\n",
    "import matplotlib.pyplot as plt"
   ]
  },
  {
   "cell_type": "code",
   "execution_count": 3,
   "metadata": {},
   "outputs": [
    {
     "name": "stdout",
     "output_type": "stream",
     "text": [
      "Networkx version: 2.3\n"
     ]
    }
   ],
   "source": [
    "print('Networkx version:', nx.__version__)"
   ]
  },
  {
   "cell_type": "markdown",
   "metadata": {},
   "source": [
    "## 1. Graph or Undirected Simple Graph"
   ]
  },
  {
   "cell_type": "markdown",
   "metadata": {},
   "source": [
    "A graph (sometimes called undirected graph for distinguishing from a directed graph) is a pair $ G = (V, E) $, where $V$ is a set whose elements are called vertices (singular: vertex), and $E$ is a set of two-sets (sets with two distinct elements) of vertices, whose elements are called edges (sometimes links or lines). <a href=\"#link_two\">[2]</a>\n",
    "\n",
    "The vertices $u$ and $v$ of an edge $ \\{ u, v \\} $ are called the endpoints of the edge. The edge is said to join $u$ and $v$ and to be incident on $u$ and $v$. A vertex may not belong to any edge.\n",
    "\n",
    "A multigraph is a generalization that allows multiple edges adjacent to the same pair of vertices. In some texts, multigraphs are simply called graphs."
   ]
  },
  {
   "cell_type": "code",
   "execution_count": 4,
   "metadata": {},
   "outputs": [],
   "source": [
    "# Create an empty Undirected Simple Graph (USG)\n",
    "usg = nx.Graph()"
   ]
  },
  {
   "cell_type": "code",
   "execution_count": 5,
   "metadata": {},
   "outputs": [
    {
     "name": "stdout",
     "output_type": "stream",
     "text": [
      "[1, 2, 3, 4, 5]\n"
     ]
    }
   ],
   "source": [
    "# Add nodes/vertices\n",
    "nodes_list = [1, 2, 3, 4, 5]\n",
    "usg.add_nodes_from(nodes_list)\n",
    "print(usg.nodes())"
   ]
  },
  {
   "cell_type": "code",
   "execution_count": 6,
   "metadata": {},
   "outputs": [
    {
     "name": "stdout",
     "output_type": "stream",
     "text": [
      "[(1, 2), (1, 3), (1, 4), (1, 5), (2, 3), (2, 4), (3, 4), (4, 5)]\n"
     ]
    }
   ],
   "source": [
    "# Add edges\n",
    "edges_list = [(1, 2), (1, 3), (1, 4), (1, 5), (3, 2), (4, 2), (4, 3), (5, 4)]\n",
    "usg.add_edges_from(edges_list)\n",
    "print(usg.edges())"
   ]
  },
  {
   "cell_type": "markdown",
   "metadata": {},
   "source": [
    "#### Graph density"
   ]
  },
  {
   "cell_type": "code",
   "execution_count": 7,
   "metadata": {},
   "outputs": [],
   "source": [
    "# Function that calculates the graph density\n",
    "def get_graph_density(g):\n",
    "    n_nodes = len(g.nodes())\n",
    "    n_edges = len(g.edges())\n",
    "    print('n_nodes:', n_nodes, ', n_edges:', n_edges)\n",
    "    \n",
    "    if nx.is_directed(g):\n",
    "        density = n_edges / (n_nodes * (n_nodes - 1))\n",
    "    else:\n",
    "        density = 2 * n_edges / (n_nodes * (n_nodes - 1))\n",
    "    \n",
    "    return density"
   ]
  },
  {
   "cell_type": "code",
   "execution_count": 8,
   "metadata": {},
   "outputs": [
    {
     "name": "stdout",
     "output_type": "stream",
     "text": [
      "n_nodes: 5 , n_edges: 8\n",
      "graph density: 0.8\n"
     ]
    }
   ],
   "source": [
    "# Calculate the graph density\n",
    "density = get_graph_density(usg)\n",
    "print('graph density:', density)"
   ]
  },
  {
   "cell_type": "markdown",
   "metadata": {},
   "source": [
    "#### Vertex degree"
   ]
  },
  {
   "cell_type": "code",
   "execution_count": 9,
   "metadata": {},
   "outputs": [
    {
     "data": {
      "text/plain": [
       "4"
      ]
     },
     "execution_count": 9,
     "metadata": {},
     "output_type": "execute_result"
    }
   ],
   "source": [
    "# Degree of node 1 = δ(1)\n",
    "usg.degree[1]"
   ]
  },
  {
   "cell_type": "code",
   "execution_count": 10,
   "metadata": {},
   "outputs": [
    {
     "data": {
      "text/plain": [
       "[2, 3, 4, 5]"
      ]
     },
     "execution_count": 10,
     "metadata": {},
     "output_type": "execute_result"
    }
   ],
   "source": [
    "# Get neighbors of node 1\n",
    "list(usg.neighbors(1))"
   ]
  },
  {
   "cell_type": "markdown",
   "metadata": {},
   "source": [
    "#### Adjacency matrix"
   ]
  },
  {
   "cell_type": "code",
   "execution_count": 11,
   "metadata": {},
   "outputs": [
    {
     "data": {
      "text/plain": [
       "matrix([[0, 1, 1, 1, 1],\n",
       "        [1, 0, 1, 1, 0],\n",
       "        [1, 1, 0, 1, 0],\n",
       "        [1, 1, 1, 0, 1],\n",
       "        [1, 0, 0, 1, 0]], dtype=int32)"
      ]
     },
     "execution_count": 11,
     "metadata": {},
     "output_type": "execute_result"
    }
   ],
   "source": [
    "# Calculate the adjacency between the nodes\n",
    "adj_mtx = nx.adjacency_matrix(usg).todense()\n",
    "adj_mtx"
   ]
  },
  {
   "cell_type": "code",
   "execution_count": 12,
   "metadata": {},
   "outputs": [
    {
     "data": {
      "image/png": "[encoded data removed]",
      "text/plain": [
       "<Figure size 432x288 with 1 Axes>"
      ]
     },
     "metadata": {
      "needs_background": "light"
     },
     "output_type": "display_data"
    }
   ],
   "source": [
    "# Plotting the Adjacency matrix\n",
    "fig, ax = plt.subplots()\n",
    "ax.imshow(adj_mtx, cmap=\"Blues\")\n",
    "ax.set_xticks(np.arange(len(nodes_list)))\n",
    "ax.set_yticks(np.arange(len(nodes_list)))\n",
    "ax.set_xticklabels(nodes_list)\n",
    "ax.set_yticklabels(nodes_list)\n",
    "\n",
    "for i in range(len(nodes_list)):\n",
    "    for j in range(len(nodes_list)):\n",
    "        text_color = 'black' if adj_mtx[i, j] == 0 else 'white'\n",
    "        text = ax.text(j, i, adj_mtx[i, j], ha=\"center\", va=\"center\", color=text_color)\n",
    "\n",
    "ax.set_title(\"Adjacency matrix\", fontsize=12)\n",
    "plt.show()"
   ]
  },
  {
   "cell_type": "markdown",
   "metadata": {},
   "source": [
    "#### Incidence matrix"
   ]
  },
  {
   "cell_type": "code",
   "execution_count": 13,
   "metadata": {},
   "outputs": [
    {
     "data": {
      "text/plain": [
       "matrix([[1., 1., 1., 1., 0., 0., 0., 0.],\n",
       "        [1., 0., 0., 0., 1., 1., 0., 0.],\n",
       "        [0., 1., 0., 0., 1., 0., 1., 0.],\n",
       "        [0., 0., 1., 0., 0., 1., 1., 1.],\n",
       "        [0., 0., 0., 1., 0., 0., 0., 1.]])"
      ]
     },
     "execution_count": 13,
     "metadata": {},
     "output_type": "execute_result"
    }
   ],
   "source": [
    "# Calculate the incidence of the edges on the nodes\n",
    "inc_mtx = nx.incidence_matrix(usg).todense()\n",
    "inc_mtx"
   ]
  },
  {
   "cell_type": "code",
   "execution_count": 14,
   "metadata": {},
   "outputs": [
    {
     "data": {
      "image/png": "[encoded data removed]",
      "text/plain": [
       "<Figure size 432x288 with 1 Axes>"
      ]
     },
     "metadata": {
      "needs_background": "light"
     },
     "output_type": "display_data"
    }
   ],
   "source": [
    "# Plotting the Incidence matrix\n",
    "fig, ax = plt.subplots()\n",
    "ax.imshow(inc_mtx, cmap=\"Blues\")\n",
    "ax.set_xticks(np.arange(len(edges_list)))\n",
    "ax.set_yticks(np.arange(len(nodes_list)))\n",
    "ax.set_xticklabels(edges_list)\n",
    "ax.set_yticklabels(nodes_list)\n",
    "\n",
    "for i in range(len(nodes_list)):\n",
    "    for j in range(len(edges_list)):\n",
    "        text_color = 'black' if inc_mtx[i, j] == 0 else 'white'\n",
    "        text = ax.text(j, i, int(inc_mtx[i, j]), ha=\"center\", va=\"center\", color=text_color)\n",
    "\n",
    "ax.set_title(\"Incidence matrix\", fontsize=12)\n",
    "plt.show()"
   ]
  },
  {
   "cell_type": "markdown",
   "metadata": {},
   "source": [
    "#### Plotting Undirected Simple Graph"
   ]
  },
  {
   "cell_type": "code",
   "execution_count": 15,
   "metadata": {},
   "outputs": [
    {
     "data": {
      "text/plain": [
       "{1: array([0.2960767 , 0.16632341]),\n",
       " 2: array([ 0.41608427, -0.59153599]),\n",
       " 3: array([-0.2723302 , -0.67006185]),\n",
       " 4: array([-0.32585397,  0.09527443]),\n",
       " 5: array([-0.1139768,  1.       ])}"
      ]
     },
     "execution_count": 15,
     "metadata": {},
     "output_type": "execute_result"
    }
   ],
   "source": [
    "# Get nodes positions with spring layout\n",
    "pos = nx.layout.spring_layout(usg)\n",
    "pos"
   ]
  },
  {
   "cell_type": "code",
   "execution_count": 16,
   "metadata": {},
   "outputs": [
    {
     "data": {
      "image/png": "[encoded data removed]",
      "text/plain": [
       "<Figure size 360x360 with 1 Axes>"
      ]
     },
     "metadata": {},
     "output_type": "display_data"
    }
   ],
   "source": [
    "# Plot Undirected Simple Graph (free format)\n",
    "plt.rcParams[\"figure.figsize\"] = [5, 5]\n",
    "nx.draw(usg, with_labels=True)\n",
    "plt.title('Undirected Simple Graph (USG)', fontsize=14)\n",
    "plt.axis('off')\n",
    "plt.show()"
   ]
  },
  {
   "cell_type": "markdown",
   "metadata": {},
   "source": [
    "## 2. Graph Traversal"
   ]
  },
  {
   "cell_type": "markdown",
   "metadata": {},
   "source": [
    "In computer science, graph traversal (also known as graph search) refers to the process of visiting (checking and/or updating) each vertex in a graph. Such traversals are classified by the order in which the vertices are visited. Tree traversal is a special case of graph traversal. <a href=\"#link_three\">[3]</a>"
   ]
  },
  {
   "cell_type": "markdown",
   "metadata": {},
   "source": [
    "Given the following undirected graph:"
   ]
  },
  {
   "cell_type": "code",
   "execution_count": 17,
   "metadata": {},
   "outputs": [],
   "source": [
    "# Create an empty Undirected Weighted Graph (UWG)\n",
    "usg = nx.Graph()"
   ]
  },
  {
   "cell_type": "code",
   "execution_count": 18,
   "metadata": {},
   "outputs": [],
   "source": [
    "# Add nodes\n",
    "nodes_list = [1, 2, 3, 4, 5, 6, 7, 8, 9]\n",
    "usg.add_nodes_from(nodes_list)"
   ]
  },
  {
   "cell_type": "code",
   "execution_count": 19,
   "metadata": {},
   "outputs": [],
   "source": [
    "# Add weighted edges\n",
    "edges_list = [(1, 2), (1, 3), (1, 4), (2, 3), (2, 5), (2, 6), (3, 6), (4, 7), (4, 8), (5, 6), (5, 9), (7, 8)]\n",
    "usg.add_edges_from(edges_list)"
   ]
  },
  {
   "cell_type": "code",
   "execution_count": 20,
   "metadata": {},
   "outputs": [],
   "source": [
    "# We then set the coordinates of each node\n",
    "usg.node[1]['pos'] = (2, 2)\n",
    "usg.node[2]['pos'] = (0, 0)\n",
    "usg.node[3]['pos'] = (2, 0)\n",
    "usg.node[4]['pos'] = (4, 0)\n",
    "usg.node[5]['pos'] = (0,-2)\n",
    "usg.node[6]['pos'] = (2,-2)\n",
    "usg.node[7]['pos'] = (4,-2)\n",
    "usg.node[8]['pos'] = (6,-2)\n",
    "usg.node[9]['pos'] = (0,-4)\n",
    "\n",
    "# The positions of each node are stored in a dictionary\n",
    "pos = nx.get_node_attributes(usg, 'pos')"
   ]
  },
  {
   "cell_type": "code",
   "execution_count": 21,
   "metadata": {},
   "outputs": [
    {
     "data": {
      "image/png": "[encoded data removed]",
      "text/plain": [
       "<Figure size 648x576 with 1 Axes>"
      ]
     },
     "metadata": {},
     "output_type": "display_data"
    }
   ],
   "source": [
    "# Nodes labels\n",
    "labels = {}\n",
    "for n in usg.nodes():\n",
    "    labels[n] = n\n",
    "    \n",
    "# Plot Directed Weighted Graph\n",
    "plt.rcParams[\"figure.figsize\"] = [9, 8]\n",
    "nx.draw_networkx_nodes(usg, pos, nodelist=usg.nodes(), node_color='steelblue', node_size=500, alpha=1)\n",
    "nx.draw_networkx_edges(usg, pos, edgelist=usg.edges(), width=1, alpha=0.7, edge_color='black')\n",
    "nx.draw_networkx_labels(usg, pos, labels, font_size=12, font_color='w')\n",
    "plt.title('Undirected Simple Graph (USG)', fontsize=14)\n",
    "plt.axis('off')\n",
    "plt.show()"
   ]
  },
  {
   "cell_type": "markdown",
   "metadata": {},
   "source": [
    "### 2.1. Breadth-first search"
   ]
  },
  {
   "cell_type": "code",
   "execution_count": 22,
   "metadata": {},
   "outputs": [],
   "source": [
    "# Save the node and mark it as visited\n",
    "def add_node(g, v, v_visited, verbose):\n",
    "    v_visited.append(v)\n",
    "    if verbose:\n",
    "        print('   added vertex:', v, ', available neighbors:', list(set(g.neighbors(v)) - set(v_visited)))"
   ]
  },
  {
   "cell_type": "code",
   "execution_count": 23,
   "metadata": {},
   "outputs": [],
   "source": [
    "# Linear function that performs the search\n",
    "def breadth_traversal(g, v, v_visited, verbose):\n",
    "    \n",
    "    # Add the vertex\n",
    "    v_visited.append(v)\n",
    "    queue = [v]\n",
    "            \n",
    "    while len(queue) > 0:\n",
    "        u = queue.pop(0)\n",
    "        \n",
    "        for w in g.neighbors(u):\n",
    "            if not w in v_visited:\n",
    "                add_node(g, w, v_visited, verbose)\n",
    "                queue.append(w)\n",
    "\n",
    "# Function that performs a breadth-first search\n",
    "def bfs(g, verbose=False):\n",
    "    start_time = timeit.default_timer()\n",
    "    v_visited = []\n",
    "    \n",
    "    if verbose:\n",
    "        print('>> breadth-first search - n_vertices:', len(g.nodes()), ', n_edges:', len(g.edges()))\n",
    "    \n",
    "    for v in g.nodes():\n",
    "        if not v in v_visited:\n",
    "            breadth_traversal(g, v, v_visited, verbose)\n",
    "    \n",
    "    # Elapsed time\n",
    "    if verbose:\n",
    "        elapsed = (timeit.default_timer() - start_time) * 1000\n",
    "        print('>> elapsed time', elapsed, 'ms')\n",
    "    \n",
    "    return v_visited"
   ]
  },
  {
   "cell_type": "code",
   "execution_count": 24,
   "metadata": {},
   "outputs": [
    {
     "name": "stdout",
     "output_type": "stream",
     "text": [
      ">> breadth-first search - n_vertices: 9 , n_edges: 12\n",
      "   added vertex: 2 , available neighbors: [3, 5, 6]\n",
      "   added vertex: 3 , available neighbors: [6]\n",
      "   added vertex: 4 , available neighbors: [8, 7]\n",
      "   added vertex: 5 , available neighbors: [9, 6]\n",
      "   added vertex: 6 , available neighbors: []\n",
      "   added vertex: 7 , available neighbors: [8]\n",
      "   added vertex: 8 , available neighbors: []\n",
      "   added vertex: 9 , available neighbors: []\n",
      ">> elapsed time 8.8967 ms\n"
     ]
    },
    {
     "data": {
      "text/plain": [
       "[1, 2, 3, 4, 5, 6, 7, 8, 9]"
      ]
     },
     "execution_count": 24,
     "metadata": {},
     "output_type": "execute_result"
    }
   ],
   "source": [
    "# Run the breadth-first search on the current undirected graph\n",
    "bfs(usg, True)"
   ]
  },
  {
   "cell_type": "markdown",
   "metadata": {},
   "source": [
    "### 2.2. Depth-first search"
   ]
  },
  {
   "cell_type": "code",
   "execution_count": 25,
   "metadata": {},
   "outputs": [],
   "source": [
    "# Recursive function that performs the search\n",
    "def depth_traversal(g, v, v_visited, verbose):\n",
    "    \n",
    "    # Add the vertex\n",
    "    add_node(g, v, v_visited, verbose)\n",
    "    \n",
    "    for w in g.neighbors(v):\n",
    "        if not w in v_visited:\n",
    "            depth_traversal(g, w, v_visited, verbose)\n",
    "\n",
    "# Function that performs a depth-first search\n",
    "def dfs(g, verbose=False):\n",
    "    start_time = timeit.default_timer()\n",
    "    v_visited = []\n",
    "    \n",
    "    if verbose:\n",
    "        print('>> depth-first search - n_vertices:', len(g.nodes()), ', n_edges:', len(g.edges()))\n",
    "    \n",
    "    for v in g.nodes():\n",
    "        if not v in v_visited:\n",
    "            depth_traversal(g, v, v_visited, verbose)\n",
    "    \n",
    "    # Elapsed time\n",
    "    if verbose:\n",
    "        elapsed = (timeit.default_timer() - start_time) * 1000\n",
    "        print('>> elapsed time', elapsed, 'ms')\n",
    "    \n",
    "    return v_visited"
   ]
  },
  {
   "cell_type": "code",
   "execution_count": 26,
   "metadata": {},
   "outputs": [
    {
     "name": "stdout",
     "output_type": "stream",
     "text": [
      ">> depth-first search - n_vertices: 9 , n_edges: 12\n",
      "   added vertex: 1 , available neighbors: [2, 3, 4]\n",
      "   added vertex: 2 , available neighbors: [3, 5, 6]\n",
      "   added vertex: 3 , available neighbors: [6]\n",
      "   added vertex: 6 , available neighbors: [5]\n",
      "   added vertex: 5 , available neighbors: [9]\n",
      "   added vertex: 9 , available neighbors: []\n",
      "   added vertex: 4 , available neighbors: [8, 7]\n",
      "   added vertex: 7 , available neighbors: [8]\n",
      "   added vertex: 8 , available neighbors: []\n",
      ">> elapsed time 14.650400000000001 ms\n"
     ]
    },
    {
     "data": {
      "text/plain": [
       "[1, 2, 3, 6, 5, 9, 4, 7, 8]"
      ]
     },
     "execution_count": 26,
     "metadata": {},
     "output_type": "execute_result"
    }
   ],
   "source": [
    "# Run the depth-first search (recursive) on the current undirected graph\n",
    "dfs(usg, True)"
   ]
  },
  {
   "cell_type": "markdown",
   "metadata": {},
   "source": [
    "## 3. Minimum Spanning Tree of an Undirected Weighted Graph"
   ]
  },
  {
   "cell_type": "markdown",
   "metadata": {},
   "source": [
    "A minimum spanning tree <b>(MST)</b> or minimum weight spanning tree is a subset of the edges of a connected, edge-weighted undirected graph <b>(UWG)</b> that connects all the vertices together, without any cycles and with the minimum possible total edge weight. <a href=\"#link_four\">[4]</a>\n",
    "\n",
    "If the weights are positive, then a minimum spanning tree is in fact a minimum-cost subgraph connecting all vertices, since subgraphs containing cycles necessarily have more total weight."
   ]
  },
  {
   "cell_type": "code",
   "execution_count": 27,
   "metadata": {},
   "outputs": [],
   "source": [
    "# Create an empty Undirected Weighted Graph (UWG)\n",
    "uwg = nx.Graph()"
   ]
  },
  {
   "cell_type": "code",
   "execution_count": 28,
   "metadata": {},
   "outputs": [],
   "source": [
    "# Add nodes\n",
    "nodes_list = [1, 2, 3, 4, 5, 6, 7]\n",
    "uwg.add_nodes_from(nodes_list)"
   ]
  },
  {
   "cell_type": "code",
   "execution_count": 29,
   "metadata": {},
   "outputs": [],
   "source": [
    "# Add weighted edges\n",
    "edges_list = [(1, 2, 1), (1, 4, 4), (2, 3, 2), (2, 4, 6), (2, 5, 4), (3, 5, 5), \n",
    "              (3, 6, 6), (4, 5, 3), (4, 7, 4), (5, 6, 8), (5, 7, 7), (6, 7, 3)]\n",
    "uwg.add_weighted_edges_from(edges_list)"
   ]
  },
  {
   "cell_type": "markdown",
   "metadata": {},
   "source": [
    "### 3.1. The MST with the Prim algorithm"
   ]
  },
  {
   "cell_type": "code",
   "execution_count": 30,
   "metadata": {},
   "outputs": [
    {
     "name": "stdout",
     "output_type": "stream",
     "text": [
      "[(1, 2, {'weight': 1}), (1, 4, {'weight': 4}), (2, 3, {'weight': 2}), (4, 5, {'weight': 3}), (4, 7, {'weight': 4}), (6, 7, {'weight': 3})]\n"
     ]
    }
   ],
   "source": [
    "# Calculate a minimum spanning tree of an undirected weighted graph with the Prim algorithm\n",
    "mst = nx.minimum_spanning_tree(uwg, algorithm='prim')\n",
    "print(sorted(mst.edges(data=True)))"
   ]
  },
  {
   "cell_type": "markdown",
   "metadata": {},
   "source": [
    "### 3.2. The MST with the Kruskal algorithm from Scratch"
   ]
  },
  {
   "cell_type": "markdown",
   "metadata": {},
   "source": [
    "Below, the Kruskal's minimum spanning tree algorithm with utility functions for sets union."
   ]
  },
  {
   "cell_type": "code",
   "execution_count": 31,
   "metadata": {},
   "outputs": [],
   "source": [
    "# A utility function to find set of an element n\n",
    "def find(s, n):\n",
    "    if s[n] == n:\n",
    "        return n\n",
    "    return find(s, s[n])\n",
    "\n",
    "# A function that does union of two sets of u and v (uses union by rank)\n",
    "def union(s, r, u, v):\n",
    "    comp_u = find(s, u)\n",
    "    comp_v = find(s, v)\n",
    "    \n",
    "    if r[comp_u] < r[comp_v]:\n",
    "        s[comp_u] = comp_v\n",
    "    elif r[comp_u] > r[comp_v]:\n",
    "        s[comp_v] = comp_u\n",
    "    else:\n",
    "        s[comp_v] = comp_u\n",
    "        r[comp_u] += 1"
   ]
  },
  {
   "cell_type": "code",
   "execution_count": 32,
   "metadata": {},
   "outputs": [],
   "source": [
    "# Find the minimum spanning tree into the graph\n",
    "def get_mst_kruskal(uwg, verbose=False):\n",
    "    start_time = timeit.default_timer()\n",
    "    min_tree = []\n",
    "    \n",
    "    # Sort all the edges in non-decreasing order of their weight\n",
    "    edges = uwg.edges(data=True)\n",
    "    edges = sorted(edges, key=lambda t: t[2].get('weight', 1))\n",
    "    n_edges = len(edges)\n",
    "    n_nodes = len(uwg.nodes())\n",
    "    \n",
    "    # Create N subsets with single elements\n",
    "    s_tree = dict()\n",
    "    rank = dict()\n",
    "    for node in uwg.nodes():\n",
    "        s_tree[node] = node\n",
    "        rank[node] = 0\n",
    "    \n",
    "    if verbose:\n",
    "        print('>> n_nodes:', n_nodes, ', n_edges:', n_edges)\n",
    "    \n",
    "    ix = 0\n",
    "    while len(min_tree) < n_nodes - 1 and ix < n_edges:\n",
    "        u, v, w = edges[ix]\n",
    "        comp_u = find(s_tree, u)\n",
    "        comp_v = find(s_tree, v)\n",
    "        if verbose:\n",
    "            print('>> ix:', ix, ', edge:', edges[ix])\n",
    "        \n",
    "        if comp_u != comp_v:\n",
    "            union(s_tree, rank, comp_u, comp_v)\n",
    "            min_tree.append(edges[ix])\n",
    "            \n",
    "            if verbose:\n",
    "                print('   added edge in comp_u:', comp_u, ', comp_v:', comp_v)\n",
    "        else:\n",
    "            print('   rejected edge')\n",
    "        ix += 1\n",
    "    \n",
    "    # Elapsed time\n",
    "    if verbose:\n",
    "        elapsed = (timeit.default_timer() - start_time) * 1000\n",
    "        print('>> elapsed time', elapsed, 'ms')\n",
    "    \n",
    "    return min_tree"
   ]
  },
  {
   "cell_type": "code",
   "execution_count": 33,
   "metadata": {},
   "outputs": [
    {
     "name": "stdout",
     "output_type": "stream",
     "text": [
      ">> n_nodes: 7 , n_edges: 12\n",
      ">> ix: 0 , edge: (1, 2, {'weight': 1})\n",
      "   added edge in comp_u: 1 , comp_v: 2\n",
      ">> ix: 1 , edge: (2, 3, {'weight': 2})\n",
      "   added edge in comp_u: 1 , comp_v: 3\n",
      ">> ix: 2 , edge: (4, 5, {'weight': 3})\n",
      "   added edge in comp_u: 4 , comp_v: 5\n",
      ">> ix: 3 , edge: (6, 7, {'weight': 3})\n",
      "   added edge in comp_u: 6 , comp_v: 7\n",
      ">> ix: 4 , edge: (1, 4, {'weight': 4})\n",
      "   added edge in comp_u: 1 , comp_v: 4\n",
      ">> ix: 5 , edge: (2, 5, {'weight': 4})\n",
      "   rejected edge\n",
      ">> ix: 6 , edge: (4, 7, {'weight': 4})\n",
      "   added edge in comp_u: 1 , comp_v: 6\n",
      ">> elapsed time 8.546999999999999 ms\n",
      "[(1, 2, {'weight': 1}), (1, 4, {'weight': 4}), (2, 3, {'weight': 2}), (4, 5, {'weight': 3}), (4, 7, {'weight': 4}), (6, 7, {'weight': 3})]\n"
     ]
    }
   ],
   "source": [
    "# Calculate a minimum spanning tree from scratch with the Prim algorithm\n",
    "mst_edges = get_mst_kruskal(uwg, True)\n",
    "print(sorted(mst_edges))"
   ]
  },
  {
   "cell_type": "markdown",
   "metadata": {},
   "source": [
    "#### Plotting Minimum Spanning Tree of an UWG"
   ]
  },
  {
   "cell_type": "code",
   "execution_count": 34,
   "metadata": {},
   "outputs": [],
   "source": [
    "# We then set the coordinates of each node\n",
    "uwg.node[1]['pos'] = (0, 2)\n",
    "uwg.node[2]['pos'] = (3, 2)\n",
    "uwg.node[3]['pos'] = (6, 2)\n",
    "uwg.node[4]['pos'] = (0, 0)\n",
    "uwg.node[5]['pos'] = (3, 0)\n",
    "uwg.node[6]['pos'] = (6, 0)\n",
    "uwg.node[7]['pos'] = (3,-2)\n",
    "\n",
    "# The positions of each node are stored in a dictionary\n",
    "pos = nx.get_node_attributes(uwg, 'pos')"
   ]
  },
  {
   "cell_type": "code",
   "execution_count": 35,
   "metadata": {},
   "outputs": [
    {
     "data": {
      "image/png": "[encoded data removed]",
      "text/plain": [
       "<Figure size 576x576 with 1 Axes>"
      ]
     },
     "metadata": {},
     "output_type": "display_data"
    }
   ],
   "source": [
    "# Nodes labels\n",
    "labels = {}\n",
    "for n in uwg.nodes():\n",
    "    labels[n] = n\n",
    "\n",
    "# Edges labels\n",
    "weights = {}\n",
    "for u, v, w in uwg.edges(data=True):\n",
    "    weights[(u, v)] = w['weight']\n",
    "    \n",
    "# Plot Directed Weighted Graph\n",
    "plt.rcParams[\"figure.figsize\"] = [8, 8]\n",
    "nx.draw_networkx_nodes(uwg, pos, nodelist=uwg.nodes(), node_color='steelblue', node_size=500, alpha=1)\n",
    "nx.draw_networkx_edges(uwg, pos, edgelist=uwg.edges(), width=1, alpha=0.7, edge_color='black')\n",
    "nx.draw_networkx_edges(uwg, pos, edgelist=mst_edges,   width=3, alpha=0.9, edge_color='green')\n",
    "nx.draw_networkx_labels(uwg, pos, labels, font_size=12, font_color='w')\n",
    "nx.draw_networkx_edge_labels(uwg, pos, edge_labels=weights, font_color='black')\n",
    "plt.title('Minimum Spanning Tree of an UWG', fontsize=14)\n",
    "plt.axis('off')\n",
    "plt.show()"
   ]
  },
  {
   "cell_type": "markdown",
   "metadata": {},
   "source": [
    "## 4. Eulerian Circuit and Path"
   ]
  },
  {
   "cell_type": "markdown",
   "metadata": {},
   "source": [
    "In graph theory, an **Eulerian path** is a trail in a finite graph that visits every edge exactly once (allowing for revisiting vertices). Similarly, an **Eulerian circuit** or Eulerian cycle is an Eulerian trail that starts and ends on the same vertex. They were first discussed by Leonhard Euler while solving the famous Seven Bridges of Königsberg problem in 1736. <a href=\"#link_five\">[5]</a>"
   ]
  },
  {
   "cell_type": "code",
   "execution_count": 36,
   "metadata": {},
   "outputs": [],
   "source": [
    "# Create an empty Undirected Multi Graph (UMG)\n",
    "umg = nx.Graph()"
   ]
  },
  {
   "cell_type": "code",
   "execution_count": 37,
   "metadata": {},
   "outputs": [
    {
     "name": "stdout",
     "output_type": "stream",
     "text": [
      "['a', 'b', 'c', 'd', 'e', 'f']\n"
     ]
    }
   ],
   "source": [
    "# Add nodes/vertices\n",
    "umg.add_nodes_from(['a', 'b', 'c', 'd', 'e', 'f'])\n",
    "print(umg.nodes())"
   ]
  },
  {
   "cell_type": "code",
   "execution_count": 38,
   "metadata": {},
   "outputs": [
    {
     "name": "stdout",
     "output_type": "stream",
     "text": [
      "[('a', 'b'), ('a', 'c'), ('b', 'c'), ('b', 'd'), ('b', 'e'), ('c', 'd'), ('c', 'e'), ('d', 'e'), ('d', 'f'), ('e', 'f')]\n"
     ]
    }
   ],
   "source": [
    "# Add edges\n",
    "umg.add_edges_from([('a', 'b'), ('a', 'c'), ('b', 'c'), ('b', 'd'), ('b', 'e'), \n",
    "                    ('c', 'd'), ('c', 'e'), ('d', 'e'), ('d', 'f'), ('e', 'f')])\n",
    "print(umg.edges())"
   ]
  },
  {
   "cell_type": "code",
   "execution_count": 39,
   "metadata": {},
   "outputs": [],
   "source": [
    "# Function that returns if the graph is Eulerian\n",
    "def is_eulerian(g, verbose=False):\n",
    "    eulerian = True\n",
    "    odd = 0\n",
    "    \n",
    "    # Count vertices with odd degree \n",
    "    for n in umg.nodes():\n",
    "        if int(umg.degree[n]) % 2 != 0:\n",
    "            odd += 1\n",
    "    \n",
    "    if verbose:\n",
    "        if odd == 0:\n",
    "            print('>> The graph has a Eulerian circuit')\n",
    "        elif odd == 2:\n",
    "            print('>> The graph has a Eulerian path')\n",
    "        else:\n",
    "            print('>> The graph dont have a Eulerian circuit')\n",
    "    \n",
    "    return eulerian"
   ]
  },
  {
   "cell_type": "code",
   "execution_count": 40,
   "metadata": {},
   "outputs": [],
   "source": [
    "# Get the next adjacent node\n",
    "def find_adjacent_node(g, node, verbose=False):\n",
    "    adj_node = None\n",
    "    neighbors = list(g.neighbors(node))\n",
    "    \n",
    "    if len(neighbors) > 0:\n",
    "        adj_node = neighbors[0]\n",
    "        \n",
    "        if verbose:\n",
    "            print('   curr node:', node, ', adjacent nodes:', neighbors)\n",
    "    \n",
    "    return adj_node"
   ]
  },
  {
   "cell_type": "code",
   "execution_count": 41,
   "metadata": {},
   "outputs": [],
   "source": [
    "# Build an eulerian circuit of an Undirected Multigraph\n",
    "def get_eulerian_circuit(umg, verbose=False):\n",
    "    start_time = timeit.default_timer()\n",
    "    \n",
    "    g = umg.copy()\n",
    "    circuit = []\n",
    "    \n",
    "    # Validation\n",
    "    if is_eulerian(g, verbose):\n",
    "        curr_node = list(g.nodes())[0]\n",
    "        stack = [curr_node]\n",
    "        \n",
    "        # Until stack is empty\n",
    "        while len(stack) > 0:\n",
    "            curr_node = stack[len(stack) - 1]\n",
    "            \n",
    "            if g.degree[curr_node] == 0:\n",
    "                circuit.append(curr_node)\n",
    "                stack.pop()\n",
    "                \n",
    "                if verbose:\n",
    "                    print('   added node:', curr_node)\n",
    "            else:\n",
    "                # Find any edge coming out of u\n",
    "                adj_node = find_adjacent_node(g, curr_node, verbose)\n",
    "                \n",
    "                if not adj_node is None:\n",
    "                    edge = (curr_node, adj_node)\n",
    "                    g.remove_edge(*edge)\n",
    "                    stack.append(adj_node)\n",
    "    \n",
    "    # Elapsed time\n",
    "    if verbose:\n",
    "        elapsed = (timeit.default_timer() - start_time) * 1000\n",
    "        print('>> elapsed time', elapsed, 'ms')\n",
    "    \n",
    "    return circuit"
   ]
  },
  {
   "cell_type": "code",
   "execution_count": 42,
   "metadata": {},
   "outputs": [
    {
     "name": "stdout",
     "output_type": "stream",
     "text": [
      ">> The graph has a Eulerian circuit\n",
      "   curr node: a , adjacent nodes: ['b', 'c']\n",
      "   curr node: b , adjacent nodes: ['c', 'd', 'e']\n",
      "   curr node: c , adjacent nodes: ['a', 'd', 'e']\n",
      "   added node: a\n",
      "   curr node: c , adjacent nodes: ['d', 'e']\n",
      "   curr node: d , adjacent nodes: ['b', 'e', 'f']\n",
      "   curr node: b , adjacent nodes: ['e']\n",
      "   curr node: e , adjacent nodes: ['c', 'd', 'f']\n",
      "   added node: c\n",
      "   curr node: e , adjacent nodes: ['d', 'f']\n",
      "   curr node: d , adjacent nodes: ['f']\n",
      "   curr node: f , adjacent nodes: ['e']\n",
      "   added node: e\n",
      "   added node: f\n",
      "   added node: d\n",
      "   added node: e\n",
      "   added node: b\n",
      "   added node: d\n",
      "   added node: c\n",
      "   added node: b\n",
      "   added node: a\n",
      ">> elapsed time 10.12180000000007 ms\n"
     ]
    },
    {
     "data": {
      "text/plain": [
       "['a', 'c', 'e', 'f', 'd', 'e', 'b', 'd', 'c', 'b', 'a']"
      ]
     },
     "execution_count": 42,
     "metadata": {},
     "output_type": "execute_result"
    }
   ],
   "source": [
    "# Get Eulerian circuit (if exists)\n",
    "e_circuit = get_eulerian_circuit(umg, True)\n",
    "e_circuit"
   ]
  },
  {
   "cell_type": "markdown",
   "metadata": {},
   "source": [
    "#### Plotting Eulerian Circuit"
   ]
  },
  {
   "cell_type": "code",
   "execution_count": 43,
   "metadata": {},
   "outputs": [],
   "source": [
    "# Create a new DiGraph (Eulerian Circuit Graph)\n",
    "ecg = nx.DiGraph()\n",
    "ecg.add_nodes_from(umg.nodes())\n",
    "\n",
    "# We then set the coordinates of each node\n",
    "ecg.node['a']['pos'] = (0, 0)\n",
    "ecg.node['b']['pos'] = (3, 2)\n",
    "ecg.node['c']['pos'] = (3, -2)\n",
    "ecg.node['d']['pos'] = (6, 2)\n",
    "ecg.node['e']['pos'] = (6,-2)\n",
    "ecg.node['f']['pos'] = (9, 0)\n",
    "\n",
    "# The positions of each node are stored in a dictionary\n",
    "pos = nx.get_node_attributes(ecg, 'pos')"
   ]
  },
  {
   "cell_type": "code",
   "execution_count": 44,
   "metadata": {},
   "outputs": [
    {
     "data": {
      "image/png": "[encoded data removed]",
      "text/plain": [
       "<Figure size 720x432 with 1 Axes>"
      ]
     },
     "metadata": {},
     "output_type": "display_data"
    }
   ],
   "source": [
    "# Nodes labels\n",
    "labels = {}\n",
    "for n in ecg.nodes():\n",
    "    labels[n] = n\n",
    "\n",
    "# Edges labels\n",
    "weights = {}\n",
    "for i in range(len(e_circuit) - 1):\n",
    "    u, v = e_circuit[i], e_circuit[i+1]\n",
    "    weights[(u, v)] = (i + 1)\n",
    "    ecg.add_edge(u, v)\n",
    "    \n",
    "# Plot Directed Weighted Graph\n",
    "plt.rcParams[\"figure.figsize\"] = [10, 6]\n",
    "nx.draw_networkx_nodes(ecg, pos, nodelist=ecg.nodes(), node_color='steelblue', node_size=500, alpha=1)\n",
    "nx.draw_networkx_edges(ecg, pos, edgelist=ecg.edges(), width=1, alpha=0.7, edge_color='black')\n",
    "nx.draw_networkx_labels(ecg, pos, labels, font_size=12, font_color='w')\n",
    "nx.draw_networkx_edge_labels(ecg, pos, edge_labels=weights, font_color='black')\n",
    "plt.title('Eulerian Circuit of an UMG', fontsize=14)\n",
    "plt.axis('off')\n",
    "plt.show()"
   ]
  },
  {
   "cell_type": "markdown",
   "metadata": {},
   "source": [
    " ## 5. Shortest Path of a Directed Weighted Graph"
   ]
  },
  {
   "cell_type": "markdown",
   "metadata": {},
   "source": [
    "A directed graph or digraph is a graph in which edges have orientations <a href=\"#link_six\">[6]</a>. In formal terms, a directed graph is an ordered pair $ G = \\langle V, E \\rangle $ where:\n",
    "\n",
    "- $V$ is a set whose elements are called vertices, nodes or points.\n",
    "- $E$ is a set of ordered pairs of vertices, called arrows, directed edges, directed arcs or directed lines."
   ]
  },
  {
   "cell_type": "code",
   "execution_count": 45,
   "metadata": {},
   "outputs": [],
   "source": [
    "# Create an empty Directed Weighted Graph (DWG)\n",
    "dwg = nx.DiGraph()"
   ]
  },
  {
   "cell_type": "code",
   "execution_count": 46,
   "metadata": {},
   "outputs": [],
   "source": [
    "# Add nodes\n",
    "nodes_list = [1, 2, 3, 4, 5, 6, 7, 8, 9]\n",
    "dwg.add_nodes_from(nodes_list)"
   ]
  },
  {
   "cell_type": "code",
   "execution_count": 47,
   "metadata": {},
   "outputs": [],
   "source": [
    "# Add weighted edges\n",
    "edges_list = [(1, 2, 4), (1, 3, 5), (1, 4, 1), (2, 5, 10), (2, 7, 9), (3, 5, 6), (3, 6, 5), \n",
    "              (4, 6, 11), (4, 8, 2), (5, 9, 4), (6, 9, 3), (7, 9, 5), (8, 9, 3)]\n",
    "dwg.add_weighted_edges_from(edges_list)"
   ]
  },
  {
   "cell_type": "code",
   "execution_count": 48,
   "metadata": {},
   "outputs": [
    {
     "name": "stdout",
     "output_type": "stream",
     "text": [
      "n_nodes: 9 , n_edges: 13\n",
      "Graph density: 0.18055555555555555\n"
     ]
    }
   ],
   "source": [
    "# Calculate the graph density\n",
    "density = get_graph_density(dwg)\n",
    "print('Graph density:', density)"
   ]
  },
  {
   "cell_type": "markdown",
   "metadata": {},
   "source": [
    "### 5.1. The Shortest Path with the Dijkstra algorithm"
   ]
  },
  {
   "cell_type": "markdown",
   "metadata": {},
   "source": [
    "Given a directed graph $ G = \\langle V, E \\rangle $, the time complexity of Dijkstra's algorithm is $ \\Theta (V^2) $ but with min-priority queue it drops down to $ \\Theta((E + V) \\thinspace log{V}) $. <a href=\"#link_seven\">[7]</a>"
   ]
  },
  {
   "cell_type": "code",
   "execution_count": 49,
   "metadata": {},
   "outputs": [
    {
     "data": {
      "text/plain": [
       "[1, 4, 8, 9]"
      ]
     },
     "execution_count": 49,
     "metadata": {},
     "output_type": "execute_result"
    }
   ],
   "source": [
    "# Using Dijkstra algorithm\n",
    "source = 1\n",
    "target = 9\n",
    "sp = nx.dijkstra_path(dwg, source, target)\n",
    "sp"
   ]
  },
  {
   "cell_type": "code",
   "execution_count": 50,
   "metadata": {},
   "outputs": [
    {
     "data": {
      "text/plain": [
       "6"
      ]
     },
     "execution_count": 50,
     "metadata": {},
     "output_type": "execute_result"
    }
   ],
   "source": [
    "# Using Dijkstra algorithm\n",
    "sp = nx.dijkstra_path_length(dwg, source, target)\n",
    "sp"
   ]
  },
  {
   "cell_type": "markdown",
   "metadata": {},
   "source": [
    "### 5.2. The Dijkstra algorithm from Scratch"
   ]
  },
  {
   "cell_type": "markdown",
   "metadata": {},
   "source": [
    "Below, a detailed version of the Dijkstra algorithm for directed graphs with edges with positive weights is shown."
   ]
  },
  {
   "cell_type": "code",
   "execution_count": 51,
   "metadata": {},
   "outputs": [],
   "source": [
    "# Returns the node with a minimum own distance\n",
    "def get_min_node(nodes, weights):\n",
    "    min_node = -1\n",
    "    min_weigth = math.inf\n",
    "    \n",
    "    for n in nodes:\n",
    "        w = weights[n]\n",
    "        if w < min_weigth:\n",
    "            min_node = n\n",
    "            min_weigth = w\n",
    "    \n",
    "    return min_node"
   ]
  },
  {
   "cell_type": "code",
   "execution_count": 52,
   "metadata": {},
   "outputs": [],
   "source": [
    "# A detailed version of the Dijkstra algorithm for directed graphs with edges with positive weights \n",
    "def get_dijkstra_dist(graph, source, verbose=False):\n",
    "    nodes = list(graph.nodes())\n",
    "    edges = graph.edges()\n",
    "    \n",
    "    # Init distances\n",
    "    dists = dict()\n",
    "    for n in nodes:\n",
    "        dists[n] = (0 if n == source else math.inf)\n",
    "    paths = dict()\n",
    "    for n in nodes:\n",
    "        paths[n] = source\n",
    "    \n",
    "    # Greedy cycle\n",
    "    v = source\n",
    "    while len(nodes) > 1:        \n",
    "        nodes.remove(v)\n",
    "        if verbose:\n",
    "            print('>> curr node:', v, ', len:', len(nodes))\n",
    "        \n",
    "        # Update weights\n",
    "        for w in nodes:\n",
    "            if (v, w) in edges:\n",
    "                if dists[w] > dists[v] + edges[v, w]['weight']:\n",
    "                    dists[w] = dists[v] + edges[v, w]['weight']\n",
    "                    paths[w] = v\n",
    "                    if verbose:\n",
    "                        print('   v:', v, ', w:', w, ', weigth:', dists[w])\n",
    "        \n",
    "        # Get the node with a minimum own distance\n",
    "        v = get_min_node(nodes, dists)\n",
    "        if v == -1:\n",
    "            break\n",
    "        \n",
    "    return { 'distances': dists, 'paths': paths }"
   ]
  },
  {
   "cell_type": "code",
   "execution_count": 53,
   "metadata": {},
   "outputs": [],
   "source": [
    "# Show shortes path from source node to target node\n",
    "def get_shortes_path(dwg, source, target, verbose=False):\n",
    "    \n",
    "    # Validation\n",
    "    if not source in dwg.nodes() or not target in dwg.nodes():\n",
    "        print('Both the source and the target must exist in the graph.')\n",
    "        return {}\n",
    "    \n",
    "    start_time = timeit.default_timer()\n",
    "    \n",
    "    # Get the distance from 'source' to the other nodes\n",
    "    sol = get_dijkstra_dist(dwg, source, verbose)\n",
    "    paths = sol['paths']\n",
    "    \n",
    "    # Get shortest path from 'source' to 'target'\n",
    "    ix = target\n",
    "    path = [ix]\n",
    "    while ix != source:\n",
    "        ix = paths[ix]\n",
    "        path.append(ix)\n",
    "    path.reverse()\n",
    "    \n",
    "    weight = sol['distances'][target]\n",
    "    \n",
    "    # Elapsed time\n",
    "    if verbose:\n",
    "        elapsed = (timeit.default_timer() - start_time) * 1000\n",
    "        print('>> elapsed time', elapsed, 'ms')\n",
    "    \n",
    "    return { 'path': path, 'weight': weight }"
   ]
  },
  {
   "cell_type": "code",
   "execution_count": 54,
   "metadata": {},
   "outputs": [
    {
     "name": "stdout",
     "output_type": "stream",
     "text": [
      ">> curr node: 1 , len: 8\n",
      "   v: 1 , w: 2 , weigth: 4\n",
      "   v: 1 , w: 3 , weigth: 5\n",
      "   v: 1 , w: 4 , weigth: 1\n",
      ">> curr node: 4 , len: 7\n",
      "   v: 4 , w: 6 , weigth: 12\n",
      "   v: 4 , w: 8 , weigth: 3\n",
      ">> curr node: 8 , len: 6\n",
      "   v: 8 , w: 9 , weigth: 6\n",
      ">> curr node: 2 , len: 5\n",
      "   v: 2 , w: 5 , weigth: 14\n",
      "   v: 2 , w: 7 , weigth: 13\n",
      ">> curr node: 3 , len: 4\n",
      "   v: 3 , w: 5 , weigth: 11\n",
      "   v: 3 , w: 6 , weigth: 10\n",
      ">> curr node: 9 , len: 3\n",
      ">> curr node: 6 , len: 2\n",
      ">> curr node: 5 , len: 1\n",
      ">> elapsed time 16.685199999999956 ms\n"
     ]
    },
    {
     "data": {
      "text/plain": [
       "{'path': [1, 4, 8, 9], 'weight': 6}"
      ]
     },
     "execution_count": 54,
     "metadata": {},
     "output_type": "execute_result"
    }
   ],
   "source": [
    "# Example of the shortes path calculation from '1' to '9'\n",
    "sp_sol = get_shortes_path(dwg, source, target, True)\n",
    "sp_sol"
   ]
  },
  {
   "cell_type": "markdown",
   "metadata": {},
   "source": [
    "#### Plotting Shortest Path of a DWG"
   ]
  },
  {
   "cell_type": "code",
   "execution_count": 55,
   "metadata": {},
   "outputs": [],
   "source": [
    "# We then set the coordinates of each node\n",
    "dwg.node[1]['pos'] = (0, 0)\n",
    "dwg.node[2]['pos'] = (3, 2.5)\n",
    "dwg.node[3]['pos'] = (3, 0)\n",
    "dwg.node[4]['pos'] = (3, -2.5)\n",
    "dwg.node[5]['pos'] = (6, 3)\n",
    "dwg.node[6]['pos'] = (6, 1)\n",
    "dwg.node[7]['pos'] = (6,-1)\n",
    "dwg.node[8]['pos'] = (6,-3)\n",
    "dwg.node[9]['pos'] = (9, 0)\n",
    "\n",
    "# The positions of each node are stored in a dictionary\n",
    "pos = nx.get_node_attributes(dwg, 'pos')"
   ]
  },
  {
   "cell_type": "code",
   "execution_count": 56,
   "metadata": {},
   "outputs": [
    {
     "data": {
      "image/png": "[encoded data removed]",
      "text/plain": [
       "<Figure size 720x720 with 1 Axes>"
      ]
     },
     "metadata": {},
     "output_type": "display_data"
    }
   ],
   "source": [
    "# Nodes labels\n",
    "labels = {}\n",
    "for n in dwg.nodes():\n",
    "    labels[n] = n\n",
    "\n",
    "# Edges labels\n",
    "weights = {}\n",
    "for u, v, w in dwg.edges(data=True):\n",
    "    weights[(u, v)] = w['weight']\n",
    "\n",
    "sp_edges = []\n",
    "for i in range(len(sp_sol['path']) - 1):\n",
    "    e = (sp_sol['path'][i], sp_sol['path'][i+1])\n",
    "    sp_edges.append(e)\n",
    "\n",
    "# Plot Directed Weighted Graph\n",
    "plt.rcParams[\"figure.figsize\"] = [10, 10]\n",
    "nx.draw_networkx_nodes(dwg, pos, nodelist=dwg.nodes(), node_color='steelblue', node_size=500, alpha=1)\n",
    "nx.draw_networkx_edges(dwg, pos, edgelist=dwg.edges(), width=1, alpha=0.8, edge_color='black')\n",
    "nx.draw_networkx_edges(dwg, pos, edgelist=sp_edges,    width=3, alpha=0.9, edge_color='green')\n",
    "nx.draw_networkx_labels(dwg, pos, labels, font_size=12, font_color='w')\n",
    "nx.draw_networkx_edge_labels(dwg, pos, edge_labels=weights, font_color='black')\n",
    "plt.title('Shortest Path of a DWG', fontsize=14)\n",
    "plt.axis('off')\n",
    "plt.show()"
   ]
  },
  {
   "cell_type": "markdown",
   "metadata": {},
   "source": [
    "## 6. All-Pairs Shortest Path"
   ]
  },
  {
   "cell_type": "markdown",
   "metadata": {},
   "source": [
    "The **all-pairs shortest path** problem is the determination of the shortest graph distances between every pair of vertices in a given graph. The problem can be solved using $n$ applications of Dijkstra's algorithm or all at once using the Floyd-Warshall algorithm. <a href=\"#link_eight\">[8]</a>"
   ]
  },
  {
   "cell_type": "code",
   "execution_count": 57,
   "metadata": {},
   "outputs": [],
   "source": [
    "# Create an empty Directed Weighted Graph (DWG)\n",
    "dwg = nx.DiGraph()"
   ]
  },
  {
   "cell_type": "code",
   "execution_count": 58,
   "metadata": {},
   "outputs": [],
   "source": [
    "# Add nodes\n",
    "nodes_list = [1, 2, 3, 4, 5]\n",
    "dwg.add_nodes_from(nodes_list)"
   ]
  },
  {
   "cell_type": "code",
   "execution_count": 59,
   "metadata": {},
   "outputs": [],
   "source": [
    "# Add weighted edges\n",
    "edges_list = [(1, 2, 50), (1, 3, 30), (1, 4, 100), (1, 5, 10), (3, 2, 5), (4, 2, 20), (4, 3, 50), (5, 4, 10)]\n",
    "dwg.add_weighted_edges_from(edges_list)"
   ]
  },
  {
   "cell_type": "code",
   "execution_count": 60,
   "metadata": {},
   "outputs": [],
   "source": [
    "# We then set the coordinates of each node\n",
    "dwg.node[1]['pos'] = (0, 0)\n",
    "dwg.node[2]['pos'] = (2, 2)\n",
    "dwg.node[3]['pos'] = (2,-2)\n",
    "dwg.node[4]['pos'] = (5, 2)\n",
    "dwg.node[5]['pos'] = (5,-2)\n",
    "\n",
    "# The positions of each node are stored in a dictionary\n",
    "pos = nx.get_node_attributes(dwg, 'pos')"
   ]
  },
  {
   "cell_type": "code",
   "execution_count": 61,
   "metadata": {},
   "outputs": [
    {
     "data": {
      "image/png": "[encoded data removed]",
      "text/plain": [
       "<Figure size 576x576 with 1 Axes>"
      ]
     },
     "metadata": {},
     "output_type": "display_data"
    }
   ],
   "source": [
    "# Nodes labels\n",
    "labels = {}\n",
    "for n in dwg.nodes():\n",
    "    labels[n] = n\n",
    "\n",
    "# Edges labels\n",
    "weights = {}\n",
    "for u, v, w in dwg.edges(data=True):\n",
    "    weights[(u, v)] = w['weight']\n",
    "    \n",
    "# Plot Directed Weighted Graph\n",
    "plt.rcParams[\"figure.figsize\"] = [8, 8]\n",
    "nx.draw_networkx_nodes(dwg, pos, nodelist=dwg.nodes(), node_color='steelblue', node_size=500, alpha=1)\n",
    "nx.draw_networkx_edges(dwg, pos, edgelist=dwg.edges(), width=1, alpha=0.8, edge_color='black')\n",
    "nx.draw_networkx_labels(dwg, pos, labels, font_size=12, font_color='w')\n",
    "nx.draw_networkx_edge_labels(dwg, pos, edge_labels=weights, font_color='black')\n",
    "plt.title('Directed Weighted Graph', fontsize=14)\n",
    "plt.axis('off')\n",
    "plt.show()"
   ]
  },
  {
   "cell_type": "markdown",
   "metadata": {},
   "source": [
    "### 6.1. Floyd-Warshall algorithm"
   ]
  },
  {
   "cell_type": "markdown",
   "metadata": {},
   "source": [
    "The **Floyd–Warshall** algorithm is a method for finding shortest paths in a weighted graph with positive or negative edge weights (but with no negative cycles)."
   ]
  },
  {
   "cell_type": "markdown",
   "metadata": {},
   "source": [
    "The Floyd–Warshall algorithm compares all possible paths through the graph between each pair of vertices. It is able to do this with $ \\Theta (|V|^{3}) $ comparisons in a graph."
   ]
  },
  {
   "cell_type": "code",
   "execution_count": 62,
   "metadata": {},
   "outputs": [],
   "source": [
    "# Algorithm for finding shortest paths in a directed weighted graph\n",
    "def floyd_warshall_paths(g, verbose=False):\n",
    "    start_time = timeit.default_timer()\n",
    "    \n",
    "    edges = g.edges(data=True)\n",
    "    vertices = list(g.nodes())\n",
    "    n_vertices = len(vertices)\n",
    "    \n",
    "    # Init dist matrix\n",
    "    dist = [[math.inf for j in range(n_vertices)] for i in range(n_vertices)]\n",
    "    path = [[None for j in range(n_vertices)] for i in range(n_vertices)]\n",
    "    \n",
    "    for (u, v, w) in edges:\n",
    "        u = u - 1\n",
    "        v = v - 1\n",
    "        w = w['weight']\n",
    "        dist[u][v] = w\n",
    "        path[u][v] = v + 1\n",
    "    \n",
    "    for v in range(n_vertices):\n",
    "        dist[v][v] = 0\n",
    "        path[v][v] = v + 1\n",
    "    \n",
    "    if verbose:\n",
    "        print('>> run floyd-warshall algorithm')\n",
    "        \n",
    "    for k in range(n_vertices):\n",
    "        for i in range(n_vertices):\n",
    "            for j in range(n_vertices):\n",
    "                \n",
    "                if dist[i][j] > dist[i][k] + dist[k][j]:\n",
    "                    dist[i][j] = dist[i][k] + dist[k][j]\n",
    "                    path[i][j] = path[i][k]\n",
    "                    \n",
    "                    if verbose:\n",
    "                        print('   update edge (', i, ',', j, '), value:', dist[i][j])\n",
    "    \n",
    "    # Elapsed time\n",
    "    if verbose:\n",
    "        elapsed = (timeit.default_timer() - start_time) * 1000\n",
    "        print('>> elapsed time', elapsed, 'ms')\n",
    "    \n",
    "    # Return nodes and dist matrix\n",
    "    return {'nodes': vertices, 'dist': dist, 'path': path}"
   ]
  },
  {
   "cell_type": "code",
   "execution_count": 63,
   "metadata": {},
   "outputs": [
    {
     "name": "stdout",
     "output_type": "stream",
     "text": [
      ">> run floyd-warshall algorithm\n",
      "   update edge ( 0 , 1 ), value: 35\n",
      "   update edge ( 4 , 1 ), value: 30\n",
      "   update edge ( 4 , 2 ), value: 60\n",
      "   update edge ( 0 , 3 ), value: 20\n",
      ">> elapsed time 10.098699999999905 ms\n"
     ]
    }
   ],
   "source": [
    "# Calculate the Floyd-Warshall paths\n",
    "sol = floyd_warshall_paths(dwg, True)"
   ]
  },
  {
   "cell_type": "code",
   "execution_count": 64,
   "metadata": {},
   "outputs": [
    {
     "data": {
      "text/plain": [
       "('nodes:', [1, 2, 3, 4, 5])"
      ]
     },
     "execution_count": 64,
     "metadata": {},
     "output_type": "execute_result"
    }
   ],
   "source": [
    "# Show Floyd-Warshall results\n",
    "'nodes:', sol['nodes']"
   ]
  },
  {
   "cell_type": "code",
   "execution_count": 65,
   "metadata": {},
   "outputs": [
    {
     "name": "stdout",
     "output_type": "stream",
     "text": [
      "dist matrix:\n"
     ]
    },
    {
     "data": {
      "text/plain": [
       "[[0, 35, 30, 20, 10],\n",
       " [inf, 0, inf, inf, inf],\n",
       " [inf, 5, 0, inf, inf],\n",
       " [inf, 20, 50, 0, inf],\n",
       " [inf, 30, 60, 10, 0]]"
      ]
     },
     "execution_count": 65,
     "metadata": {},
     "output_type": "execute_result"
    }
   ],
   "source": [
    "print('dist matrix:')\n",
    "sol['dist']"
   ]
  },
  {
   "cell_type": "code",
   "execution_count": 66,
   "metadata": {},
   "outputs": [
    {
     "name": "stdout",
     "output_type": "stream",
     "text": [
      "path matrix:\n"
     ]
    },
    {
     "data": {
      "text/plain": [
       "[[1, 3, 3, 5, 5],\n",
       " [None, 2, None, None, None],\n",
       " [None, 2, 3, None, None],\n",
       " [None, 2, 3, 4, None],\n",
       " [None, 4, 4, 4, 5]]"
      ]
     },
     "execution_count": 66,
     "metadata": {},
     "output_type": "execute_result"
    }
   ],
   "source": [
    "print('path matrix:')\n",
    "sol['path']"
   ]
  },
  {
   "cell_type": "code",
   "execution_count": 67,
   "metadata": {},
   "outputs": [],
   "source": [
    "# Returns the shortest path from a Floyd-Warshall distance matrix\n",
    "def get_shortest_path(paths, u, v):\n",
    "    \n",
    "    # Validation\n",
    "    if paths[u - 1][v - 1] is None:\n",
    "        return []\n",
    "    \n",
    "    # Build the shortest path\n",
    "    path = [u]\n",
    "    while u != v:\n",
    "        u = paths[u - 1][v - 1]\n",
    "        path.append(u)\n",
    "    \n",
    "    return path"
   ]
  },
  {
   "cell_type": "code",
   "execution_count": 68,
   "metadata": {},
   "outputs": [
    {
     "data": {
      "text/plain": [
       "[1, 3, 2]"
      ]
     },
     "execution_count": 68,
     "metadata": {},
     "output_type": "execute_result"
    }
   ],
   "source": [
    "# Show the shortes path from '1' to '2'\n",
    "source = 1\n",
    "target = 2\n",
    "get_shortest_path(sol['path'], source, target)"
   ]
  },
  {
   "cell_type": "markdown",
   "metadata": {},
   "source": [
    "## 7. Graph Coloring"
   ]
  },
  {
   "cell_type": "markdown",
   "metadata": {},
   "source": [
    "In graph theory, graph coloring is a special case of graph labeling; it is an assignment of labels traditionally called \"colors\" to elements of a graph subject to certain constraints. In its simplest form, it is a way of coloring the vertices of a graph such that no two adjacent vertices are of the same color; this is called a vertex coloring. <a href=\"#link_nine\">[9]</a>"
   ]
  },
  {
   "cell_type": "markdown",
   "metadata": {},
   "source": [
    "#### Four color theorem\n",
    "In mathematics, the four color theorem, or the four color map theorem, states that, given any separation of a plane (**without crossings**) into contiguous regions, producing a figure called a map, no more than four colors are required to color the regions of the map so that no two adjacent regions have the same color. Adjacent means that two regions share a common boundary curve segment, not merely a corner where three or more regions meet. It was the first major theorem to be proved using a computer. <a href=\"#link_ten\">[10]</a>"
   ]
  },
  {
   "cell_type": "markdown",
   "metadata": {},
   "source": [
    "Given the following undirected plane graph of South America, color it using the Welsh-Powell algorithm, to validate the four color theorem."
   ]
  },
  {
   "cell_type": "code",
   "execution_count": 69,
   "metadata": {},
   "outputs": [],
   "source": [
    "# Create an empty Undirected Plane Graph (UPG)\n",
    "upg = nx.Graph()"
   ]
  },
  {
   "cell_type": "code",
   "execution_count": 70,
   "metadata": {},
   "outputs": [],
   "source": [
    "# Node names\n",
    "nodes_name = {1:'Argentina', 2:'Bolivia', 3:'Brasil', 4:'Chile', 5:'Colombia', 6:'Ecuador', 7:'Guyana',\n",
    "              8:'G.Francesa', 9:'Panamá', 10:'Paraguay', 11:'Perú', 12:'Surinam', 13:'Uruguay', 14:'Venezuela'}\n",
    "\n",
    "# Add nodes\n",
    "upg.add_nodes_from(nodes_name.keys())"
   ]
  },
  {
   "cell_type": "code",
   "execution_count": 71,
   "metadata": {},
   "outputs": [],
   "source": [
    "# Add weighted edges\n",
    "edges_list = [(1, 2), (1, 3), (1, 4), (1, 10), (1, 13), (2, 3), (2, 4), (2, 10), (2, 11), (3, 5), (3, 7), (3, 8), (3, 10), \n",
    "              (3, 11), (3, 12), (3, 13), (3, 14), (4, 11), (5, 6), (5, 9), (5, 11), (5, 14), (6, 11), (7, 12), (7, 14), (8, 12)]\n",
    "upg.add_edges_from(edges_list)"
   ]
  },
  {
   "cell_type": "markdown",
   "metadata": {},
   "source": [
    "### Welsh-Powell Algorithm:\n",
    "\n",
    "- Find the degree of each vertex\n",
    "- List the vertices in order of descending degree\n",
    "- Colour the first vertex in the list\n",
    "- Go down the sorted list and color every vertex not connected to the colored vertices above the same color then cross out all colored vertices in the list\n",
    "- Repeat the process on the uncolored vertices with a new color-always working in descending order of degree until all vertices are colored"
   ]
  },
  {
   "cell_type": "code",
   "execution_count": 72,
   "metadata": {},
   "outputs": [],
   "source": [
    "# Function to color graphs using the Welsh-Powell algorithm\n",
    "def graph_coloring_welsh_powell(g, verbose=False):\n",
    "    start_time = timeit.default_timer()\n",
    "    \n",
    "    colors = dict()\n",
    "    vtx_degree = dict()\n",
    "    palette = [\"#1f77b4\", \"#ff7f0e\", \"#2ca02c\", \"#d62728\", \"#9467bd\"]\n",
    "    \n",
    "    # Find the degree of each vertex\n",
    "    for v in g.nodes():\n",
    "        vtx_degree[v] = len(list(g.neighbors(v)))\n",
    "    \n",
    "    # List the vertices in order of descending degree\n",
    "    vtx_sort = [k for k in sorted(vtx_degree, key=vtx_degree.get, reverse=True)]\n",
    "    if verbose:\n",
    "        print(vtx_sort)\n",
    "    \n",
    "    # Colour the vertices in the list\n",
    "    c_ix = -1\n",
    "    while len(vtx_sort) > 0 and c_ix < len(palette):\n",
    "        c_ix += 1\n",
    "        if verbose:\n",
    "            print(' current color:', palette[c_ix], ', n vertices:', len(vtx_sort))\n",
    "        \n",
    "        # Go down the sorted list and color every vertex not connected to the colored vertices\n",
    "        colored_nodes = []\n",
    "        for v in vtx_sort:\n",
    "            if len(set(g.neighbors(v)).intersection(set(colored_nodes))) == 0:\n",
    "                colors[v] = palette[c_ix]\n",
    "                colored_nodes.append(v)\n",
    "                \n",
    "                if verbose:\n",
    "                    print('  ', v, '->', palette[c_ix], '->', list(g.neighbors(v)))\n",
    "        \n",
    "        # Remove colored nodes\n",
    "        for v in colored_nodes:\n",
    "            if v in vtx_sort:\n",
    "                vtx_sort.remove(v)\n",
    "    \n",
    "    # Elapsed time\n",
    "    if verbose:\n",
    "        elapsed = (timeit.default_timer() - start_time) * 1000\n",
    "        print(' the chromatic number is:', (c_ix + 1))\n",
    "        print('>> elapsed time', elapsed, 'ms')\n",
    "        \n",
    "    return colors"
   ]
  },
  {
   "cell_type": "code",
   "execution_count": 73,
   "metadata": {},
   "outputs": [
    {
     "name": "stdout",
     "output_type": "stream",
     "text": [
      "[3, 1, 2, 5, 11, 4, 7, 10, 12, 14, 6, 8, 13, 9]\n",
      " current color: #1f77b4 , n vertices: 14\n",
      "   3 -> #1f77b4 -> [1, 2, 5, 7, 8, 10, 11, 12, 13, 14]\n",
      "   4 -> #1f77b4 -> [1, 2, 11]\n",
      "   6 -> #1f77b4 -> [5, 11]\n",
      "   9 -> #1f77b4 -> [5]\n",
      " current color: #ff7f0e , n vertices: 10\n",
      "   1 -> #ff7f0e -> [2, 3, 4, 10, 13]\n",
      "   5 -> #ff7f0e -> [3, 6, 9, 11, 14]\n",
      "   7 -> #ff7f0e -> [3, 12, 14]\n",
      "   8 -> #ff7f0e -> [3, 12]\n",
      " current color: #2ca02c , n vertices: 6\n",
      "   2 -> #2ca02c -> [1, 3, 4, 10, 11]\n",
      "   12 -> #2ca02c -> [3, 7, 8]\n",
      "   14 -> #2ca02c -> [3, 5, 7]\n",
      "   13 -> #2ca02c -> [1, 3]\n",
      " current color: #d62728 , n vertices: 2\n",
      "   11 -> #d62728 -> [2, 3, 4, 5, 6]\n",
      "   10 -> #d62728 -> [1, 2, 3]\n",
      " the chromatic number is: 4\n",
      ">> elapsed time 5.659400000000092 ms\n"
     ]
    }
   ],
   "source": [
    "# Get colors by vertices\n",
    "vtx_colors = graph_coloring_welsh_powell(upg, True)"
   ]
  },
  {
   "cell_type": "markdown",
   "metadata": {},
   "source": [
    "#### Plotting Graph Coloring"
   ]
  },
  {
   "cell_type": "code",
   "execution_count": 74,
   "metadata": {},
   "outputs": [],
   "source": [
    "# We then set the coordinates of each node\n",
    "upg.node[1]['pos']  = (3,-4)\n",
    "upg.node[2]['pos']  = (3,-1)\n",
    "upg.node[3]['pos']  = (5, 1)\n",
    "upg.node[4]['pos']  = (2,-2)\n",
    "upg.node[5]['pos']  = (1, 3)\n",
    "upg.node[6]['pos']  = (0, 1.5)\n",
    "upg.node[7]['pos']  = (4, 2.5)\n",
    "upg.node[8]['pos']  = (6, 2)\n",
    "upg.node[9]['pos']  = (0, 4)\n",
    "upg.node[10]['pos'] = (4,-2)\n",
    "upg.node[11]['pos'] = (1, 0)\n",
    "upg.node[12]['pos'] = (5, 2)\n",
    "upg.node[13]['pos'] = (4.5,-3)\n",
    "upg.node[14]['pos'] = (3, 3)\n",
    "\n",
    "# The positions of each node are stored in a dictionary\n",
    "pos = nx.get_node_attributes(upg, 'pos')"
   ]
  },
  {
   "cell_type": "code",
   "execution_count": 75,
   "metadata": {},
   "outputs": [],
   "source": [
    "# Size of SA countries (k-km2)\n",
    "nodes_size = {'Argentina': 2780, 'Bolivia': 1099, 'Brasil': 8511, 'Chile': 757, 'Colombia': 1142, 'Ecuador': 284, 'Guyana': 215,\n",
    "              'G.Francesa': 83, 'Panamá': 75, 'Paraguay': 407, 'Perú': 1285, 'Surinam': 164, 'Uruguay': 176, 'Venezuela': 916}"
   ]
  },
  {
   "cell_type": "code",
   "execution_count": 76,
   "metadata": {},
   "outputs": [
    {
     "data": {
      "image/png": "[encoded data removed]",
      "text/plain": [
       "<Figure size 576x864 with 1 Axes>"
      ]
     },
     "metadata": {},
     "output_type": "display_data"
    }
   ],
   "source": [
    "# Nodes labels\n",
    "node_colors = []\n",
    "for n in upg.nodes():\n",
    "    node_colors.append(vtx_colors[n])\n",
    "\n",
    "# Plot Directed Weighted Graph\n",
    "plt.rcParams[\"figure.figsize\"] = [8, 12]\n",
    "nx.draw_networkx_nodes(upg, pos, nodelist=upg.nodes(), node_color=node_colors, node_size=list(nodes_size.values()), alpha=1)\n",
    "nx.draw_networkx_edges(upg, pos, edgelist=upg.edges(), width=1, alpha=0.7, edge_color='black')\n",
    "nx.draw_networkx_labels(upg, pos, nodes_name, font_size=10, font_color='black')\n",
    "plt.title('Graph Coloring of South America', fontsize=14)\n",
    "plt.axis('off')\n",
    "plt.show()"
   ]
  },
  {
   "cell_type": "markdown",
   "metadata": {},
   "source": [
    "## Reference"
   ]
  },
  {
   "cell_type": "markdown",
   "metadata": {},
   "source": [
    "<a name='link_one' href='https://networkx.github.io/' target='_blank' >[1]</a> GitHub - NetworkX.  \n",
    "<a name='link_two' href='https://en.wikipedia.org/wiki/Graph_(discrete_mathematics)' target='_blank' >[2]</a> Wikipedia - Graphs.   \n",
    "<a name='link_three' href='https://en.wikipedia.org/wiki/Graph_traversal' target='_blank' >[3]</a> Wikipedia - Graph traversal.  \n",
    "<a name='link_four' href='https://en.wikipedia.org/wiki/Minimum_spanning_tree' target='_blank' >[4]</a> Wikipedia - Minimum spanning tree.  \n",
    "<a name='link_five' href='https://en.wikipedia.org/wiki/Eulerian_path' target='_blank' >[5]</a> Wikipedia - Eulerian path.  \n",
    "<a name='link_six' href='https://en.wikipedia.org/wiki/Directed_graph' target='_blank' >[6]</a> Wikipedia - Directed graph.  \n",
    "<a name='link_seven' href='https://en.wikipedia.org/wiki/Dijkstra%27s_algorithm' target='_blank' >[7]</a> Wikipedia - Dijkstra's algorithm.  \n",
    "<a name='link_eight' href='https://en.wikipedia.org/wiki/Floyd%E2%80%93Warshall_algorithm' target='_blank' >[8]</a> Wikipedia - All-Pairs Shortest Path.  \n",
    "<a name='link_nine' href='https://en.wikipedia.org/wiki/Graph_coloring' target='_blank' >[9]</a> Wikipedia - Graph coloring.  \n",
    "<a name='link_ten' href='https://en.wikipedia.org/wiki/Four_color_theorem' target='_blank' >[10]</a> Wikipedia - Four color theorem.  "
   ]
  },
  {
   "cell_type": "markdown",
   "metadata": {},
   "source": [
    "---\n",
    "<a href=\"https://ansegura7.github.io/Algorithms/\">« Home</a>"
   ]
  }
 ],
 "metadata": {
  "kernelspec": {
   "display_name": "Python 3",
   "language": "python",
   "name": "python3"
  },
  "language_info": {
   "codemirror_mode": {
    "name": "ipython",
    "version": 3
   },
   "file_extension": ".py",
   "mimetype": "text/x-python",
   "name": "python",
   "nbconvert_exporter": "python",
   "pygments_lexer": "ipython3",
   "version": "3.6.8"
  },
  "varInspector": {
   "cols": {
    "lenName": 16,
    "lenType": 16,
    "lenVar": 40
   },
   "kernels_config": {
    "python": {
     "delete_cmd_postfix": "",
     "delete_cmd_prefix": "del ",
     "library": "var_list.py",
     "varRefreshCmd": "print(var_dic_list())"
    },
    "r": {
     "delete_cmd_postfix": ") ",
     "delete_cmd_prefix": "rm(",
     "library": "var_list.r",
     "varRefreshCmd": "cat(var_dic_list()) "
    }
   },
   "types_to_exclude": [
    "module",
    "function",
    "builtin_function_or_method",
    "instance",
    "_Feature"
   ],
   "window_display": false
  }
 },
 "nbformat": 4,
 "nbformat_minor": 2
}
