{
 "cells": [
  {
   "cell_type": "markdown",
   "metadata": {},
   "source": [
    "# Graph - NetworkX"
   ]
  },
  {
   "cell_type": "markdown",
   "metadata": {},
   "source": [
    "- **Created by Andrés Segura Tinoco**\n",
    "- **Created on Nov 27, 2019**"
   ]
  },
  {
   "cell_type": "markdown",
   "metadata": {},
   "source": [
    "NetworkX is a Python package for the creation, manipulation, and study of the structure, dynamics, and functions of complex networks."
   ]
  },
  {
   "cell_type": "code",
   "execution_count": 1,
   "metadata": {},
   "outputs": [],
   "source": [
    "# Load the Python libraries\n",
    "import networkx as nx"
   ]
  },
  {
   "cell_type": "code",
   "execution_count": 2,
   "metadata": {},
   "outputs": [],
   "source": [
    "# Load Plotting libraries\n",
    "import matplotlib.pyplot as plt"
   ]
  },
  {
   "cell_type": "code",
   "execution_count": 3,
   "metadata": {},
   "outputs": [
    {
     "name": "stdout",
     "output_type": "stream",
     "text": [
      "Networkx version: 2.3\n"
     ]
    }
   ],
   "source": [
    "print('Networkx version:', nx.__version__)"
   ]
  },
  {
   "cell_type": "markdown",
   "metadata": {},
   "source": [
    "## 1. Simple Graph (SG)"
   ]
  },
  {
   "cell_type": "code",
   "execution_count": 4,
   "metadata": {},
   "outputs": [],
   "source": [
    "# Create an empty Simple Graph (SG)\n",
    "sg = nx.Graph()"
   ]
  },
  {
   "cell_type": "code",
   "execution_count": 5,
   "metadata": {},
   "outputs": [
    {
     "name": "stdout",
     "output_type": "stream",
     "text": [
      "['1', '2', '3', '4', '5']\n"
     ]
    }
   ],
   "source": [
    "# Add nodes\n",
    "nodes_list = [\"1\", \"2\", \"3\", \"4\", \"5\"]\n",
    "sg.add_nodes_from(nodes_list)\n",
    "print(sg.nodes())"
   ]
  },
  {
   "cell_type": "code",
   "execution_count": 6,
   "metadata": {},
   "outputs": [
    {
     "name": "stdout",
     "output_type": "stream",
     "text": [
      "[('1', '2'), ('1', '3'), ('1', '4'), ('1', '5'), ('2', '3'), ('2', '4'), ('3', '4'), ('4', '5')]\n"
     ]
    }
   ],
   "source": [
    "# Add edges\n",
    "sg.add_edges_from([(\"1\",\"2\"), (\"1\",\"3\"), (\"1\",\"4\"), (\"1\",\"5\"), (\"3\",\"2\"), (\"4\",\"2\"), (\"4\",\"3\"), (\"5\",\"4\")])\n",
    "print(sg.edges())"
   ]
  },
  {
   "cell_type": "code",
   "execution_count": 7,
   "metadata": {},
   "outputs": [
    {
     "data": {
      "text/plain": [
       "['2', '3', '4', '5']"
      ]
     },
     "execution_count": 7,
     "metadata": {},
     "output_type": "execute_result"
    }
   ],
   "source": [
    "# Get neighbors of node \"1\"\n",
    "list(sg.neighbors(\"1\"))"
   ]
  },
  {
   "cell_type": "code",
   "execution_count": 8,
   "metadata": {},
   "outputs": [
    {
     "data": {
      "text/plain": [
       "{'1': array([0.22419607, 0.3265718 ]),\n",
       " '2': array([ 0.07556309, -0.8503986 ]),\n",
       " '3': array([ 0.76482193, -0.40257552]),\n",
       " '4': array([-0.39573063, -0.07359768]),\n",
       " '5': array([-0.66885046,  1.        ])}"
      ]
     },
     "execution_count": 8,
     "metadata": {},
     "output_type": "execute_result"
    }
   ],
   "source": [
    "# Get nodes positions\n",
    "pos = nx.layout.spring_layout(sg)\n",
    "pos"
   ]
  },
  {
   "cell_type": "code",
   "execution_count": 9,
   "metadata": {},
   "outputs": [
    {
     "data": {
      "image/png": "[encoded data removed]",
      "text/plain": [
       "<Figure size 360x360 with 1 Axes>"
      ]
     },
     "metadata": {},
     "output_type": "display_data"
    }
   ],
   "source": [
    "# Plot Simple Graph (free format)\n",
    "plt.rcParams[\"figure.figsize\"] = [5, 5]\n",
    "nx.draw(sg)\n",
    "plt.title('Simple Graph', fontsize=14)\n",
    "plt.axis('off')\n",
    "plt.show()"
   ]
  },
  {
   "cell_type": "markdown",
   "metadata": {},
   "source": [
    " ## 2. Directed Weighted Graph (DWG)"
   ]
  },
  {
   "cell_type": "code",
   "execution_count": 10,
   "metadata": {},
   "outputs": [],
   "source": [
    "# Create an empty Directed Weighted Graph (DWG)\n",
    "dwg = nx.DiGraph()"
   ]
  },
  {
   "cell_type": "code",
   "execution_count": 11,
   "metadata": {},
   "outputs": [],
   "source": [
    "# Add nodes\n",
    "nodes_list = [\"1\", \"2\", \"3\", \"4\", \"5\"]\n",
    "dwg.add_nodes_from(nodes_list)"
   ]
  },
  {
   "cell_type": "code",
   "execution_count": 12,
   "metadata": {},
   "outputs": [],
   "source": [
    "# Add weighted edges\n",
    "edges = [(\"1\",\"2\",50), (\"1\",\"3\",30), (\"1\",\"4\",100), (\"1\",\"5\",10), (\"3\",\"2\",5), (\"4\",\"2\",20), (\"4\",\"3\",50), (\"5\",\"4\",10)]\n",
    "dwg.add_weighted_edges_from(edges)"
   ]
  },
  {
   "cell_type": "code",
   "execution_count": 13,
   "metadata": {},
   "outputs": [],
   "source": [
    "# We then set the coordinates of each node\n",
    "dwg.node['1']['pos'] = (0, 0)\n",
    "dwg.node['2']['pos'] = (2, 2)\n",
    "dwg.node['3']['pos'] = (2,-2)\n",
    "dwg.node['4']['pos'] = (5, 2)\n",
    "dwg.node['5']['pos'] = (5,-2)\n",
    "\n",
    "# The positions of each node are stored in a dictionary\n",
    "pos = nx.get_node_attributes(dwg, 'pos')"
   ]
  },
  {
   "cell_type": "code",
   "execution_count": 14,
   "metadata": {},
   "outputs": [
    {
     "data": {
      "image/png": "[encoded data removed]",
      "text/plain": [
       "<Figure size 576x576 with 1 Axes>"
      ]
     },
     "metadata": {},
     "output_type": "display_data"
    }
   ],
   "source": [
    "# Nodes labels\n",
    "labels = {}\n",
    "for n in dwg.nodes():\n",
    "    labels[n] = n\n",
    "\n",
    "# Edges labels\n",
    "weights = {}\n",
    "for s, t, w in edges:\n",
    "    weights[(s, t)] = w\n",
    "\n",
    "# Plot Directed Weighted Graph\n",
    "plt.rcParams[\"figure.figsize\"] = [8, 8]\n",
    "nx.draw_networkx_nodes(dwg, pos, nodelist=dwg.nodes(), node_color='steelblue', node_size=500, alpha=1)\n",
    "nx.draw_networkx_edges(dwg, pos, edgelist=dwg.edges(), width=1, alpha=0.8, edge_color='black')\n",
    "nx.draw_networkx_labels(dwg, pos, labels, font_size=12, font_color='w')\n",
    "nx.draw_networkx_edge_labels(dwg, pos, edge_labels=weights, font_color='black')\n",
    "plt.title('Directed Weighted Graph', fontsize=14)\n",
    "plt.axis('off')\n",
    "plt.show()"
   ]
  },
  {
   "cell_type": "markdown",
   "metadata": {},
   "source": [
    " ### Shortest Path"
   ]
  },
  {
   "cell_type": "code",
   "execution_count": 15,
   "metadata": {},
   "outputs": [
    {
     "data": {
      "text/plain": [
       "['5', '4', '2']"
      ]
     },
     "execution_count": 15,
     "metadata": {},
     "output_type": "execute_result"
    }
   ],
   "source": [
    "# Using Dijkstra algorithm\n",
    "sp = nx.dijkstra_path(dwg, source = '5', target = '2')\n",
    "sp"
   ]
  },
  {
   "cell_type": "markdown",
   "metadata": {},
   "source": [
    "---\n",
    "<a href=\"https://ansegura7.github.io/Algorithms/\">« Home</a>"
   ]
  }
 ],
 "metadata": {
  "kernelspec": {
   "display_name": "Python 3",
   "language": "python",
   "name": "python3"
  },
  "language_info": {
   "codemirror_mode": {
    "name": "ipython",
    "version": 3
   },
   "file_extension": ".py",
   "mimetype": "text/x-python",
   "name": "python",
   "nbconvert_exporter": "python",
   "pygments_lexer": "ipython3",
   "version": "3.6.8"
  },
  "varInspector": {
   "cols": {
    "lenName": 16,
    "lenType": 16,
    "lenVar": 40
   },
   "kernels_config": {
    "python": {
     "delete_cmd_postfix": "",
     "delete_cmd_prefix": "del ",
     "library": "var_list.py",
     "varRefreshCmd": "print(var_dic_list())"
    },
    "r": {
     "delete_cmd_postfix": ") ",
     "delete_cmd_prefix": "rm(",
     "library": "var_list.r",
     "varRefreshCmd": "cat(var_dic_list()) "
    }
   },
   "types_to_exclude": [
    "module",
    "function",
    "builtin_function_or_method",
    "instance",
    "_Feature"
   ],
   "window_display": false
  }
 },
 "nbformat": 4,
 "nbformat_minor": 2
}
