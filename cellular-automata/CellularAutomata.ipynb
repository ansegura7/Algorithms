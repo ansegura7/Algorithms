{
 "cells": [
  {
   "cell_type": "markdown",
   "metadata": {},
   "source": [
    "# Cellular Automata"
   ]
  },
  {
   "cell_type": "markdown",
   "metadata": {},
   "source": [
    "- **Created by Andrés Segura Tinoco**\n",
    "- **Created on Jul 08, 2019**"
   ]
  },
  {
   "cell_type": "markdown",
   "metadata": {},
   "source": [
    "## Intro\n",
    "A cellular automaton (abbrev. CA) is a discrete model studied in computer science, mathematics, physics, complexity science, theoretical biology and microstructure modeling."
   ]
  },
  {
   "cell_type": "markdown",
   "metadata": {},
   "source": [
    "A cellular automaton consists of a regular grid of cells, each in one of a finite number of states, such as on and off. The grid can be in any finite number of dimensions. For each cell, a set of cells called its neighborhood is defined relative to the specified cell. An initial state (time t = 0) is selected by assigning a state for each cell. A new generation is created (advancing t by 1), according to some fixed rule (generally, a mathematical function) that determines the new state of each cell in terms of the current state of the cell and the states of the cells in its neighborhood. Typically, the rule for updating the state of cells is the same for each cell and does not change over time, and is applied to the whole grid simultaneously, though exceptions are known, such as the stochastic cellular automaton and asynchronous cellular automaton."
   ]
  },
  {
   "cell_type": "code",
   "execution_count": 1,
   "metadata": {},
   "outputs": [],
   "source": [
    "# Import Python libraries\n",
    "import numpy as np\n",
    "import matplotlib.pyplot as plt"
   ]
  },
  {
   "cell_type": "markdown",
   "metadata": {},
   "source": [
    "## 1. One-dimensional Cellular Automata"
   ]
  },
  {
   "cell_type": "markdown",
   "metadata": {},
   "source": [
    "### Circular loop through an Automaton"
   ]
  },
  {
   "cell_type": "code",
   "execution_count": 2,
   "metadata": {},
   "outputs": [],
   "source": [
    "# Get automata cells \n",
    "def get_cells(automaton, ix_start, ix_end, ix_max):\n",
    "    cells = ''\n",
    "    for i in range(ix_start, ix_end + 1):\n",
    "        ix = i % ix_max\n",
    "        cells += str(automaton[ix])\n",
    "    return cells"
   ]
  },
  {
   "cell_type": "code",
   "execution_count": 3,
   "metadata": {},
   "outputs": [
    {
     "name": "stdout",
     "output_type": "stream",
     "text": [
      "( -1 , 1 ) = 102\n",
      "( 0 , 2 ) = 020\n",
      "( 1 , 3 ) = 200\n",
      "( 2 , 4 ) = 001\n",
      "( 3 , 5 ) = 010\n",
      "( 4 , 6 ) = 100\n",
      "( 5 , 7 ) = 003\n",
      "( 6 , 8 ) = 031\n",
      "( 7 , 9 ) = 310\n"
     ]
    }
   ],
   "source": [
    "# Test get_cells function\n",
    "automaton = [0, 2, 0, 0, 1, 0, 0, 3, 1]\n",
    "n_cell = len(automaton)\n",
    "r = 1\n",
    "for i in range(n_cell):\n",
    "    ix_start = i - r\n",
    "    ix_end = i + r\n",
    "    print('(', ix_start, ',', ix_end, ') =', get_cells(automaton, ix_start, ix_end, n_cell))"
   ]
  },
  {
   "cell_type": "markdown",
   "metadata": {},
   "source": [
    "### Apply evolution rule: 30"
   ]
  },
  {
   "cell_type": "code",
   "execution_count": 4,
   "metadata": {},
   "outputs": [],
   "source": [
    "# Evolve the Automaton\n",
    "def evolve_uni_automaton(init_state, max_gen, rule, r):\n",
    "    universe = [init_state]\n",
    "    n_cell = len(init_state)\n",
    "    \n",
    "    for g in range(max_gen):\n",
    "        new_automaton = []\n",
    "        automaton = universe[g]\n",
    "        \n",
    "        for i in range(n_cell):\n",
    "            ix_start = i - r\n",
    "            ix_end = i + r\n",
    "            gen = get_cells(automaton, ix_start, ix_end, n_cell)\n",
    "            cell = rule[gen]\n",
    "            new_automaton.append(cell)\n",
    "        universe.append(new_automaton)\n",
    "    \n",
    "    return universe"
   ]
  },
  {
   "cell_type": "code",
   "execution_count": 5,
   "metadata": {},
   "outputs": [],
   "source": [
    "# Creates a cellular automata rule\n",
    "def make_rule(byte, b_size = 8):\n",
    "    rule = {}\n",
    "    bits = bin(byte)[2:].zfill(b_size)\n",
    "    \n",
    "    for i in range(0, b_size):\n",
    "        bin_key = bin(i)[2:].zfill(3)\n",
    "        bin_value = bits[(b_size - i - 1)]\n",
    "        rule[bin_key] = int(bin_value)\n",
    "    \n",
    "    return rule;"
   ]
  },
  {
   "cell_type": "code",
   "execution_count": 6,
   "metadata": {},
   "outputs": [
    {
     "data": {
      "text/plain": [
       "{'000': 0,\n",
       " '001': 1,\n",
       " '010': 1,\n",
       " '011': 1,\n",
       " '100': 1,\n",
       " '101': 0,\n",
       " '110': 0,\n",
       " '111': 0}"
      ]
     },
     "execution_count": 6,
     "metadata": {},
     "output_type": "execute_result"
    }
   ],
   "source": [
    "# Rule: bin(30) = 00011110\n",
    "rule = make_rule(30)\n",
    "rule"
   ]
  },
  {
   "cell_type": "code",
   "execution_count": 7,
   "metadata": {},
   "outputs": [],
   "source": [
    "# Initial state of cellular automaton\n",
    "n_cell = 43\n",
    "init_state = list(np.zeros(n_cell).astype(int))\n",
    "init_state[n_cell // 2] = 1"
   ]
  },
  {
   "cell_type": "code",
   "execution_count": 8,
   "metadata": {},
   "outputs": [],
   "source": [
    "# Evolve the one-dimensional automaton\n",
    "max_generations = 21\n",
    "r = 1\n",
    "universe = evolve_uni_automaton(init_state, max_generations, rule, r)"
   ]
  },
  {
   "cell_type": "code",
   "execution_count": 9,
   "metadata": {},
   "outputs": [],
   "source": [
    "# Plot the Automaton evolution\n",
    "def plot_automata(universe):\n",
    "    fig, ax = plt.subplots(figsize = (12, 12))\n",
    "    ax.set_title(\"Automaton Evolution \", fontsize = 20)\n",
    "    plt.imshow(universe, cmap='Greys',  interpolation='nearest')\n",
    "    plt.xlabel(\"Cells\", fontsize = 11)\n",
    "    plt.ylabel(\"Generations\", fontsize = 11)\n",
    "    plt.show()"
   ]
  },
  {
   "cell_type": "code",
   "execution_count": 10,
   "metadata": {},
   "outputs": [
    {
     "data": {
      "image/png": "[encoded data removed]",
      "text/plain": [
       "<Figure size 864x864 with 1 Axes>"
      ]
     },
     "metadata": {
      "needs_background": "light"
     },
     "output_type": "display_data"
    }
   ],
   "source": [
    "# Plotting automaton\n",
    "plot_automata(universe)"
   ]
  },
  {
   "cell_type": "markdown",
   "metadata": {},
   "source": [
    "### Apply evolution rule: 90"
   ]
  },
  {
   "cell_type": "code",
   "execution_count": 11,
   "metadata": {},
   "outputs": [
    {
     "data": {
      "text/plain": [
       "{'000': 0,\n",
       " '001': 1,\n",
       " '010': 0,\n",
       " '011': 1,\n",
       " '100': 1,\n",
       " '101': 0,\n",
       " '110': 1,\n",
       " '111': 0}"
      ]
     },
     "execution_count": 11,
     "metadata": {},
     "output_type": "execute_result"
    }
   ],
   "source": [
    "# Rule: bin(90) = 01011010\n",
    "rule = make_rule(90)\n",
    "rule"
   ]
  },
  {
   "cell_type": "code",
   "execution_count": 12,
   "metadata": {},
   "outputs": [],
   "source": [
    "# Initial state of cellular automaton\n",
    "n_cell = 257\n",
    "init_state = list(np.zeros(n_cell).astype(int))\n",
    "init_state[n_cell // 2] = 1"
   ]
  },
  {
   "cell_type": "code",
   "execution_count": 13,
   "metadata": {},
   "outputs": [],
   "source": [
    "# Evolve the one-dimensional automaton\n",
    "max_generations = 128\n",
    "r = 1\n",
    "universe = evolve_uni_automaton(init_state, max_generations, rule, r)"
   ]
  },
  {
   "cell_type": "code",
   "execution_count": 14,
   "metadata": {},
   "outputs": [
    {
     "data": {
      "image/png": "[encoded data removed]",
      "text/plain": [
       "<Figure size 864x864 with 1 Axes>"
      ]
     },
     "metadata": {
      "needs_background": "light"
     },
     "output_type": "display_data"
    }
   ],
   "source": [
    "# Plotting automaton\n",
    "plot_automata(universe)"
   ]
  },
  {
   "cell_type": "markdown",
   "metadata": {},
   "source": [
    "<hr>\n",
    "<p><a href=\"https://ansegura7.github.io/Algorithms/\">« Home</a></p>"
   ]
  }
 ],
 "metadata": {
  "kernelspec": {
   "display_name": "Python 3",
   "language": "python",
   "name": "python3"
  },
  "language_info": {
   "codemirror_mode": {
    "name": "ipython",
    "version": 3
   },
   "file_extension": ".py",
   "mimetype": "text/x-python",
   "name": "python",
   "nbconvert_exporter": "python",
   "pygments_lexer": "ipython3",
   "version": "3.6.8"
  }
 },
 "nbformat": 4,
 "nbformat_minor": 2
}
