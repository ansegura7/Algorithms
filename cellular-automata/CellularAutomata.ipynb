{
 "cells": [
  {
   "cell_type": "markdown",
   "metadata": {},
   "source": [
    "# 8. Cellular Automata"
   ]
  },
  {
   "cell_type": "markdown",
   "metadata": {},
   "source": [
    "- **Created by Andrés Segura Tinoco**\n",
    "- **Created on Jul 08, 2019**\n",
    "- **Updated on Mar 19, 2021**"
   ]
  },
  {
   "cell_type": "markdown",
   "metadata": {},
   "source": [
    "A **cellular automaton** (abbrev. CA) is a discrete model studied in computer science, mathematics, physics, complexity science, theoretical biology and microstructure modeling."
   ]
  },
  {
   "cell_type": "markdown",
   "metadata": {},
   "source": [
    "A **cellular automaton** consists of a regular grid of cells, each in one of a finite number of states, such as on and off. The grid can be in any finite number of dimensions. For each cell, a set of cells called its neighborhood is defined relative to the specified cell. An initial state (time t = 0) is selected by assigning a state for each cell. A new generation is created (advancing t by 1), according to some fixed rule (generally, a mathematical function) that determines the new state of each cell in terms of the current state of the cell and the states of the cells in its neighborhood. Typically, the rule for updating the state of cells is the same for each cell and does not change over time, and is applied to the whole grid simultaneously, though exceptions are known, such as the stochastic cellular automaton and asynchronous cellular automaton."
   ]
  },
  {
   "cell_type": "code",
   "execution_count": 1,
   "metadata": {},
   "outputs": [],
   "source": [
    "# Import Python libraries\n",
    "import numpy as np\n",
    "import matplotlib.pyplot as plt"
   ]
  },
  {
   "cell_type": "markdown",
   "metadata": {},
   "source": [
    "## 8.1. Linear Cellular Automata (LCA)"
   ]
  },
  {
   "cell_type": "markdown",
   "metadata": {},
   "source": [
    "### 8.1.1. Circular loop through an Automaton"
   ]
  },
  {
   "cell_type": "code",
   "execution_count": 2,
   "metadata": {},
   "outputs": [],
   "source": [
    "# Get automata cells \n",
    "def get_cells_range(automaton, ix_start, ix_end, ix_max):\n",
    "    cells = ''\n",
    "    for i in range(ix_start, ix_end + 1):\n",
    "        ix = i % ix_max\n",
    "        cells += str(automaton[ix])\n",
    "    return cells"
   ]
  },
  {
   "cell_type": "code",
   "execution_count": 3,
   "metadata": {},
   "outputs": [
    {
     "name": "stdout",
     "output_type": "stream",
     "text": [
      "( -1 , 1 ) = 102\n",
      "( 0 , 2 ) = 020\n",
      "( 1 , 3 ) = 200\n",
      "( 2 , 4 ) = 001\n",
      "( 3 , 5 ) = 010\n",
      "( 4 , 6 ) = 100\n",
      "( 5 , 7 ) = 003\n",
      "( 6 , 8 ) = 031\n",
      "( 7 , 9 ) = 310\n"
     ]
    }
   ],
   "source": [
    "# Test get_cells_range function\n",
    "automaton = [0, 2, 0, 0, 1, 0, 0, 3, 1]\n",
    "n_cell = len(automaton)\n",
    "r = 1\n",
    "for i in range(n_cell):\n",
    "    ix_start = i - r\n",
    "    ix_end = i + r\n",
    "    print('(', ix_start, ',', ix_end, ') =', get_cells_range(automaton, ix_start, ix_end, n_cell))"
   ]
  },
  {
   "cell_type": "markdown",
   "metadata": {},
   "source": [
    "### 8.1.2. Apply evolution rule: 30"
   ]
  },
  {
   "cell_type": "code",
   "execution_count": 4,
   "metadata": {},
   "outputs": [],
   "source": [
    "# Evolve the LCA\n",
    "def evolve_lca_automaton(init_state, max_gen, rule, r):\n",
    "    universe = [init_state]\n",
    "    n_cell = len(init_state)\n",
    "    \n",
    "    for g in range(max_gen):\n",
    "        new_automaton = []\n",
    "        automaton = universe[g]\n",
    "        \n",
    "        for i in range(n_cell):\n",
    "            ix_start = i - r\n",
    "            ix_end = i + r\n",
    "            gen = get_cells_range(automaton, ix_start, ix_end, n_cell)\n",
    "            cell = rule[gen]\n",
    "            new_automaton.append(cell)\n",
    "        universe.append(new_automaton)\n",
    "    \n",
    "    return universe"
   ]
  },
  {
   "cell_type": "code",
   "execution_count": 5,
   "metadata": {},
   "outputs": [],
   "source": [
    "# Creates a LCA rule\n",
    "def create_lca_rule(byte, b_size = 8):\n",
    "    rule = {}\n",
    "    bits = bin(byte)[2:].zfill(b_size)\n",
    "    \n",
    "    for i in range(0, b_size):\n",
    "        bin_key = bin(i)[2:].zfill(3)\n",
    "        bin_value = bits[(b_size - i - 1)]\n",
    "        rule[bin_key] = int(bin_value)\n",
    "    \n",
    "    return rule;"
   ]
  },
  {
   "cell_type": "code",
   "execution_count": 6,
   "metadata": {},
   "outputs": [
    {
     "data": {
      "text/plain": [
       "{'000': 0,\n",
       " '001': 1,\n",
       " '010': 1,\n",
       " '011': 1,\n",
       " '100': 1,\n",
       " '101': 0,\n",
       " '110': 0,\n",
       " '111': 0}"
      ]
     },
     "execution_count": 6,
     "metadata": {},
     "output_type": "execute_result"
    }
   ],
   "source": [
    "# Rule: bin(30) = 00011110\n",
    "rule = create_lca_rule(30)\n",
    "rule"
   ]
  },
  {
   "cell_type": "code",
   "execution_count": 7,
   "metadata": {},
   "outputs": [],
   "source": [
    "# Initial state of cellular automaton\n",
    "n_cell = 43\n",
    "init_state = list(np.zeros(n_cell).astype(int))\n",
    "init_state[n_cell // 2] = 1"
   ]
  },
  {
   "cell_type": "code",
   "execution_count": 8,
   "metadata": {},
   "outputs": [],
   "source": [
    "# Evolve the linear cellular automaton\n",
    "max_generations = 21\n",
    "r = 1\n",
    "universe = evolve_lca_automaton(init_state, max_generations, rule, r)"
   ]
  },
  {
   "cell_type": "code",
   "execution_count": 9,
   "metadata": {},
   "outputs": [],
   "source": [
    "# Plot the Automaton evolution\n",
    "def plot_automata(universe):\n",
    "    fig, ax = plt.subplots(figsize = (12, 12))\n",
    "    ax.set_title(\"Automaton Evolution \", fontsize = 20)\n",
    "    plt.imshow(universe, cmap='Greys',  interpolation='nearest')\n",
    "    plt.xlabel(\"Cells\", fontsize = 11)\n",
    "    plt.ylabel(\"Generations\", fontsize = 11)\n",
    "    plt.show()"
   ]
  },
  {
   "cell_type": "code",
   "execution_count": 10,
   "metadata": {},
   "outputs": [
    {
     "data": {
      "image/png": "[encoded data removed]",
      "text/plain": [
       "<Figure size 864x864 with 1 Axes>"
      ]
     },
     "metadata": {
      "needs_background": "light"
     },
     "output_type": "display_data"
    }
   ],
   "source": [
    "# Plotting automaton\n",
    "plot_automata(universe)"
   ]
  },
  {
   "cell_type": "markdown",
   "metadata": {},
   "source": [
    "### 8.1.3. Apply evolution rule: 90"
   ]
  },
  {
   "cell_type": "code",
   "execution_count": 11,
   "metadata": {},
   "outputs": [
    {
     "data": {
      "text/plain": [
       "{'000': 0,\n",
       " '001': 1,\n",
       " '010': 0,\n",
       " '011': 1,\n",
       " '100': 1,\n",
       " '101': 0,\n",
       " '110': 1,\n",
       " '111': 0}"
      ]
     },
     "execution_count": 11,
     "metadata": {},
     "output_type": "execute_result"
    }
   ],
   "source": [
    "# Rule: bin(90) = 01011010\n",
    "rule = create_lca_rule(90)\n",
    "rule"
   ]
  },
  {
   "cell_type": "code",
   "execution_count": 12,
   "metadata": {},
   "outputs": [],
   "source": [
    "# Initial state of the linear cellular automaton\n",
    "n_cell = 257\n",
    "init_state = list(np.zeros(n_cell).astype(int))\n",
    "init_state[n_cell // 2] = 1"
   ]
  },
  {
   "cell_type": "code",
   "execution_count": 13,
   "metadata": {},
   "outputs": [],
   "source": [
    "# Evolve the linear cellular automaton\n",
    "max_generations = 128\n",
    "r = 1\n",
    "universe = evolve_lca_automaton(init_state, max_generations, rule, r)"
   ]
  },
  {
   "cell_type": "code",
   "execution_count": 14,
   "metadata": {},
   "outputs": [
    {
     "data": {
      "image/png": "[encoded data removed]",
      "text/plain": [
       "<Figure size 864x864 with 1 Axes>"
      ]
     },
     "metadata": {
      "needs_background": "light"
     },
     "output_type": "display_data"
    }
   ],
   "source": [
    "# Plotting automaton\n",
    "plot_automata(universe)"
   ]
  },
  {
   "cell_type": "markdown",
   "metadata": {},
   "source": [
    "## 8.2. Reversible Linear Cellular Automata (RLCA)"
   ]
  },
  {
   "cell_type": "markdown",
   "metadata": {},
   "source": [
    "#### Util Functions: converts byte list to binary string and vice versa"
   ]
  },
  {
   "cell_type": "code",
   "execution_count": 15,
   "metadata": {},
   "outputs": [],
   "source": [
    "# Convert a byte list to a bits string\n",
    "def byte_list_to_bit_string(byte_list):\n",
    "    bit_string = ''\n",
    "    for byte in byte_list:\n",
    "        bit_string += bin(byte)[2:].zfill(8)\n",
    "    return bit_string\n",
    "\n",
    "# Convert a bits string to a byte list\n",
    "def bit_string_to_byte_list(bit_string):\n",
    "    byte_list = []\n",
    "    n = len(bit_string) // 8\n",
    "    for i in range(n):\n",
    "        ix_start = i * 8\n",
    "        ix_end = 8 + i * 8\n",
    "        byte = bit_string[ix_start:ix_end]\n",
    "        byte_list.append(int(byte, 2))\n",
    "    return byte_list\n",
    "\n",
    "# Update a string by index\n",
    "def update_string(s, i, v):\n",
    "    ns = s[:i] + v + s[i+1:]\n",
    "    return ns"
   ]
  },
  {
   "cell_type": "markdown",
   "metadata": {},
   "source": [
    "### 8.2.1. Reversible Linear Cellular Automata functions"
   ]
  },
  {
   "cell_type": "markdown",
   "metadata": {},
   "source": [
    "**Totalistic:** A special class of cellular automata are totalistic cellular automata. The state of each cell in a totalistic cellular automaton is represented by a number (usually an integer value drawn from a finite set), and the value of a cell at time t depends only on the sum of the values of the cells in its neighborhood (possibly including the cell itself) at time t − 1."
   ]
  },
  {
   "cell_type": "code",
   "execution_count": 16,
   "metadata": {},
   "outputs": [],
   "source": [
    "# Creates a RLCA totalistic rule\n",
    "def create_rlca_rule(byte, r = 2):\n",
    "    rule = {}\n",
    "    r_size = 2 * r + 1\n",
    "    bits = bin(byte)[2:].zfill(r_size)\n",
    "    b_size = len(bits)\n",
    "    \n",
    "    for i in range(0, b_size):\n",
    "        bin_value = bits[(b_size - i - 1)]\n",
    "        rule[i] = int(bin_value)\n",
    "    \n",
    "    return rule"
   ]
  },
  {
   "cell_type": "code",
   "execution_count": 17,
   "metadata": {},
   "outputs": [],
   "source": [
    "# Get automata cells value\n",
    "def get_cells_value(automaton, ix, r, n):\n",
    "    value = 0\n",
    "    ix_start = max(ix - r, 0)\n",
    "    ix_end = min(ix + r + 1, n)\n",
    "    \n",
    "    for i in range(ix_start, ix_end):\n",
    "        if i != ix:\n",
    "            value += int(automaton[i])\n",
    "    \n",
    "    return value"
   ]
  },
  {
   "cell_type": "code",
   "execution_count": 18,
   "metadata": {},
   "outputs": [],
   "source": [
    "# Apply Linear Cellular Automata rule to current automaton\n",
    "def apply_rlca_rule(automaton, rule, r, forward):\n",
    "    n_cell = len(automaton)\n",
    "    new_automaton = []\n",
    "    curr_bit_string = (automaton + '.')[:-1]\n",
    "    \n",
    "    if forward:\n",
    "        curr_range = range(0, n_cell, 1)\n",
    "    else:\n",
    "        curr_range = range(n_cell - 1, -1, -1)\n",
    "    \n",
    "    for i in curr_range:\n",
    "        gen_ix = get_cells_value(curr_bit_string, i, r, n_cell)\n",
    "        cell = rule[gen_ix]\n",
    "        new_cell = str(int(not(int(curr_bit_string[i]) ^ cell)))\n",
    "        \n",
    "        if new_cell != curr_bit_string[i]:\n",
    "            curr_bit_string = update_string(curr_bit_string, i, new_cell)\n",
    "    \n",
    "    # Code new automaton and return it\n",
    "    new_automaton = bit_string_to_byte_list(curr_bit_string)\n",
    "    return new_automaton"
   ]
  },
  {
   "cell_type": "code",
   "execution_count": 19,
   "metadata": {},
   "outputs": [],
   "source": [
    "# Evolve the RLCA\n",
    "def evolve_rlca_automaton(init_state, max_gen, rule, r, forward):\n",
    "    universe = [init_state]\n",
    "    n_cell = len(init_state)\n",
    "    \n",
    "    for g in range(max_gen):\n",
    "        automaton = universe[g]\n",
    "        automaton_bits = byte_list_to_bit_string(automaton)\n",
    "        new_automaton = apply_rlca_rule(automaton_bits, key, r, forward)\n",
    "        universe.append(new_automaton)\n",
    "    \n",
    "    return universe"
   ]
  },
  {
   "cell_type": "markdown",
   "metadata": {},
   "source": [
    "### 8.2.2. Run RLCA: Forward way"
   ]
  },
  {
   "cell_type": "code",
   "execution_count": 20,
   "metadata": {},
   "outputs": [],
   "source": [
    "# Evolution params\n",
    "max_generations = 128\n",
    "r = 3"
   ]
  },
  {
   "cell_type": "code",
   "execution_count": 21,
   "metadata": {},
   "outputs": [
    {
     "data": {
      "text/plain": [
       "{0: 0, 1: 1, 2: 1, 3: 1, 4: 0, 5: 0, 6: 0}"
      ]
     },
     "execution_count": 21,
     "metadata": {},
     "output_type": "execute_result"
    }
   ],
   "source": [
    "# Totalistic Rule: bin(14) = 0001110\n",
    "key = create_rlca_rule(14, r)\n",
    "key"
   ]
  },
  {
   "cell_type": "code",
   "execution_count": 22,
   "metadata": {},
   "outputs": [],
   "source": [
    "# Initial state of the linear cellular automaton\n",
    "n_cell = 257\n",
    "init_state = list(np.zeros(n_cell).astype(int))\n",
    "init_state[n_cell // 2] = 1"
   ]
  },
  {
   "cell_type": "code",
   "execution_count": 23,
   "metadata": {},
   "outputs": [],
   "source": [
    "# Evolve the reversible linear cellular automata\n",
    "forward = True\n",
    "universe = evolve_rlca_automaton(init_state, max_generations, rule, r, forward)"
   ]
  },
  {
   "cell_type": "code",
   "execution_count": 24,
   "metadata": {},
   "outputs": [
    {
     "data": {
      "image/png": "[encoded data removed]",
      "text/plain": [
       "<Figure size 864x864 with 1 Axes>"
      ]
     },
     "metadata": {
      "needs_background": "light"
     },
     "output_type": "display_data"
    }
   ],
   "source": [
    "# Plotting RLCA\n",
    "plot_automata(universe)"
   ]
  },
  {
   "cell_type": "markdown",
   "metadata": {},
   "source": [
    "### 8.2.3. Run RLCA: Backward way"
   ]
  },
  {
   "cell_type": "code",
   "execution_count": 25,
   "metadata": {},
   "outputs": [],
   "source": [
    "# Initial state of the linear cellular automaton\n",
    "init_state2 = universe[max_generations - 1]"
   ]
  },
  {
   "cell_type": "code",
   "execution_count": 26,
   "metadata": {},
   "outputs": [],
   "source": [
    "# Evolve the reversible linear cellular automata\n",
    "forward = False\n",
    "universe2 = evolve_rlca_automaton(init_state2, max_generations, rule, r, forward)"
   ]
  },
  {
   "cell_type": "code",
   "execution_count": 27,
   "metadata": {},
   "outputs": [
    {
     "data": {
      "image/png": "[encoded data removed]",
      "text/plain": [
       "<Figure size 864x864 with 1 Axes>"
      ]
     },
     "metadata": {
      "needs_background": "light"
     },
     "output_type": "display_data"
    }
   ],
   "source": [
    "# Plotting RLCA\n",
    "plot_automata(universe2)"
   ]
  },
  {
   "cell_type": "markdown",
   "metadata": {},
   "source": [
    "### 8.2.4. Validation of the Reversibility of the Automata"
   ]
  },
  {
   "cell_type": "code",
   "execution_count": 28,
   "metadata": {},
   "outputs": [
    {
     "data": {
      "text/plain": [
       "True"
      ]
     },
     "execution_count": 28,
     "metadata": {},
     "output_type": "execute_result"
    }
   ],
   "source": [
    "universe[0] == universe2[max_generations - 1]"
   ]
  },
  {
   "cell_type": "markdown",
   "metadata": {},
   "source": [
    "<hr>\n",
    "<p><a href=\"https://ansegura7.github.io/Algorithms/\">« Home</a></p>"
   ]
  }
 ],
 "metadata": {
  "kernelspec": {
   "display_name": "Python 3",
   "language": "python",
   "name": "python3"
  },
  "language_info": {
   "codemirror_mode": {
    "name": "ipython",
    "version": 3
   },
   "file_extension": ".py",
   "mimetype": "text/x-python",
   "name": "python",
   "nbconvert_exporter": "python",
   "pygments_lexer": "ipython3",
   "version": "3.8.5"
  },
  "varInspector": {
   "cols": {
    "lenName": 16,
    "lenType": 16,
    "lenVar": 40
   },
   "kernels_config": {
    "python": {
     "delete_cmd_postfix": "",
     "delete_cmd_prefix": "del ",
     "library": "var_list.py",
     "varRefreshCmd": "print(var_dic_list())"
    },
    "r": {
     "delete_cmd_postfix": ") ",
     "delete_cmd_prefix": "rm(",
     "library": "var_list.r",
     "varRefreshCmd": "cat(var_dic_list()) "
    }
   },
   "types_to_exclude": [
    "module",
    "function",
    "builtin_function_or_method",
    "instance",
    "_Feature"
   ],
   "window_display": false
  }
 },
 "nbformat": 4,
 "nbformat_minor": 2
}
