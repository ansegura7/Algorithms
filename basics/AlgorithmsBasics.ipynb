{
 "cells": [
  {
   "cell_type": "markdown",
   "metadata": {},
   "source": [
    "# 1. Algorithm's Basics"
   ]
  },
  {
   "cell_type": "markdown",
   "metadata": {},
   "source": [
    "- **Created by Andrés Segura Tinoco**\n",
    "- **Created on Dec 18, 2019**"
   ]
  },
  {
   "cell_type": "markdown",
   "metadata": {},
   "source": [
    "## Algorithms\n",
    "In mathematics and computer science, an algorithm is a finite sequence of well-defined, computer-implementable instructions, typically to solve a class of problems or to perform a computation <a href=\"#link_one\">[1]</a>."
   ]
  },
  {
   "cell_type": "code",
   "execution_count": 1,
   "metadata": {},
   "outputs": [],
   "source": [
    "# Load the Python libraries\n",
    "import math\n",
    "import random\n",
    "import timeit\n",
    "import numpy as np\n",
    "from scipy import stats\n",
    "from itertools import cycle"
   ]
  },
  {
   "cell_type": "code",
   "execution_count": 2,
   "metadata": {},
   "outputs": [],
   "source": [
    "# Load plotting libraries\n",
    "import matplotlib.pyplot as plt"
   ]
  },
  {
   "cell_type": "markdown",
   "metadata": {},
   "source": [
    "## 1.1. Greatest Common Divisor (GCD)"
   ]
  },
  {
   "cell_type": "code",
   "execution_count": 3,
   "metadata": {},
   "outputs": [],
   "source": [
    "# Example values\n",
    "m = 12000000\n",
    "n = 76000000"
   ]
  },
  {
   "cell_type": "markdown",
   "metadata": {},
   "source": [
    "### Simple approach"
   ]
  },
  {
   "cell_type": "code",
   "execution_count": 4,
   "metadata": {},
   "outputs": [],
   "source": [
    "# Function that returns the GCD of two values (intuitive algorithn)\n",
    "def gcd_simple(m, n):\n",
    "    i = min(m, n) + 1\n",
    "    \n",
    "    while (m % i != 0) or (n % i != 0):\n",
    "        i -= 1\n",
    "        \n",
    "    return i"
   ]
  },
  {
   "cell_type": "code",
   "execution_count": 5,
   "metadata": {},
   "outputs": [
    {
     "name": "stdout",
     "output_type": "stream",
     "text": [
      "4000000\n",
      ">> elapsed time 1571.6814 ms\n"
     ]
    }
   ],
   "source": [
    "start_time = timeit.default_timer()\n",
    "print(gcd_simple(m, n))\n",
    "print('>> elapsed time', (timeit.default_timer() - start_time) * 1000, 'ms')"
   ]
  },
  {
   "cell_type": "markdown",
   "metadata": {},
   "source": [
    "### Enhanced approach"
   ]
  },
  {
   "cell_type": "code",
   "execution_count": 6,
   "metadata": {},
   "outputs": [],
   "source": [
    "# Function that returns the GCD of two values (euclidean algorithm)\n",
    "def gcd_euclidean(m, n):\n",
    "    \n",
    "    while m > 0:\n",
    "        t = m\n",
    "        m = n % m\n",
    "        n = t\n",
    "    \n",
    "    return n"
   ]
  },
  {
   "cell_type": "code",
   "execution_count": 7,
   "metadata": {},
   "outputs": [
    {
     "name": "stdout",
     "output_type": "stream",
     "text": [
      "4000000\n",
      ">> elapsed time 0.5833000000001753 ms\n"
     ]
    }
   ],
   "source": [
    "start_time = timeit.default_timer()\n",
    "print(gcd_euclidean(m, n))\n",
    "print('>> elapsed time', (timeit.default_timer() - start_time) * 1000, 'ms')"
   ]
  },
  {
   "cell_type": "markdown",
   "metadata": {},
   "source": [
    "## 1.2. Fibonacci Serie"
   ]
  },
  {
   "cell_type": "code",
   "execution_count": 8,
   "metadata": {},
   "outputs": [],
   "source": [
    "# Example value\n",
    "n = 35"
   ]
  },
  {
   "cell_type": "markdown",
   "metadata": {},
   "source": [
    "### Recursive algorithm"
   ]
  },
  {
   "cell_type": "code",
   "execution_count": 9,
   "metadata": {},
   "outputs": [],
   "source": [
    "# Function that returns the n-fibonacci value (recursive algorithm)\n",
    "def fibo_rec(n):\n",
    "    if n < 2:\n",
    "        return n\n",
    "    else:\n",
    "        return fibo_rec(n - 1) + fibo_rec(n - 2)"
   ]
  },
  {
   "cell_type": "code",
   "execution_count": 10,
   "metadata": {},
   "outputs": [
    {
     "name": "stdout",
     "output_type": "stream",
     "text": [
      "9227465\n",
      ">> elapsed time 6993.111200000001 ms\n"
     ]
    }
   ],
   "source": [
    "start_time = timeit.default_timer()\n",
    "print(fibo_rec(n))\n",
    "print('>> elapsed time', (timeit.default_timer() - start_time) * 1000, 'ms')"
   ]
  },
  {
   "cell_type": "markdown",
   "metadata": {},
   "source": [
    "### Iterative algorithm"
   ]
  },
  {
   "cell_type": "code",
   "execution_count": 11,
   "metadata": {},
   "outputs": [],
   "source": [
    "# Function that returns the n-fibonacci value (iterative algorithm)\n",
    "def fibo_iter(n):\n",
    "    i, j = 1, 0\n",
    "    \n",
    "    for k in range(n):\n",
    "        j = i + j\n",
    "        i = j - i\n",
    "    \n",
    "    return j"
   ]
  },
  {
   "cell_type": "code",
   "execution_count": 12,
   "metadata": {},
   "outputs": [
    {
     "name": "stdout",
     "output_type": "stream",
     "text": [
      "9227465\n",
      ">> elapsed time 0.1842999999990269 ms\n"
     ]
    }
   ],
   "source": [
    "start_time = timeit.default_timer()\n",
    "print(fibo_iter(n))\n",
    "print('>> elapsed time', (timeit.default_timer() - start_time) * 1000, 'ms')"
   ]
  },
  {
   "cell_type": "markdown",
   "metadata": {},
   "source": [
    "### Approximation approach\n",
    "With the De Moivre's formula:"
   ]
  },
  {
   "cell_type": "markdown",
   "metadata": {},
   "source": [
    "$$ f_{n} = {\\frac{1}{\\sqrt{5}}}{[\\phi^n -(-\\phi)^{-n}]} \\tag{1}, $$\n",
    "$$ \\phi = (1 + \\sqrt{5})\\,/\\,2 $$"
   ]
  },
  {
   "cell_type": "code",
   "execution_count": 13,
   "metadata": {},
   "outputs": [],
   "source": [
    "# Function that returns the n-fibonacci value (De Moivre equation)\n",
    "def fibo_de_moivre(n):\n",
    "    golden_ratio = (1 + 5**(1/2)) / 2\n",
    "    f = (golden_ratio**n - (-golden_ratio)**(-n)) / 5**(1/2)\n",
    "    return int(f)"
   ]
  },
  {
   "cell_type": "code",
   "execution_count": 14,
   "metadata": {},
   "outputs": [
    {
     "name": "stdout",
     "output_type": "stream",
     "text": [
      "9227465\n",
      ">> elapsed time 0.26199999999931833 ms\n"
     ]
    }
   ],
   "source": [
    "start_time = timeit.default_timer()\n",
    "print(fibo_de_moivre(n))\n",
    "print('>> elapsed time', (timeit.default_timer() - start_time) * 1000, 'ms')"
   ]
  },
  {
   "cell_type": "markdown",
   "metadata": {},
   "source": [
    "## 1.3. Integer Factorization"
   ]
  },
  {
   "cell_type": "code",
   "execution_count": 15,
   "metadata": {},
   "outputs": [
    {
     "data": {
      "text/plain": [
       "10967535067"
      ]
     },
     "execution_count": 15,
     "metadata": {},
     "output_type": "execute_result"
    }
   ],
   "source": [
    "# Example values\n",
    "a, b = 104723, 104729\n",
    "n = a * b\n",
    "n"
   ]
  },
  {
   "cell_type": "code",
   "execution_count": 16,
   "metadata": {},
   "outputs": [],
   "source": [
    "# Function that returns the factorization of an integer (ascending approach)\n",
    "def fact_int(n):\n",
    "    nn = n**(1/2)\n",
    "    m = 2\n",
    "    \n",
    "    while m < nn:\n",
    "        if n % m == 0:\n",
    "            return (m, n // m)\n",
    "        m += 1\n",
    "    \n",
    "    return (1, n)"
   ]
  },
  {
   "cell_type": "code",
   "execution_count": 17,
   "metadata": {},
   "outputs": [
    {
     "name": "stdout",
     "output_type": "stream",
     "text": [
      "(104723, 104729)\n",
      ">> elapsed time 33.934099999999745 ms\n"
     ]
    }
   ],
   "source": [
    "start_time = timeit.default_timer()\n",
    "print(fact_int(n))\n",
    "print('>> elapsed time', (timeit.default_timer() - start_time) * 1000, 'ms')"
   ]
  },
  {
   "cell_type": "code",
   "execution_count": 18,
   "metadata": {},
   "outputs": [],
   "source": [
    "# Function that returns the factorization of an integer (descending approach)\n",
    "def fact_int_2(n):\n",
    "    nn = n**(1/2)\n",
    "    m = int(nn)\n",
    "    \n",
    "    while m > 1:\n",
    "        if n % m == 0:\n",
    "            return (m, n // m)\n",
    "        m -= 1\n",
    "    \n",
    "    return (1, n)"
   ]
  },
  {
   "cell_type": "code",
   "execution_count": 19,
   "metadata": {},
   "outputs": [
    {
     "name": "stdout",
     "output_type": "stream",
     "text": [
      "(104723, 104729)\n",
      ">> elapsed time 0.2788000000002455 ms\n"
     ]
    }
   ],
   "source": [
    "start_time = timeit.default_timer()\n",
    "print(fact_int_2(n))\n",
    "print('>> elapsed time', (timeit.default_timer() - start_time) * 1000, 'ms')"
   ]
  },
  {
   "cell_type": "markdown",
   "metadata": {},
   "source": [
    "## 1.4. Tower of Hanoi"
   ]
  },
  {
   "cell_type": "markdown",
   "metadata": {},
   "source": [
    "The Tower of Hanoi is a mathematical game or puzzle. It consists of three rods and a number of disks of different sizes, which can slide onto any rod. The puzzle starts with the disks in a neat stack in ascending order of size on one rod, the smallest at the top, thus making a conical shape <a href=\"#link_two\">[2]</a>."
   ]
  },
  {
   "cell_type": "code",
   "execution_count": 20,
   "metadata": {},
   "outputs": [],
   "source": [
    "# Disk number between 2 and 64 (not recommended)\n",
    "n_disks = 5"
   ]
  },
  {
   "cell_type": "markdown",
   "metadata": {},
   "source": [
    "### The recursive and classic algorithm"
   ]
  },
  {
   "cell_type": "code",
   "execution_count": 21,
   "metadata": {},
   "outputs": [],
   "source": [
    "# Move n disk from source to destination\n",
    "def hanoi_rec(n, source, aux, target):\n",
    "    if n > 0:\n",
    "        hanoi_rec(n - 1, source, target, aux)\n",
    "        print('Move disk', n, 'from:', source, 'to:', target)\n",
    "        hanoi_rec(n - 1, aux, source, target)"
   ]
  },
  {
   "cell_type": "code",
   "execution_count": 22,
   "metadata": {},
   "outputs": [
    {
     "name": "stdout",
     "output_type": "stream",
     "text": [
      ">> number of movements: 31\n",
      "Move disk 1 from: T1 to: T3\n",
      "Move disk 2 from: T1 to: T2\n",
      "Move disk 1 from: T3 to: T2\n",
      "Move disk 3 from: T1 to: T3\n",
      "Move disk 1 from: T2 to: T1\n",
      "Move disk 2 from: T2 to: T3\n",
      "Move disk 1 from: T1 to: T3\n",
      "Move disk 4 from: T1 to: T2\n",
      "Move disk 1 from: T3 to: T2\n",
      "Move disk 2 from: T3 to: T1\n",
      "Move disk 1 from: T2 to: T1\n",
      "Move disk 3 from: T3 to: T2\n",
      "Move disk 1 from: T1 to: T3\n",
      "Move disk 2 from: T1 to: T2\n",
      "Move disk 1 from: T3 to: T2\n",
      "Move disk 5 from: T1 to: T3\n",
      "Move disk 1 from: T2 to: T1\n",
      "Move disk 2 from: T2 to: T3\n",
      "Move disk 1 from: T1 to: T3\n",
      "Move disk 3 from: T2 to: T1\n",
      "Move disk 1 from: T3 to: T2\n",
      "Move disk 2 from: T3 to: T1\n",
      "Move disk 1 from: T2 to: T1\n",
      "Move disk 4 from: T2 to: T3\n",
      "Move disk 1 from: T1 to: T3\n",
      "Move disk 2 from: T1 to: T2\n",
      "Move disk 1 from: T3 to: T2\n",
      "Move disk 3 from: T1 to: T3\n",
      "Move disk 1 from: T2 to: T1\n",
      "Move disk 2 from: T2 to: T3\n",
      "Move disk 1 from: T1 to: T3\n",
      ">> elapsed time 53.75049999999959 ms\n"
     ]
    }
   ],
   "source": [
    "start_time = timeit.default_timer()\n",
    "print('>> number of movements:', (2**n_disks - 1))\n",
    "hanoi_rec(n_disks, 'T1', 'T2', 'T3')\n",
    "print('>> elapsed time', (timeit.default_timer() - start_time) * 1000, 'ms')"
   ]
  },
  {
   "cell_type": "markdown",
   "metadata": {},
   "source": [
    "### Iterative algorithm"
   ]
  },
  {
   "cell_type": "code",
   "execution_count": 23,
   "metadata": {},
   "outputs": [],
   "source": [
    "# Move n disk from source to destination\n",
    "def hanoi_iter(n, source, aux, target):\n",
    "    n_movements = 2**n_disks - 1\n",
    "    print('>> number of movements:', n_movements)\n",
    "\n",
    "    tw_src = []\n",
    "    for i in range(n_disks, 0, -1):\n",
    "        tw_src.append(i)\n",
    "    \n",
    "    labels = [source, aux, target]\n",
    "    towers = [tw_src, [], []]\n",
    "    indexes = cycle([0, 1, 2] if n % 2 == 0 else [0, 2, 1])\n",
    "    temp = next(indexes)\n",
    "    disk = 0\n",
    "    \n",
    "    for i in range(1, n_movements + 1):\n",
    "        if i % 2 == 1:\n",
    "            disk = 1\n",
    "            s, t = temp, next(indexes)\n",
    "            temp = t\n",
    "            towers[t].append(towers[s].pop())\n",
    "            print('Move disk', disk, 'from:', labels[s], 'to:', labels[t])\n",
    "        else:\n",
    "            i_t2, i_t3 = [i for i in range(3) if i != temp]\n",
    "            v_t2 = towers[i_t2][len(towers[i_t2]) - 1] if len(towers[i_t2]) else math.inf\n",
    "            v_t3 = towers[i_t3][len(towers[i_t3]) - 1] if len(towers[i_t3]) else math.inf\n",
    "            \n",
    "            if v_t2 < v_t3:\n",
    "                s, t = i_t2, i_t3\n",
    "            else:\n",
    "                s, t = i_t3, i_t2\n",
    "            \n",
    "            disk = towers[s].pop()\n",
    "            towers[t].append(disk)\n",
    "            print('Move disk', disk, 'from:', labels[s], 'to:', labels[t])"
   ]
  },
  {
   "cell_type": "code",
   "execution_count": 24,
   "metadata": {},
   "outputs": [
    {
     "name": "stdout",
     "output_type": "stream",
     "text": [
      ">> number of movements: 31\n",
      "Move disk 1 from: T1 to: T3\n",
      "Move disk 2 from: T1 to: T2\n",
      "Move disk 1 from: T3 to: T2\n",
      "Move disk 3 from: T1 to: T3\n",
      "Move disk 1 from: T2 to: T1\n",
      "Move disk 2 from: T2 to: T3\n",
      "Move disk 1 from: T1 to: T3\n",
      "Move disk 4 from: T1 to: T2\n",
      "Move disk 1 from: T3 to: T2\n",
      "Move disk 2 from: T3 to: T1\n",
      "Move disk 1 from: T2 to: T1\n",
      "Move disk 3 from: T3 to: T2\n",
      "Move disk 1 from: T1 to: T3\n",
      "Move disk 2 from: T1 to: T2\n",
      "Move disk 1 from: T3 to: T2\n",
      "Move disk 5 from: T1 to: T3\n",
      "Move disk 1 from: T2 to: T1\n",
      "Move disk 2 from: T2 to: T3\n",
      "Move disk 1 from: T1 to: T3\n",
      "Move disk 3 from: T2 to: T1\n",
      "Move disk 1 from: T3 to: T2\n",
      "Move disk 2 from: T3 to: T1\n",
      "Move disk 1 from: T2 to: T1\n",
      "Move disk 4 from: T2 to: T3\n",
      "Move disk 1 from: T1 to: T3\n",
      "Move disk 2 from: T1 to: T2\n",
      "Move disk 1 from: T3 to: T2\n",
      "Move disk 3 from: T1 to: T3\n",
      "Move disk 1 from: T2 to: T1\n",
      "Move disk 2 from: T2 to: T3\n",
      "Move disk 1 from: T1 to: T3\n",
      ">> elapsed time 58.088100000000864 ms\n"
     ]
    }
   ],
   "source": [
    "start_time = timeit.default_timer()\n",
    "hanoi_iter(n_disks, 'T1', 'T2', 'T3')\n",
    "print('>> elapsed time', (timeit.default_timer() - start_time) * 1000, 'ms')"
   ]
  },
  {
   "cell_type": "markdown",
   "metadata": {},
   "source": [
    "## 1.5. Sorting Algorithm"
   ]
  },
  {
   "cell_type": "markdown",
   "metadata": {},
   "source": [
    "**Bubble sort**, sometimes referred to as sinking sort, is a simple sorting algorithm that repeatedly steps through the list, compares adjacent elements and swaps them if they are in the wrong order. The pass through the list is repeated until the list is sorted. The algorithm, which is a comparison sort, is named for the way smaller or larger elements \"bubble\" to the top of the list <a href=\"#link_three\">[3]</a>."
   ]
  },
  {
   "cell_type": "code",
   "execution_count": 25,
   "metadata": {},
   "outputs": [],
   "source": [
    "# Bubble-sort: non-efficient sorting algorithm\n",
    "def bubble_sort(array):\n",
    "    n = len(array)\n",
    "    for i in range(n):\n",
    "        for j in range(0, n-i-1):\n",
    "            if array[j] > array[j+1] :\n",
    "                array[j], array[j+1] = array[j+1], array[j]\n",
    "    \n",
    "    return array"
   ]
  },
  {
   "cell_type": "markdown",
   "metadata": {},
   "source": [
    "With time complexity of $ \\Theta(n^2) $ and space complexity of $ \\Theta(n) $."
   ]
  },
  {
   "cell_type": "code",
   "execution_count": 26,
   "metadata": {},
   "outputs": [],
   "source": [
    "# Example values\n",
    "n = 100\n",
    "raw_data = []\n",
    "for i in range(n):\n",
    "    raw_data.append(int(random.random() * n))"
   ]
  },
  {
   "cell_type": "code",
   "execution_count": 27,
   "metadata": {},
   "outputs": [],
   "source": [
    "# Sorting data\n",
    "sorted_data = bubble_sort(raw_data.copy())"
   ]
  },
  {
   "cell_type": "code",
   "execution_count": 28,
   "metadata": {},
   "outputs": [
    {
     "data": {
      "image/png": "[encoded data removed]",
      "text/plain": [
       "<Figure size 1152x576 with 2 Axes>"
      ]
     },
     "metadata": {
      "needs_background": "light"
     },
     "output_type": "display_data"
    }
   ],
   "source": [
    "# Plotting\n",
    "fig = plt.figure(figsize = (16, 8))\n",
    "fig.subplots_adjust(hspace = 0.15, wspace = 0.15)\n",
    "\n",
    "# Plotting results before sorting\n",
    "plt.subplot(1, 2, 1)\n",
    "plt.plot(raw_data, linewidth=0, marker=\"o\", markersize=3, color=\"#3366cc\")\n",
    "plt.title(\"Data Before Sorting\", fontsize = 14)\n",
    "plt.ylabel('Value')\n",
    "plt.xlabel('Index')\n",
    "\n",
    "# Plotting results after sorting\n",
    "plt.subplot(1, 2, 2)\n",
    "plt.plot(sorted_data, linewidth=0, marker=\"o\", markersize=3, color=\"#109618\")\n",
    "plt.title(\"Data After Sorting\", fontsize = 14)\n",
    "plt.ylabel('Value')\n",
    "plt.xlabel('Index')\n",
    "plt.show()"
   ]
  },
  {
   "cell_type": "code",
   "execution_count": 29,
   "metadata": {},
   "outputs": [],
   "source": [
    "# Validation values\n",
    "x_data = [0]\n",
    "diff_raw_data = [0]\n",
    "diff_sorted_data = [0]\n",
    "\n",
    "for i in range(1, n):\n",
    "    x_data.append(i)\n",
    "    diff_raw_data.append(raw_data[i] - raw_data[i-1])\n",
    "    diff_sorted_data.append(sorted_data[i] - sorted_data[i-1])"
   ]
  },
  {
   "cell_type": "code",
   "execution_count": 30,
   "metadata": {},
   "outputs": [
    {
     "name": "stdout",
     "output_type": "stream",
     "text": [
      "Raw data - Gap sum: 2888\n",
      "Sorted data - Gap sum: 97\n"
     ]
    }
   ],
   "source": [
    "# Showing gap differences\n",
    "raw_sum_abs = sum([abs(v) for v in diff_raw_data])\n",
    "sorted_sum_abs = sum([abs(v) for v in diff_sorted_data])\n",
    "\n",
    "print('Raw data - Gap sum:', raw_sum_abs)\n",
    "print('Sorted data - Gap sum:', sorted_sum_abs)"
   ]
  },
  {
   "cell_type": "code",
   "execution_count": 31,
   "metadata": {},
   "outputs": [
    {
     "data": {
      "image/png": "[encoded data removed]",
      "text/plain": [
       "<Figure size 1152x576 with 2 Axes>"
      ]
     },
     "metadata": {
      "needs_background": "light"
     },
     "output_type": "display_data"
    }
   ],
   "source": [
    "# Plotting\n",
    "fig = plt.figure(figsize = (16, 8))\n",
    "fig.subplots_adjust(hspace = 0.15, wspace = 0.15)\n",
    "\n",
    "# Plotting results before sorting\n",
    "plt.subplot(1, 2, 1)\n",
    "plt.step(x_data, diff_raw_data, where='mid', color=\"#3366cc\", alpha=0.6)\n",
    "plt.plot(diff_raw_data, linewidth=0, marker=\"o\", markersize=3, color=\"#3366cc\")\n",
    "plt.title(\"Differences between Raw points\", fontsize = 14)\n",
    "plt.ylabel('Diff')\n",
    "plt.xlabel('Index')\n",
    "\n",
    "# Plotting results after sorting\n",
    "plt.subplot(1, 2, 2)\n",
    "plt.step(x_data, diff_sorted_data, where='mid', color=\"#109618\", alpha=0.6)\n",
    "plt.plot(diff_sorted_data, linewidth=0, marker=\"o\", markersize=3, color=\"#109618\")\n",
    "plt.title(\"Differences between Sorted points\", fontsize = 14)\n",
    "plt.ylabel('Diff')\n",
    "plt.xlabel('Index')\n",
    "plt.show()"
   ]
  },
  {
   "cell_type": "markdown",
   "metadata": {},
   "source": [
    "## 1.6. Convex Hull"
   ]
  },
  {
   "cell_type": "markdown",
   "metadata": {},
   "source": [
    "In geometry, **the convex hull** or convex envelope or convex closure of a shape is the smallest convex set that contains it. For a bounded subset of the plane, the convex hull may be visualized as the shape enclosed by a rubber band stretched around the subset <a href=\"#link_four\">[4]</a>.\n",
    "\n",
    "Formally, the convex hull may be defined either as the intersection of all convex sets containing a given subset of a Euclidean space, or equivalently as the set of all convex combinations of points in the subset. Convex hulls of open sets are open, and convex hulls of compact sets are compact. Every convex set is the convex hull of its extreme points."
   ]
  },
  {
   "cell_type": "code",
   "execution_count": 32,
   "metadata": {},
   "outputs": [],
   "source": [
    "# Example values\n",
    "n = 1000\n",
    "points = []\n",
    "\n",
    "for i in range(n):\n",
    "    x = int(random.random() * n)\n",
    "    y = int(random.random() * n)\n",
    "    points.append((x, y))\n",
    "\n",
    "points = np.array(points)"
   ]
  },
  {
   "cell_type": "code",
   "execution_count": 33,
   "metadata": {},
   "outputs": [],
   "source": [
    "# Iterative Convex Hull - Greedy algorithm\n",
    "def split(u, v, points):\n",
    "    # return points on left side of UV\n",
    "    return [p for p in points if np.cross(p - u, v - u) < 0]\n",
    "\n",
    "def extend(u, v, points):\n",
    "    if not points:\n",
    "        return []\n",
    "\n",
    "    # find furthest point W, and split search to WV, UW\n",
    "    w = min(points, key=lambda p: np.cross(p - u, v - u))\n",
    "    p1, p2 = split(w, v, points), split(u, w, points)\n",
    "    return extend(w, v, p1) + [w] + extend(u, w, p2)\n",
    "\n",
    "def convex_hull_greedy(points):\n",
    "    \n",
    "    # Find two hull points, U, V, and split to left and right search\n",
    "    u = min(points, key=lambda p: p[0])\n",
    "    v = max(points, key=lambda p: p[0])\n",
    "    left, right = split(u, v, points), split(v, u, points)\n",
    "\n",
    "    # find convex hull on each side\n",
    "    return [v] + extend(u, v, left) + [u] + extend(v, u, right) + [v]"
   ]
  },
  {
   "cell_type": "code",
   "execution_count": 34,
   "metadata": {},
   "outputs": [
    {
     "name": "stdout",
     "output_type": "stream",
     "text": [
      ">> elapsed time 218.98649999999975 ms\n"
     ]
    }
   ],
   "source": [
    "# Run algorithm\n",
    "start_time = timeit.default_timer()\n",
    "hull1 = convex_hull_greedy(points)\n",
    "print('>> elapsed time', (timeit.default_timer() - start_time) * 1000, 'ms')"
   ]
  },
  {
   "cell_type": "code",
   "execution_count": 35,
   "metadata": {},
   "outputs": [
    {
     "data": {
      "image/png": "[encoded data removed]",
      "text/plain": [
       "<Figure size 576x576 with 1 Axes>"
      ]
     },
     "metadata": {
      "needs_background": "light"
     },
     "output_type": "display_data"
    }
   ],
   "source": [
    "# Plotting convex hull results\n",
    "plt.figure(figsize = (8, 8))\n",
    "plt.plot(points[:,0], points[:,1], linewidth=0, marker=\"o\", markersize=2, color=\"black\")\n",
    "for i in range(1, len(hull1)):\n",
    "    p1 = hull1[i-1]\n",
    "    p2 = hull1[i]\n",
    "    plt.plot([p1[0], p2[0]], [p1[1], p2[1]], color=\"#3366cc\")\n",
    "\n",
    "plt.title(\"Convex Hull - Iterative\", fontsize = 14)\n",
    "plt.ylabel('y')\n",
    "plt.xlabel('x')\n",
    "plt.show()"
   ]
  },
  {
   "cell_type": "markdown",
   "metadata": {},
   "source": [
    "## 1.7. Changing Distribution"
   ]
  },
  {
   "cell_type": "markdown",
   "metadata": {},
   "source": [
    "Practical example of the use of an algorithm to solve a specific problem."
   ]
  },
  {
   "cell_type": "markdown",
   "metadata": {},
   "source": [
    "### Creating a toy uniform distribution"
   ]
  },
  {
   "cell_type": "code",
   "execution_count": 36,
   "metadata": {},
   "outputs": [
    {
     "name": "stdout",
     "output_type": "stream",
     "text": [
      "Total values: 6400\n"
     ]
    }
   ],
   "source": [
    "# Initialize variables\n",
    "n = 256\n",
    "data_raw = [25] * n\n",
    "total = sum(data_raw)\n",
    "print('Total values:', total)"
   ]
  },
  {
   "cell_type": "code",
   "execution_count": 37,
   "metadata": {},
   "outputs": [],
   "source": [
    "# Creating target distribution\n",
    "alpha = 0.02\n",
    "t_func = stats.norm(n/2, alpha*n)\n",
    "x = np.linspace(0, n, n)\n",
    "y = t_func.pdf(x) * total"
   ]
  },
  {
   "cell_type": "code",
   "execution_count": 38,
   "metadata": {},
   "outputs": [],
   "source": [
    "# Create pretty x axis labels\n",
    "def get_x_labels(n):\n",
    "    x_labels = []\n",
    "    for ix in range(n):\n",
    "        if ix % 10 == 0:\n",
    "            x_labels.append(str(ix))\n",
    "        else:\n",
    "            x_labels.append('')\n",
    "    return x_labels"
   ]
  },
  {
   "cell_type": "code",
   "execution_count": 39,
   "metadata": {},
   "outputs": [],
   "source": [
    "# Function that plots a symbol distribution\n",
    "def plot_symbol_dist(data, x, y):\n",
    "    \n",
    "    # Prepare data\n",
    "    n = len(data)\n",
    "    y_pos = np.arange(n)\n",
    "    symbols = get_x_labels(n)\n",
    "    \n",
    "    # Plot distribution\n",
    "    plt.figure(figsize = (12, 5))\n",
    "    plt.plot(x, y, '-', color = '#ff7f0e', lw = 3, label = 'Real distribution')\n",
    "    plt.bar(y_pos, data, align='center', alpha=0.5)\n",
    "    plt.xticks(y_pos, symbols, fontsize = 10, rotation = 50)\n",
    "    plt.ylabel('Value')\n",
    "    plt.title('Distribution')\n",
    "    plt.show()"
   ]
  },
  {
   "cell_type": "code",
   "execution_count": 40,
   "metadata": {},
   "outputs": [
    {
     "data": {
      "image/png": "[encoded data removed]",
      "text/plain": [
       "<Figure size 864x360 with 1 Axes>"
      ]
     },
     "metadata": {
      "needs_background": "light"
     },
     "output_type": "display_data"
    }
   ],
   "source": [
    "# Plot current distribution\n",
    "plot_symbol_dist(data_raw, x, y)"
   ]
  },
  {
   "cell_type": "markdown",
   "metadata": {},
   "source": [
    "### Calculate and plot new (Normal) distribution"
   ]
  },
  {
   "cell_type": "code",
   "execution_count": 41,
   "metadata": {},
   "outputs": [],
   "source": [
    "# Function that calculates the new distribution\n",
    "def get_new_dist(data_raw, y):\n",
    "    a = []\n",
    "    b = []\n",
    "    n = len(data_raw)\n",
    "    \n",
    "    carry = 0\n",
    "    for i in range(n // 2):\n",
    "        y1 = data_raw[i] + carry\n",
    "        y2 = max(math.floor(y[i]), 1)\n",
    "        y_new = min(y1, y2)\n",
    "        a.append(y_new)\n",
    "        carry = y1 - y_new\n",
    "    print('Forward carry:', carry)\n",
    "    \n",
    "    for i in range(n - 1, n // 2 - 1, -1):\n",
    "        y1 = data_raw[i] + carry\n",
    "        y2 = max(math.floor(y[i]), 1)\n",
    "        y_new = min(y1, y2)\n",
    "        b.append(y_new)\n",
    "        carry = y1 - y_new    \n",
    "    print('backward carry:', carry)\n",
    "    \n",
    "    # Concatenate arrays\n",
    "    data_new = a + b[::-1]\n",
    "    return data_new"
   ]
  },
  {
   "cell_type": "code",
   "execution_count": 42,
   "metadata": {},
   "outputs": [
    {
     "name": "stdout",
     "output_type": "stream",
     "text": [
      "Forward carry: 0\n",
      "backward carry: 0\n",
      "n temp: 256\n"
     ]
    }
   ],
   "source": [
    "data_new = get_new_dist(data_raw, y)\n",
    "print('n temp:', len(data_new))"
   ]
  },
  {
   "cell_type": "code",
   "execution_count": 43,
   "metadata": {},
   "outputs": [
    {
     "data": {
      "image/png": "[encoded data removed]",
      "text/plain": [
       "<Figure size 864x360 with 1 Axes>"
      ]
     },
     "metadata": {
      "needs_background": "light"
     },
     "output_type": "display_data"
    }
   ],
   "source": [
    "plot_symbol_dist(data_new, x, y)"
   ]
  },
  {
   "cell_type": "markdown",
   "metadata": {},
   "source": [
    "Validation:"
   ]
  },
  {
   "cell_type": "code",
   "execution_count": 44,
   "metadata": {},
   "outputs": [
    {
     "name": "stdout",
     "output_type": "stream",
     "text": [
      ">> diff: 0\n"
     ]
    }
   ],
   "source": [
    "# Difference between distributions\n",
    "print('>> diff:', total - sum(data_new))"
   ]
  },
  {
   "cell_type": "markdown",
   "metadata": {},
   "source": [
    "## Reference"
   ]
  },
  {
   "cell_type": "markdown",
   "metadata": {},
   "source": [
    "<a name='link_one' href='https://en.wikipedia.org/wiki/Algorithm' target='_blank' >[1]</a> Wikipedia - Algorithm.  \n",
    "<a name='link_two' href='https://en.wikipedia.org/wiki/Tower_of_Hanoi' target='_blank' >[2]</a> Wikipedia - Tower of Hanoi.  \n",
    "<a name='link_three' href='https://en.wikipedia.org/wiki/Bubble_sort' target='_blank' >[3]</a> Wikipedia - Bubble sort.  \n",
    "<a name='link_four' href='https://en.wikipedia.org/wiki/Convex_hull' target='_blank' >[4]</a> Wikipedia - Convex hull.  "
   ]
  },
  {
   "cell_type": "markdown",
   "metadata": {},
   "source": [
    "---\n",
    "<a href=\"https://ansegura7.github.io/Algorithms/\">« Home</a>"
   ]
  }
 ],
 "metadata": {
  "kernelspec": {
   "display_name": "Python 3",
   "language": "python",
   "name": "python3"
  },
  "language_info": {
   "codemirror_mode": {
    "name": "ipython",
    "version": 3
   },
   "file_extension": ".py",
   "mimetype": "text/x-python",
   "name": "python",
   "nbconvert_exporter": "python",
   "pygments_lexer": "ipython3",
   "version": "3.6.8"
  },
  "varInspector": {
   "cols": {
    "lenName": 16,
    "lenType": 16,
    "lenVar": 40
   },
   "kernels_config": {
    "python": {
     "delete_cmd_postfix": "",
     "delete_cmd_prefix": "del ",
     "library": "var_list.py",
     "varRefreshCmd": "print(var_dic_list())"
    },
    "r": {
     "delete_cmd_postfix": ") ",
     "delete_cmd_prefix": "rm(",
     "library": "var_list.r",
     "varRefreshCmd": "cat(var_dic_list()) "
    }
   },
   "types_to_exclude": [
    "module",
    "function",
    "builtin_function_or_method",
    "instance",
    "_Feature"
   ],
   "window_display": false
  }
 },
 "nbformat": 4,
 "nbformat_minor": 2
}
