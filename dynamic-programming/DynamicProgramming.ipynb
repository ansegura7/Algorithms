{
 "cells": [
  {
   "cell_type": "markdown",
   "metadata": {},
   "source": [
    "# Dynamic Programming"
   ]
  },
  {
   "cell_type": "markdown",
   "metadata": {},
   "source": [
    "- **Created by Andrés Segura Tinoco**\n",
    "- **Created on Jan 26, 2020**"
   ]
  },
  {
   "cell_type": "markdown",
   "metadata": {},
   "source": [
    "**Dynamic programming** is an efficient technique for solving many combinatorial optimization problems in a polynomial time."
   ]
  },
  {
   "cell_type": "markdown",
   "metadata": {},
   "source": [
    "Dynamic programming is both a mathematical optimization method and a computer programming method. In both contexts it refers to simplifying a complicated problem by breaking it down into simpler sub-problems in a recursive manner <a href=\"#link_one\">[1]</a>. There are two key attributes that a problem must have in order for dynamic programming to be applicable: optimal substructure and overlapping sub-problems."
   ]
  },
  {
   "cell_type": "markdown",
   "metadata": {},
   "source": [
    "### Principle of Optimality\n",
    "An optimal policy has the property that whatever the initial state and initial decision are, the remaining decisions must constitute an optimal policy with regard to the state resulting from the first decision <a href=\"#link_two\">[2]</a>. (See Bellman, 1957, Chap. III.3.)"
   ]
  },
  {
   "cell_type": "markdown",
   "metadata": {},
   "source": [
    "## 1. Binomial Coefficient"
   ]
  },
  {
   "cell_type": "markdown",
   "metadata": {},
   "source": [
    "In mathematics, the **binomial coefficients** are the positive integers that occur as coefficients in the binomial theorem <a href=\"#link_three\">[3]</a>. Commonly, a binomial coefficient is indexed by a pair of integers $ n ≥ k ≥ 0 $ and is written $ \\tbinom {n}{k} $. It is the coefficient of the $ x^k $ term in the polynomial expansion of the binomial power $ (1 + x)^n $, and it is given by the formula:\n",
    "\n",
    "$$ \\tbinom {n}{k} = \\frac {n!}{k!(n-k)!} \\tag{1}$$"
   ]
  },
  {
   "cell_type": "code",
   "execution_count": 1,
   "metadata": {},
   "outputs": [],
   "source": [
    "# Load the Python libraries\n",
    "import timeit\n",
    "import math\n",
    "import pandas as pd"
   ]
  },
  {
   "cell_type": "code",
   "execution_count": 2,
   "metadata": {},
   "outputs": [],
   "source": [
    "# Example values\n",
    "n = 25\n",
    "k = 15"
   ]
  },
  {
   "cell_type": "markdown",
   "metadata": {},
   "source": [
    "#### Formula approach"
   ]
  },
  {
   "cell_type": "code",
   "execution_count": 3,
   "metadata": {},
   "outputs": [],
   "source": [
    "# Binomial coefficient from the mathematical formula\n",
    "def bin_coef_1(n, k):\n",
    "    return int(math.factorial(n) / (math.factorial(k) * math.factorial(n - k)))"
   ]
  },
  {
   "cell_type": "code",
   "execution_count": 4,
   "metadata": {},
   "outputs": [
    {
     "name": "stdout",
     "output_type": "stream",
     "text": [
      "3268760\n",
      ">> elapsed time 4.044199999999999 ms\n"
     ]
    }
   ],
   "source": [
    "start_time = timeit.default_timer()\n",
    "print(bin_coef_1(n, k))\n",
    "print('>> elapsed time', (timeit.default_timer() - start_time) * 1000, 'ms')"
   ]
  },
  {
   "cell_type": "markdown",
   "metadata": {},
   "source": [
    "#### Simple approach"
   ]
  },
  {
   "cell_type": "code",
   "execution_count": 5,
   "metadata": {},
   "outputs": [],
   "source": [
    "# The recursive natural solution\n",
    "def bin_coef_2(n, k):\n",
    "    if k == 0 or k == n:\n",
    "        return 1\n",
    "    return bin_coef_2(n - 1, k - 1) + bin_coef_2(n - 1, k)"
   ]
  },
  {
   "cell_type": "code",
   "execution_count": 6,
   "metadata": {},
   "outputs": [
    {
     "name": "stdout",
     "output_type": "stream",
     "text": [
      "3268760\n",
      ">> elapsed time 1431.8592 ms\n"
     ]
    }
   ],
   "source": [
    "start_time = timeit.default_timer()\n",
    "print(bin_coef_2(n, k))\n",
    "print('>> elapsed time', (timeit.default_timer() - start_time) * 1000, 'ms')"
   ]
  },
  {
   "cell_type": "markdown",
   "metadata": {},
   "source": [
    "#### Dynamic Programming"
   ]
  },
  {
   "cell_type": "code",
   "execution_count": 7,
   "metadata": {},
   "outputs": [],
   "source": [
    "# Solution with dynamic programming (supported by a table)\n",
    "def bin_coef_3(n, k):\n",
    "    c = 0\n",
    "    v = [1] * (k + 1)\n",
    "    \n",
    "    for i in range(n + 1):\n",
    "        for j in range(k, 0, -1):\n",
    "            if j < i:\n",
    "                v[j] = v[j - 1] + v[j]\n",
    "    \n",
    "    return v[k]"
   ]
  },
  {
   "cell_type": "code",
   "execution_count": 8,
   "metadata": {},
   "outputs": [
    {
     "name": "stdout",
     "output_type": "stream",
     "text": [
      "3268760\n",
      ">> elapsed time 1.5879000000000865 ms\n"
     ]
    }
   ],
   "source": [
    "start_time = timeit.default_timer()\n",
    "print(bin_coef_3(n, k))\n",
    "print('>> elapsed time', (timeit.default_timer() - start_time) * 1000, 'ms')"
   ]
  },
  {
   "cell_type": "markdown",
   "metadata": {},
   "source": [
    "With computational complexity of $ \\Theta(nk) $ and a space complexity of $ \\Theta(k) $."
   ]
  },
  {
   "cell_type": "markdown",
   "metadata": {},
   "source": [
    "## 2. World Championship problem"
   ]
  },
  {
   "cell_type": "code",
   "execution_count": 9,
   "metadata": {},
   "outputs": [],
   "source": [
    "# Example values\n",
    "n = 10\n",
    "p = 0.55\n",
    "q = 1 - p"
   ]
  },
  {
   "cell_type": "markdown",
   "metadata": {},
   "source": [
    "#### Simple approach"
   ]
  },
  {
   "cell_type": "code",
   "execution_count": 10,
   "metadata": {},
   "outputs": [],
   "source": [
    "# The recursive natural solution\n",
    "def WCP(i, j):\n",
    "    if i == 0:\n",
    "        return 1\n",
    "    elif j == 0:\n",
    "        return 0\n",
    "    return p * WCP(i - 1, j) + q * WCP(i, j - 1)"
   ]
  },
  {
   "cell_type": "code",
   "execution_count": 11,
   "metadata": {},
   "outputs": [
    {
     "name": "stdout",
     "output_type": "stream",
     "text": [
      "0.6710359124216079\n",
      ">> elapsed time 130.83449999999996 ms\n"
     ]
    }
   ],
   "source": [
    "start_time = timeit.default_timer()\n",
    "print(WCP(n, n))\n",
    "print('>> elapsed time', (timeit.default_timer() - start_time) * 1000, 'ms')"
   ]
  },
  {
   "cell_type": "markdown",
   "metadata": {},
   "source": [
    "#### Dynamic Programming"
   ]
  },
  {
   "cell_type": "code",
   "execution_count": 12,
   "metadata": {},
   "outputs": [],
   "source": [
    "# Solution with dynamic programming (supported by a table)\n",
    "def WCP2(n, p):\n",
    "    n = n + 1\n",
    "    q = 1 - p\n",
    "    prob = [[0] * n for i in range(n)]\n",
    "    \n",
    "    for s in range(n):\n",
    "        prob[0][s] = 1\n",
    "        for k in range(1, s):\n",
    "            prob[k][s - k] = p * prob[k - 1][s - k] + q * prob[k][s - k - 1]\n",
    "    \n",
    "    for s in range(1, n):\n",
    "        for k in range(0, n - s):\n",
    "            prob[s + k][n - k - 1] = p * prob[s + k - 1][n - k - 1] + q * prob[s + k][n - k - 2]\n",
    "    \n",
    "    return prob[n - 1][n - 1]"
   ]
  },
  {
   "cell_type": "code",
   "execution_count": 13,
   "metadata": {},
   "outputs": [
    {
     "name": "stdout",
     "output_type": "stream",
     "text": [
      "0.6710359124216079\n",
      ">> elapsed time 1.5977000000000352 ms\n"
     ]
    }
   ],
   "source": [
    "start_time = timeit.default_timer()\n",
    "print(WCP2(n, p))\n",
    "print('>> elapsed time', (timeit.default_timer() - start_time) * 1000, 'ms')"
   ]
  },
  {
   "cell_type": "markdown",
   "metadata": {},
   "source": [
    "With computational complexity of $ O(n^2) $ and a space complexity of $ \\Theta(n^2) $."
   ]
  },
  {
   "cell_type": "markdown",
   "metadata": {},
   "source": [
    "## 3. Coin Change problem"
   ]
  },
  {
   "cell_type": "markdown",
   "metadata": {},
   "source": [
    "The **coin-change problem** or change-making problem addresses the question of finding the minimum number of coins (of certain denominations) that add up to a given amount of money. It is a special case of the integer knapsack problem, and has applications wider than just currency <a href=\"#link_four\">[4]</a>."
   ]
  },
  {
   "cell_type": "markdown",
   "metadata": {},
   "source": [
    "#### Returns all possible combinations of coins change with Dynamic Programming\n",
    "Version with unlimited supply of coins."
   ]
  },
  {
   "cell_type": "code",
   "execution_count": 14,
   "metadata": {},
   "outputs": [],
   "source": [
    "def calc_coin_change(N, d):\n",
    "    n = len(d)\n",
    "    matrix = [[0] * (N + 1) for i in range(n)]\n",
    "    \n",
    "    for i in range(0, n):\n",
    "        for j in range(1, N + 1):\n",
    "            if i == 0 and j < d[i]:\n",
    "                matrix[i][j] = math.inf\n",
    "            elif i == 0:\n",
    "                matrix[i][j] = 1 + matrix[0][j - d[0]]\n",
    "            elif j < d[i]:\n",
    "                matrix[i][j] = matrix[i - 1][j]\n",
    "            else:\n",
    "                matrix[i][j] = min(matrix[i - 1][j], 1 + matrix[i][j - d[i]])\n",
    "    \n",
    "    return matrix"
   ]
  },
  {
   "cell_type": "code",
   "execution_count": 15,
   "metadata": {},
   "outputs": [
    {
     "data": {
      "text/html": [
       "<div>\n",
       "<style scoped>\n",
       "    .dataframe tbody tr th:only-of-type {\n",
       "        vertical-align: middle;\n",
       "    }\n",
       "\n",
       "    .dataframe tbody tr th {\n",
       "        vertical-align: top;\n",
       "    }\n",
       "\n",
       "    .dataframe thead th {\n",
       "        text-align: right;\n",
       "    }\n",
       "</style>\n",
       "<table border=\"1\" class=\"dataframe\">\n",
       "  <thead>\n",
       "    <tr style=\"text-align: right;\">\n",
       "      <th></th>\n",
       "      <th>0</th>\n",
       "      <th>1</th>\n",
       "      <th>2</th>\n",
       "      <th>3</th>\n",
       "      <th>4</th>\n",
       "      <th>5</th>\n",
       "      <th>6</th>\n",
       "      <th>7</th>\n",
       "      <th>8</th>\n",
       "    </tr>\n",
       "  </thead>\n",
       "  <tbody>\n",
       "    <tr>\n",
       "      <th>1</th>\n",
       "      <td>0</td>\n",
       "      <td>1</td>\n",
       "      <td>2</td>\n",
       "      <td>3</td>\n",
       "      <td>4</td>\n",
       "      <td>5</td>\n",
       "      <td>6</td>\n",
       "      <td>7</td>\n",
       "      <td>8</td>\n",
       "    </tr>\n",
       "    <tr>\n",
       "      <th>4</th>\n",
       "      <td>0</td>\n",
       "      <td>1</td>\n",
       "      <td>2</td>\n",
       "      <td>3</td>\n",
       "      <td>1</td>\n",
       "      <td>2</td>\n",
       "      <td>3</td>\n",
       "      <td>4</td>\n",
       "      <td>2</td>\n",
       "    </tr>\n",
       "    <tr>\n",
       "      <th>6</th>\n",
       "      <td>0</td>\n",
       "      <td>1</td>\n",
       "      <td>2</td>\n",
       "      <td>3</td>\n",
       "      <td>1</td>\n",
       "      <td>2</td>\n",
       "      <td>1</td>\n",
       "      <td>2</td>\n",
       "      <td>2</td>\n",
       "    </tr>\n",
       "  </tbody>\n",
       "</table>\n",
       "</div>"
      ],
      "text/plain": [
       "   0  1  2  3  4  5  6  7  8\n",
       "1  0  1  2  3  4  5  6  7  8\n",
       "4  0  1  2  3  1  2  3  4  2\n",
       "6  0  1  2  3  1  2  1  2  2"
      ]
     },
     "execution_count": 15,
     "metadata": {},
     "output_type": "execute_result"
    }
   ],
   "source": [
    "# Example values\n",
    "N = 8\n",
    "d = [1, 4, 6]\n",
    "\n",
    "# Showing results\n",
    "dp_table = calc_coin_change(N, d)\n",
    "pd.DataFrame(dp_table, index=d)"
   ]
  },
  {
   "cell_type": "markdown",
   "metadata": {},
   "source": [
    "With computational complexity of $ \\Theta(nN) $ and a space complexity of $ \\Theta(n(N + 1)) $."
   ]
  },
  {
   "cell_type": "markdown",
   "metadata": {},
   "source": [
    "#### Calculate the list of coins needed to give change\n",
    "Greedy approach"
   ]
  },
  {
   "cell_type": "code",
   "execution_count": 16,
   "metadata": {},
   "outputs": [],
   "source": [
    "def get_coins_list(c, d, N, verbose=False):\n",
    "    coins_list = []\n",
    "    i = len(d) - 1\n",
    "    j = N\n",
    "    \n",
    "    while i > -1 and j > -1:\n",
    "        if verbose:\n",
    "            print(i, j)\n",
    "            \n",
    "        if i - 1 >= 0 and c[i][j] == c[i - 1][j]:\n",
    "            i = i - 1\n",
    "        elif j - d[i] >= 0 and c[i][j] == 1 + c[i][j - d[i]]:\n",
    "            coins_list.append(d[i])\n",
    "            j = j - d[i]\n",
    "        else:\n",
    "            break\n",
    "    \n",
    "    return coins_list"
   ]
  },
  {
   "cell_type": "code",
   "execution_count": 17,
   "metadata": {},
   "outputs": [
    {
     "name": "stdout",
     "output_type": "stream",
     "text": [
      "0 -> []\n",
      "1 -> [1]\n",
      "2 -> [1, 1]\n",
      "3 -> [1, 1, 1]\n",
      "4 -> [4]\n",
      "5 -> [4, 1]\n",
      "6 -> [6]\n",
      "7 -> [6, 1]\n",
      "8 -> [4, 4]\n"
     ]
    }
   ],
   "source": [
    "# List of coins for each scenario\n",
    "for j in range(0, N + 1):\n",
    "    print(j, '->', get_coins_list(dp_table, d, j))"
   ]
  },
  {
   "cell_type": "markdown",
   "metadata": {},
   "source": [
    "With computational complexity of $ \\Theta(n + c[n, N]) $ and a space complexity of $ \\Theta(n(N + 1)) $."
   ]
  },
  {
   "cell_type": "markdown",
   "metadata": {},
   "source": [
    "## 4. The Knapsack problem"
   ]
  },
  {
   "cell_type": "markdown",
   "metadata": {},
   "source": [
    "The **knapsack problem** or rucksack problem is a problem in combinatorial optimization: Given a set of items, each with a weight and a value, determine the number of each item to include in a collection so that the total weight is less than or equal to a given limit **W** and the total value is as large as possible. It derives its name from the problem faced by someone who is constrained by a fixed-size knapsack and must fill it with the most valuable items <a href=\"#link_five\">[5]</a>."
   ]
  },
  {
   "cell_type": "markdown",
   "metadata": {},
   "source": [
    "#### Get best items combination with Dynamic Programming"
   ]
  },
  {
   "cell_type": "code",
   "execution_count": 18,
   "metadata": {},
   "outputs": [],
   "source": [
    "def calc_best_knapsack(w, v, W):\n",
    "    n = len(v)\n",
    "    matrix = [[0] * (W + 1) for i in range(n)]\n",
    "    \n",
    "    for i in range(0, n):\n",
    "        for j in range(1, W + 1):\n",
    "            if i == 0 and j < w[i]:\n",
    "                matrix[i][j] = -math.inf\n",
    "            elif i == 0:\n",
    "                matrix[i][j] = v[i]\n",
    "            elif j < w[i]:\n",
    "                matrix[i][j] = matrix[i - 1][j]\n",
    "            else:\n",
    "                matrix[i][j] = max(matrix[i - 1][j], matrix[i - 1][j - w[i]] + v[i])\n",
    "    \n",
    "    return matrix"
   ]
  },
  {
   "cell_type": "code",
   "execution_count": 19,
   "metadata": {},
   "outputs": [
    {
     "data": {
      "text/html": [
       "<div>\n",
       "<style scoped>\n",
       "    .dataframe tbody tr th:only-of-type {\n",
       "        vertical-align: middle;\n",
       "    }\n",
       "\n",
       "    .dataframe tbody tr th {\n",
       "        vertical-align: top;\n",
       "    }\n",
       "\n",
       "    .dataframe thead th {\n",
       "        text-align: right;\n",
       "    }\n",
       "</style>\n",
       "<table border=\"1\" class=\"dataframe\">\n",
       "  <thead>\n",
       "    <tr style=\"text-align: right;\">\n",
       "      <th></th>\n",
       "      <th>0</th>\n",
       "      <th>1</th>\n",
       "      <th>2</th>\n",
       "      <th>3</th>\n",
       "      <th>4</th>\n",
       "      <th>5</th>\n",
       "      <th>6</th>\n",
       "      <th>7</th>\n",
       "      <th>8</th>\n",
       "      <th>9</th>\n",
       "      <th>10</th>\n",
       "      <th>11</th>\n",
       "    </tr>\n",
       "  </thead>\n",
       "  <tbody>\n",
       "    <tr>\n",
       "      <th>w:1, v:1</th>\n",
       "      <td>0</td>\n",
       "      <td>1</td>\n",
       "      <td>1</td>\n",
       "      <td>1</td>\n",
       "      <td>1</td>\n",
       "      <td>1</td>\n",
       "      <td>1</td>\n",
       "      <td>1</td>\n",
       "      <td>1</td>\n",
       "      <td>1</td>\n",
       "      <td>1</td>\n",
       "      <td>1</td>\n",
       "    </tr>\n",
       "    <tr>\n",
       "      <th>w:2, v:6</th>\n",
       "      <td>0</td>\n",
       "      <td>1</td>\n",
       "      <td>6</td>\n",
       "      <td>7</td>\n",
       "      <td>7</td>\n",
       "      <td>7</td>\n",
       "      <td>7</td>\n",
       "      <td>7</td>\n",
       "      <td>7</td>\n",
       "      <td>7</td>\n",
       "      <td>7</td>\n",
       "      <td>7</td>\n",
       "    </tr>\n",
       "    <tr>\n",
       "      <th>w:5, v:18</th>\n",
       "      <td>0</td>\n",
       "      <td>1</td>\n",
       "      <td>6</td>\n",
       "      <td>7</td>\n",
       "      <td>7</td>\n",
       "      <td>18</td>\n",
       "      <td>19</td>\n",
       "      <td>24</td>\n",
       "      <td>25</td>\n",
       "      <td>25</td>\n",
       "      <td>25</td>\n",
       "      <td>25</td>\n",
       "    </tr>\n",
       "    <tr>\n",
       "      <th>w:6, v:22</th>\n",
       "      <td>0</td>\n",
       "      <td>1</td>\n",
       "      <td>6</td>\n",
       "      <td>7</td>\n",
       "      <td>7</td>\n",
       "      <td>18</td>\n",
       "      <td>22</td>\n",
       "      <td>24</td>\n",
       "      <td>28</td>\n",
       "      <td>29</td>\n",
       "      <td>29</td>\n",
       "      <td>40</td>\n",
       "    </tr>\n",
       "    <tr>\n",
       "      <th>w:7, v:28</th>\n",
       "      <td>0</td>\n",
       "      <td>1</td>\n",
       "      <td>6</td>\n",
       "      <td>7</td>\n",
       "      <td>7</td>\n",
       "      <td>18</td>\n",
       "      <td>22</td>\n",
       "      <td>28</td>\n",
       "      <td>29</td>\n",
       "      <td>34</td>\n",
       "      <td>35</td>\n",
       "      <td>40</td>\n",
       "    </tr>\n",
       "  </tbody>\n",
       "</table>\n",
       "</div>"
      ],
      "text/plain": [
       "           0   1   2   3   4   5   6   7   8   9   10  11\n",
       "w:1, v:1    0   1   1   1   1   1   1   1   1   1   1   1\n",
       "w:2, v:6    0   1   6   7   7   7   7   7   7   7   7   7\n",
       "w:5, v:18   0   1   6   7   7  18  19  24  25  25  25  25\n",
       "w:6, v:22   0   1   6   7   7  18  22  24  28  29  29  40\n",
       "w:7, v:28   0   1   6   7   7  18  22  28  29  34  35  40"
      ]
     },
     "execution_count": 19,
     "metadata": {},
     "output_type": "execute_result"
    }
   ],
   "source": [
    "# Example values\n",
    "w = [1, 2, 5, 6, 7]\n",
    "v = [1, 6, 18, 22, 28]\n",
    "max_weight = 11\n",
    "\n",
    "# Run algorithm\n",
    "dp_table = calc_best_knapsack(w, v, max_weight)\n",
    "df_index = [\"w:\" + str(w[i]) + \", v:\" + str(v[i]) for i in range(len(v))]\n",
    "pd.DataFrame(dp_table, index=df_index)"
   ]
  },
  {
   "cell_type": "markdown",
   "metadata": {},
   "source": [
    "With computational complexity of $ \\Theta(nW) $ and a space complexity of $ \\Theta(n(W + 1)) $."
   ]
  },
  {
   "cell_type": "markdown",
   "metadata": {},
   "source": [
    "#### Calculate the list of items needed to fill the backpack\n",
    "Greedy approach"
   ]
  },
  {
   "cell_type": "code",
   "execution_count": 20,
   "metadata": {},
   "outputs": [],
   "source": [
    "def get_items_list(values, v, w, W, verbose=False):\n",
    "    item_list = []\n",
    "    i = len(w) - 1\n",
    "    j = W\n",
    "    \n",
    "    while i > -1 and j > -1:\n",
    "        if verbose:\n",
    "            print(i, j)\n",
    "            \n",
    "        if i - 1 >= 0 and values[i][j] == values[i - 1][j]:\n",
    "            i = i - 1\n",
    "        elif i - 1 >= 0 and j - w[i] >= 0 and values[i][j] == values[i - 1][j - w[i]] + v[i]:\n",
    "            item = { \"w\": w[i], \"v\": v[i] }\n",
    "            item_list.append(item)\n",
    "            j = j - w[i]\n",
    "            i = i - 1\n",
    "        elif i == 0 and values[i][j] == v[i]:\n",
    "            item = { \"w\": w[i], \"v\": v[i] }\n",
    "            item_list.append(item)\n",
    "            break\n",
    "        else:\n",
    "            break\n",
    "    \n",
    "    return item_list"
   ]
  },
  {
   "cell_type": "code",
   "execution_count": 21,
   "metadata": {},
   "outputs": [
    {
     "name": "stdout",
     "output_type": "stream",
     "text": [
      "0 -> []\n",
      "1 -> [{'w': 1, 'v': 1}]\n",
      "2 -> [{'w': 2, 'v': 6}]\n",
      "3 -> [{'w': 2, 'v': 6}, {'w': 1, 'v': 1}]\n",
      "4 -> [{'w': 2, 'v': 6}, {'w': 1, 'v': 1}]\n",
      "5 -> [{'w': 5, 'v': 18}]\n",
      "6 -> [{'w': 6, 'v': 22}]\n",
      "7 -> [{'w': 7, 'v': 28}]\n",
      "8 -> [{'w': 7, 'v': 28}, {'w': 1, 'v': 1}]\n",
      "9 -> [{'w': 7, 'v': 28}, {'w': 2, 'v': 6}]\n",
      "10 -> [{'w': 7, 'v': 28}, {'w': 2, 'v': 6}, {'w': 1, 'v': 1}]\n",
      "11 -> [{'w': 6, 'v': 22}, {'w': 5, 'v': 18}]\n"
     ]
    }
   ],
   "source": [
    "# List of coins for each scenario\n",
    "for j in range(0, max_weight + 1):\n",
    "    print(j, '->', get_items_list(dp_table, v, w, j))"
   ]
  },
  {
   "cell_type": "markdown",
   "metadata": {},
   "source": [
    "With computational complexity of $ \\Theta(n + W) $ and a space complexity of $ \\Theta(n(W + 1)) $."
   ]
  },
  {
   "cell_type": "markdown",
   "metadata": {},
   "source": [
    "## 5. Longest Common Subsequence (LCS) problem"
   ]
  },
  {
   "cell_type": "markdown",
   "metadata": {},
   "source": [
    "The **longest common subsequence** (LCS) problem is the problem of finding the longest subsequence common to all sequences in a set of sequences (often just two sequences). It differs from the longest common substring problem: unlike substrings, subsequences are not required to occupy consecutive positions within the original sequences <a href=\"#link_six\">[6]</a>.\n",
    "\n",
    "The longest common subsequence problem is a classic computer science problem, the basis of data comparison programs such as the diff utility, and has applications in computational linguistics and bioinformatics. It is also widely used by revision control systems such as Git for reconciling multiple changes made to a revision-controlled collection of files."
   ]
  },
  {
   "cell_type": "markdown",
   "metadata": {},
   "source": [
    "#### Get the Longest Common Subsequence with Dynamic Programming"
   ]
  },
  {
   "cell_type": "code",
   "execution_count": 22,
   "metadata": {},
   "outputs": [],
   "source": [
    "def calc_lcs(a, b):\n",
    "    n = len(a)\n",
    "    m = len(b)\n",
    "    matrix = [[0] * (m + 1) for i in range(n + 1)]\n",
    "    \n",
    "    for i in range(1, n + 1):\n",
    "        for j in range(1, m + 1):\n",
    "            if a[i - 1] == b[j - 1]:\n",
    "                matrix[i][j] = 1 + matrix[i - 1][j - 1]\n",
    "            else:\n",
    "                matrix[i][j] = max(matrix[i - 1][j], matrix[i][j - 1])\n",
    "    \n",
    "    return matrix"
   ]
  },
  {
   "cell_type": "code",
   "execution_count": 23,
   "metadata": {},
   "outputs": [
    {
     "data": {
      "text/html": [
       "<div>\n",
       "<style scoped>\n",
       "    .dataframe tbody tr th:only-of-type {\n",
       "        vertical-align: middle;\n",
       "    }\n",
       "\n",
       "    .dataframe tbody tr th {\n",
       "        vertical-align: top;\n",
       "    }\n",
       "\n",
       "    .dataframe thead th {\n",
       "        text-align: right;\n",
       "    }\n",
       "</style>\n",
       "<table border=\"1\" class=\"dataframe\">\n",
       "  <thead>\n",
       "    <tr style=\"text-align: right;\">\n",
       "      <th></th>\n",
       "      <th>-</th>\n",
       "      <th>M</th>\n",
       "      <th>Z</th>\n",
       "      <th>J</th>\n",
       "      <th>A</th>\n",
       "      <th>W</th>\n",
       "      <th>X</th>\n",
       "      <th>U</th>\n",
       "    </tr>\n",
       "  </thead>\n",
       "  <tbody>\n",
       "    <tr>\n",
       "      <th>-</th>\n",
       "      <td>0</td>\n",
       "      <td>0</td>\n",
       "      <td>0</td>\n",
       "      <td>0</td>\n",
       "      <td>0</td>\n",
       "      <td>0</td>\n",
       "      <td>0</td>\n",
       "      <td>0</td>\n",
       "    </tr>\n",
       "    <tr>\n",
       "      <th>X</th>\n",
       "      <td>0</td>\n",
       "      <td>0</td>\n",
       "      <td>0</td>\n",
       "      <td>0</td>\n",
       "      <td>0</td>\n",
       "      <td>0</td>\n",
       "      <td>1</td>\n",
       "      <td>1</td>\n",
       "    </tr>\n",
       "    <tr>\n",
       "      <th>M</th>\n",
       "      <td>0</td>\n",
       "      <td>1</td>\n",
       "      <td>1</td>\n",
       "      <td>1</td>\n",
       "      <td>1</td>\n",
       "      <td>1</td>\n",
       "      <td>1</td>\n",
       "      <td>1</td>\n",
       "    </tr>\n",
       "    <tr>\n",
       "      <th>J</th>\n",
       "      <td>0</td>\n",
       "      <td>1</td>\n",
       "      <td>1</td>\n",
       "      <td>2</td>\n",
       "      <td>2</td>\n",
       "      <td>2</td>\n",
       "      <td>2</td>\n",
       "      <td>2</td>\n",
       "    </tr>\n",
       "    <tr>\n",
       "      <th>Y</th>\n",
       "      <td>0</td>\n",
       "      <td>1</td>\n",
       "      <td>1</td>\n",
       "      <td>2</td>\n",
       "      <td>2</td>\n",
       "      <td>2</td>\n",
       "      <td>2</td>\n",
       "      <td>2</td>\n",
       "    </tr>\n",
       "    <tr>\n",
       "      <th>A</th>\n",
       "      <td>0</td>\n",
       "      <td>1</td>\n",
       "      <td>1</td>\n",
       "      <td>2</td>\n",
       "      <td>3</td>\n",
       "      <td>3</td>\n",
       "      <td>3</td>\n",
       "      <td>3</td>\n",
       "    </tr>\n",
       "    <tr>\n",
       "      <th>U</th>\n",
       "      <td>0</td>\n",
       "      <td>1</td>\n",
       "      <td>1</td>\n",
       "      <td>2</td>\n",
       "      <td>3</td>\n",
       "      <td>3</td>\n",
       "      <td>3</td>\n",
       "      <td>4</td>\n",
       "    </tr>\n",
       "    <tr>\n",
       "      <th>Z</th>\n",
       "      <td>0</td>\n",
       "      <td>1</td>\n",
       "      <td>2</td>\n",
       "      <td>2</td>\n",
       "      <td>3</td>\n",
       "      <td>3</td>\n",
       "      <td>3</td>\n",
       "      <td>4</td>\n",
       "    </tr>\n",
       "  </tbody>\n",
       "</table>\n",
       "</div>"
      ],
      "text/plain": [
       "   -  M  Z  J  A  W  X  U\n",
       "-  0  0  0  0  0  0  0  0\n",
       "X  0  0  0  0  0  0  1  1\n",
       "M  0  1  1  1  1  1  1  1\n",
       "J  0  1  1  2  2  2  2  2\n",
       "Y  0  1  1  2  2  2  2  2\n",
       "A  0  1  1  2  3  3  3  3\n",
       "U  0  1  1  2  3  3  3  4\n",
       "Z  0  1  2  2  3  3  3  4"
      ]
     },
     "execution_count": 23,
     "metadata": {},
     "output_type": "execute_result"
    }
   ],
   "source": [
    "# Example values\n",
    "a = ['X', 'M', 'J', 'Y', 'A', 'U', 'Z']\n",
    "b = ['M', 'Z', 'J', 'A', 'W', 'X', 'U']\n",
    "\n",
    "# Run algorithm\n",
    "dp_table = calc_lcs(a, b)\n",
    "pd.DataFrame(dp_table, index=['-'] + a, columns=['-'] + b)"
   ]
  },
  {
   "cell_type": "markdown",
   "metadata": {},
   "source": [
    "With computational complexity of $ \\Theta(nm) $ and a space complexity of $ \\Theta((n + 1)(m + 1)) $."
   ]
  },
  {
   "cell_type": "markdown",
   "metadata": {},
   "source": [
    "#### Calculate the Longest Common Subsequence\n",
    "Greedy approach"
   ]
  },
  {
   "cell_type": "code",
   "execution_count": 24,
   "metadata": {},
   "outputs": [],
   "source": [
    "def get_lcs(matrix, a, b, verbose=False):\n",
    "    lc_seq = []\n",
    "    i = len(a)\n",
    "    j = len(b)\n",
    "    \n",
    "    while i > -1 and j > -1:\n",
    "        if verbose:\n",
    "            print(i, j)\n",
    "            \n",
    "        if i > 0 and j > 0 and a[i - 1] == b[j - 1]:\n",
    "            lc_seq.append(a[i - 1])\n",
    "            i = i - 1\n",
    "            j = j - 1\n",
    "        elif j > 0 and (i == 0 or matrix[i][j - 1] >= matrix[i - 1][j]):\n",
    "            j = j - 1\n",
    "        elif i > 0 and (j == 0 or matrix[i][j - 1] < matrix[i - 1][j]):\n",
    "            i = i - 1\n",
    "        else:\n",
    "            break\n",
    "    \n",
    "    return list(reversed(lc_seq))"
   ]
  },
  {
   "cell_type": "code",
   "execution_count": 25,
   "metadata": {},
   "outputs": [
    {
     "data": {
      "text/plain": [
       "['M', 'J', 'A', 'U']"
      ]
     },
     "execution_count": 25,
     "metadata": {},
     "output_type": "execute_result"
    }
   ],
   "source": [
    "# This function gets the longest common subsequence\n",
    "get_lcs(dp_table, a, b)"
   ]
  },
  {
   "cell_type": "markdown",
   "metadata": {},
   "source": [
    "With computational complexity of $ \\Theta(n + m) $ and a space complexity of $ \\Theta((n + 1)(m + 1)) $."
   ]
  },
  {
   "cell_type": "markdown",
   "metadata": {},
   "source": [
    "## 6. Sequence Alignment problem"
   ]
  },
  {
   "cell_type": "markdown",
   "metadata": {},
   "source": [
    "In bioinformatics, a sequence alignment is a way of arranging the sequences of DNA, RNA, or protein to identify regions of similarity that may be a consequence of functional, structural, or evolutionary relationships between the sequences <a href=\"#link_seven\">[7]</a>. Aligned sequences of nucleotide or amino acid residues are typically represented as rows within a matrix. Gaps are inserted between the residues so that identical or similar characters are aligned in successive columns.\n",
    "\n",
    "Sequence alignments are also used for non-biological sequences, such as calculating the distance cost between strings in a natural language or in financial data."
   ]
  },
  {
   "cell_type": "markdown",
   "metadata": {},
   "source": [
    "#### The Needleman-Wunsch algorithm will be used"
   ]
  },
  {
   "cell_type": "markdown",
   "metadata": {},
   "source": [
    "It was one of the first applications of dynamic programming to compare biological sequences. The algorithm essentially divides a large problem (e.g. the full sequence) into a series of smaller problems, and it uses the solutions to the smaller problems to find an optimal solution to the larger problem <a href=\"#link_eight\">[8]</a>."
   ]
  },
  {
   "cell_type": "code",
   "execution_count": 26,
   "metadata": {},
   "outputs": [],
   "source": [
    "# Function to measure the performance of an alignment\n",
    "def s(x, y):\n",
    "    if x == '-' or y == '-':\n",
    "        # Payment for Gap\n",
    "        return -1\n",
    "    elif x == y:\n",
    "        # Payment for Match\n",
    "        return 1\n",
    "    # Payment for Mismatch\n",
    "    return -1"
   ]
  },
  {
   "cell_type": "code",
   "execution_count": 27,
   "metadata": {},
   "outputs": [],
   "source": [
    "# Needleman–Wunsch algorithm to calculate the sequence alignment\n",
    "def calc_seq_align(a, b):\n",
    "    m = len(a)\n",
    "    n = len(b)\n",
    "    matrix = [[0] * (m + 1) for i in range(n + 1)]\n",
    "    \n",
    "    for i in range(n + 1):\n",
    "        matrix[i][0] = i * s('-', b[i - 1])\n",
    "        \n",
    "    for j in range(m + 1):\n",
    "        matrix[0][j] = j * s(a[j - 1], '-')\n",
    "    \n",
    "    for i in range(1, n + 1):\n",
    "        for j in range(1, m + 1):\n",
    "            matrix[i][j] = max(matrix[i - 1][j - 1] + s(a[j - 1], b[i - 1]),\n",
    "                               matrix[i - 1][j] + s('-', b[i - 1]),\n",
    "                               matrix[i][j - 1] + s(a[j - 1], '-'))\n",
    "    \n",
    "    return matrix"
   ]
  },
  {
   "cell_type": "code",
   "execution_count": 28,
   "metadata": {},
   "outputs": [
    {
     "data": {
      "text/html": [
       "<div>\n",
       "<style scoped>\n",
       "    .dataframe tbody tr th:only-of-type {\n",
       "        vertical-align: middle;\n",
       "    }\n",
       "\n",
       "    .dataframe tbody tr th {\n",
       "        vertical-align: top;\n",
       "    }\n",
       "\n",
       "    .dataframe thead th {\n",
       "        text-align: right;\n",
       "    }\n",
       "</style>\n",
       "<table border=\"1\" class=\"dataframe\">\n",
       "  <thead>\n",
       "    <tr style=\"text-align: right;\">\n",
       "      <th></th>\n",
       "      <th>-</th>\n",
       "      <th>G</th>\n",
       "      <th>C</th>\n",
       "      <th>A</th>\n",
       "      <th>T</th>\n",
       "      <th>G</th>\n",
       "      <th>C</th>\n",
       "      <th>U</th>\n",
       "      <th>A</th>\n",
       "    </tr>\n",
       "  </thead>\n",
       "  <tbody>\n",
       "    <tr>\n",
       "      <th>-</th>\n",
       "      <td>0</td>\n",
       "      <td>-1</td>\n",
       "      <td>-2</td>\n",
       "      <td>-3</td>\n",
       "      <td>-4</td>\n",
       "      <td>-5</td>\n",
       "      <td>-6</td>\n",
       "      <td>-7</td>\n",
       "      <td>-8</td>\n",
       "    </tr>\n",
       "    <tr>\n",
       "      <th>G</th>\n",
       "      <td>-1</td>\n",
       "      <td>1</td>\n",
       "      <td>0</td>\n",
       "      <td>-1</td>\n",
       "      <td>-2</td>\n",
       "      <td>-3</td>\n",
       "      <td>-4</td>\n",
       "      <td>-5</td>\n",
       "      <td>-6</td>\n",
       "    </tr>\n",
       "    <tr>\n",
       "      <th>A</th>\n",
       "      <td>-2</td>\n",
       "      <td>0</td>\n",
       "      <td>0</td>\n",
       "      <td>1</td>\n",
       "      <td>0</td>\n",
       "      <td>-1</td>\n",
       "      <td>-2</td>\n",
       "      <td>-3</td>\n",
       "      <td>-4</td>\n",
       "    </tr>\n",
       "    <tr>\n",
       "      <th>T</th>\n",
       "      <td>-3</td>\n",
       "      <td>-1</td>\n",
       "      <td>-1</td>\n",
       "      <td>0</td>\n",
       "      <td>2</td>\n",
       "      <td>1</td>\n",
       "      <td>0</td>\n",
       "      <td>-1</td>\n",
       "      <td>-2</td>\n",
       "    </tr>\n",
       "    <tr>\n",
       "      <th>T</th>\n",
       "      <td>-4</td>\n",
       "      <td>-2</td>\n",
       "      <td>-2</td>\n",
       "      <td>-1</td>\n",
       "      <td>1</td>\n",
       "      <td>1</td>\n",
       "      <td>0</td>\n",
       "      <td>-1</td>\n",
       "      <td>-2</td>\n",
       "    </tr>\n",
       "    <tr>\n",
       "      <th>A</th>\n",
       "      <td>-5</td>\n",
       "      <td>-3</td>\n",
       "      <td>-3</td>\n",
       "      <td>-1</td>\n",
       "      <td>0</td>\n",
       "      <td>0</td>\n",
       "      <td>0</td>\n",
       "      <td>-1</td>\n",
       "      <td>0</td>\n",
       "    </tr>\n",
       "    <tr>\n",
       "      <th>C</th>\n",
       "      <td>-6</td>\n",
       "      <td>-4</td>\n",
       "      <td>-2</td>\n",
       "      <td>-2</td>\n",
       "      <td>-1</td>\n",
       "      <td>-1</td>\n",
       "      <td>1</td>\n",
       "      <td>0</td>\n",
       "      <td>-1</td>\n",
       "    </tr>\n",
       "    <tr>\n",
       "      <th>A</th>\n",
       "      <td>-7</td>\n",
       "      <td>-5</td>\n",
       "      <td>-3</td>\n",
       "      <td>-1</td>\n",
       "      <td>-2</td>\n",
       "      <td>-2</td>\n",
       "      <td>0</td>\n",
       "      <td>0</td>\n",
       "      <td>1</td>\n",
       "    </tr>\n",
       "  </tbody>\n",
       "</table>\n",
       "</div>"
      ],
      "text/plain": [
       "   -  G  C  A  T  G  C  U  A\n",
       "-  0 -1 -2 -3 -4 -5 -6 -7 -8\n",
       "G -1  1  0 -1 -2 -3 -4 -5 -6\n",
       "A -2  0  0  1  0 -1 -2 -3 -4\n",
       "T -3 -1 -1  0  2  1  0 -1 -2\n",
       "T -4 -2 -2 -1  1  1  0 -1 -2\n",
       "A -5 -3 -3 -1  0  0  0 -1  0\n",
       "C -6 -4 -2 -2 -1 -1  1  0 -1\n",
       "A -7 -5 -3 -1 -2 -2  0  0  1"
      ]
     },
     "execution_count": 28,
     "metadata": {},
     "output_type": "execute_result"
    }
   ],
   "source": [
    "# Example values\n",
    "a = list('GCATGCUA')\n",
    "b = list('GATTACA')\n",
    "\n",
    "# Run algorithm\n",
    "dp_table = calc_seq_align(a, b)\n",
    "pd.DataFrame(dp_table, index=['-'] + b, columns=['-'] + a)"
   ]
  },
  {
   "cell_type": "markdown",
   "metadata": {},
   "source": [
    "With computational complexity of $ \\Theta(nm) $ and a space complexity of $ \\Theta((n + 1)(m + 1)) $."
   ]
  },
  {
   "cell_type": "markdown",
   "metadata": {},
   "source": [
    "#### Calculate the Sequence Alignment result\n",
    "Greedy approach"
   ]
  },
  {
   "cell_type": "code",
   "execution_count": 29,
   "metadata": {},
   "outputs": [],
   "source": [
    "def get_seq_align(matrix, a, b, verbose=False):\n",
    "    alignmentA = \"\"\n",
    "    alignmentB = \"\"\n",
    "    j = len(a)\n",
    "    i = len(b)\n",
    "    \n",
    "    while i > -1 and j > -1:\n",
    "        if verbose:\n",
    "            print(i, j)\n",
    "            \n",
    "        if i > 0 and j > 0 and matrix[i][j] == matrix[i - 1][j - 1] + s(a[j - 1], b[i - 1]):\n",
    "            alignmentA = a[j - 1] + alignmentA\n",
    "            alignmentB = b[i - 1] + alignmentB\n",
    "            i = i - 1\n",
    "            j = j - 1\n",
    "        elif i > 0 and matrix[i][j] == matrix[i - 1][j] + s('-', b[i - 1]):\n",
    "            alignmentA = \"-\" + alignmentA\n",
    "            alignmentB = b[i - 1] + alignmentB\n",
    "            i = i - 1\n",
    "        elif j > 0 and matrix[i][j] == matrix[i][j - 1] + s(a[j - 1], '-'):\n",
    "            alignmentA = a[j - 1] + alignmentA\n",
    "            alignmentB = \"-\" + alignmentB\n",
    "            j = j - 1\n",
    "        else:\n",
    "            break\n",
    "    \n",
    "    return (alignmentA, alignmentB)"
   ]
  },
  {
   "cell_type": "code",
   "execution_count": 30,
   "metadata": {},
   "outputs": [
    {
     "data": {
      "text/plain": [
       "('GCA-TGCUA', 'G-ATTAC-A')"
      ]
     },
     "execution_count": 30,
     "metadata": {},
     "output_type": "execute_result"
    }
   ],
   "source": [
    "# This function gets the Sequence Alignment\n",
    "get_seq_align(dp_table, a, b)"
   ]
  },
  {
   "cell_type": "markdown",
   "metadata": {},
   "source": [
    "With computational complexity of $ \\Theta(n + m) $ and a space complexity of $ \\Theta((n + 1)(m + 1)) $."
   ]
  },
  {
   "cell_type": "markdown",
   "metadata": {},
   "source": [
    "## 7. All-Pairs Shortest Path"
   ]
  },
  {
   "cell_type": "markdown",
   "metadata": {},
   "source": [
    "The all-pairs shortest path problem is the determination of the shortest graph distances between every pair of vertices in a given graph. The problem can be solved using  n  applications of Dijkstra's algorithm or all at once using the Floyd-Warshall algorithm <a href=\"#link_nine\">[9]</a>."
   ]
  },
  {
   "cell_type": "markdown",
   "metadata": {},
   "source": [
    "- The Dijkstra's algorithm has a computational complexity of $ \\Theta(n^2) $ and a space complexity of $ \\Theta(n) $.\n",
    "- The Floyd-Warshall algorithm has a computational complexity of $ \\Theta(n^3) $ and a space complexity of $ \\Theta(n^2) $."
   ]
  },
  {
   "cell_type": "markdown",
   "metadata": {},
   "source": [
    "Please click <a href=\"https://ansegura7.github.io/Algorithms/graphs/Graphs.html#5.-Shortest-Path\" target=\"_blank\">here</a> to see an example of both algorithms in the Graphs section. The second one is solved with dynamic programming."
   ]
  },
  {
   "cell_type": "markdown",
   "metadata": {},
   "source": [
    "## Reference"
   ]
  },
  {
   "cell_type": "markdown",
   "metadata": {},
   "source": [
    "<a name='link_one' href='https://en.wikipedia.org/wiki/Dynamic_programming' target='_blank' >[1]</a> Wikipedia - Dynamic Programming.  \n",
    "<a name='link_two' href='https://en.wikipedia.org/wiki/Bellman_equation' target='_blank' >[2]</a> Wikipedia - Principle of Optimality.  \n",
    "<a name='link_three' href='https://en.wikipedia.org/wiki/Binomial_coefficient' target='_blank' >[3]</a> Wikipedia - Binomial coefficient.  \n",
    "<a name='link_four' href='https://en.wikipedia.org/wiki/Change-making_problem' target='_blank' >[4]</a> Wikipedia - Change-making problem.  \n",
    "<a name='link_five' href='https://en.wikipedia.org/wiki/Knapsack_problem' target='_blank' >[5]</a> Wikipedia - Knapsack problem.  \n",
    "<a name='link_six' href='https://en.wikipedia.org/wiki/Longest_common_subsequence_problem' target='_blank' >[6]</a> Wikipedia - Longest common subsequence problem.  \n",
    "<a name='link_seven' href='https://en.wikipedia.org/wiki/Sequence_alignment' target='_blank' >[7]</a> Wikipedia - Sequence alignment problem.  \n",
    "<a name='link_eight' href='https://en.wikipedia.org/wiki/Needleman-Wunsch_algorithm' target='_blank' >[8]</a> Wikipedia - Needleman-Wunsch algorithm.  \n",
    "<a name=\"link_nine\" href=\"https://en.wikipedia.org/wiki/Floyd%E2%80%93Warshall_algorithm\" target=\"_blank\">[9]</a> Wikipedia - All-Pairs Shortest Path.  "
   ]
  },
  {
   "cell_type": "markdown",
   "metadata": {},
   "source": [
    "---\n",
    "<a href=\"https://ansegura7.github.io/Algorithms/\">« Home</a>"
   ]
  }
 ],
 "metadata": {
  "kernelspec": {
   "display_name": "Python 3",
   "language": "python",
   "name": "python3"
  },
  "language_info": {
   "codemirror_mode": {
    "name": "ipython",
    "version": 3
   },
   "file_extension": ".py",
   "mimetype": "text/x-python",
   "name": "python",
   "nbconvert_exporter": "python",
   "pygments_lexer": "ipython3",
   "version": "3.6.8"
  },
  "varInspector": {
   "cols": {
    "lenName": 16,
    "lenType": 16,
    "lenVar": 40
   },
   "kernels_config": {
    "python": {
     "delete_cmd_postfix": "",
     "delete_cmd_prefix": "del ",
     "library": "var_list.py",
     "varRefreshCmd": "print(var_dic_list())"
    },
    "r": {
     "delete_cmd_postfix": ") ",
     "delete_cmd_prefix": "rm(",
     "library": "var_list.r",
     "varRefreshCmd": "cat(var_dic_list()) "
    }
   },
   "types_to_exclude": [
    "module",
    "function",
    "builtin_function_or_method",
    "instance",
    "_Feature"
   ],
   "window_display": false
  }
 },
 "nbformat": 4,
 "nbformat_minor": 2
}
