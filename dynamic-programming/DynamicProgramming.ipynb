{
 "cells": [
  {
   "cell_type": "markdown",
   "metadata": {},
   "source": [
    "# Dynamic Programming"
   ]
  },
  {
   "cell_type": "markdown",
   "metadata": {},
   "source": [
    "- **Created by Andrés Segura Tinoco**\n",
    "- **Created on Jan 26, 2020**"
   ]
  },
  {
   "cell_type": "markdown",
   "metadata": {},
   "source": [
    "Dynamic programming is both a mathematical optimization method and a computer programming method. In both contexts it refers to simplifying a complicated problem by breaking it down into simpler sub-problems in a recursive manner <a href=\"#link_one\">[1]</a>."
   ]
  },
  {
   "cell_type": "code",
   "execution_count": 1,
   "metadata": {},
   "outputs": [],
   "source": [
    "# Load the Python libraries\n",
    "import timeit\n",
    "import math\n",
    "import pandas as pd"
   ]
  },
  {
   "cell_type": "markdown",
   "metadata": {},
   "source": [
    "## 1. Binomial Coefficient"
   ]
  },
  {
   "cell_type": "code",
   "execution_count": 2,
   "metadata": {},
   "outputs": [],
   "source": [
    "# Example values\n",
    "n = 20\n",
    "k = 10"
   ]
  },
  {
   "cell_type": "markdown",
   "metadata": {},
   "source": [
    "### Simple approach"
   ]
  },
  {
   "cell_type": "code",
   "execution_count": 3,
   "metadata": {},
   "outputs": [],
   "source": [
    "# The recursive natural solution\n",
    "def C(n, k):\n",
    "    if k == 0 or k == n:\n",
    "        return 1\n",
    "    return C(n - 1, k - 1) + C(n - 1, k)"
   ]
  },
  {
   "cell_type": "code",
   "execution_count": 4,
   "metadata": {},
   "outputs": [
    {
     "name": "stdout",
     "output_type": "stream",
     "text": [
      "184756\n",
      ">> elapsed time 89.0215 ms\n"
     ]
    }
   ],
   "source": [
    "start_time = timeit.default_timer()\n",
    "print(C(n, k))\n",
    "print('>> elapsed time', (timeit.default_timer() - start_time) * 1000, 'ms')"
   ]
  },
  {
   "cell_type": "markdown",
   "metadata": {},
   "source": [
    "### With Dynamic Programming"
   ]
  },
  {
   "cell_type": "code",
   "execution_count": 5,
   "metadata": {},
   "outputs": [],
   "source": [
    "# Solution with dynamic programming (supported by a table)\n",
    "def C2(n, k):\n",
    "    c = 0\n",
    "    v = [1] * (k + 1)\n",
    "    \n",
    "    for i in range(n + 1):\n",
    "        for j in range(k, 0, -1):\n",
    "            if j < i:\n",
    "                v[j] = v[j - 1] + v[j]\n",
    "    \n",
    "    return v[k]"
   ]
  },
  {
   "cell_type": "code",
   "execution_count": 6,
   "metadata": {},
   "outputs": [
    {
     "name": "stdout",
     "output_type": "stream",
     "text": [
      "184756\n",
      ">> elapsed time 1.5061999999999993 ms\n"
     ]
    }
   ],
   "source": [
    "start_time = timeit.default_timer()\n",
    "print(C2(n, k))\n",
    "print('>> elapsed time', (timeit.default_timer() - start_time) * 1000, 'ms')"
   ]
  },
  {
   "cell_type": "markdown",
   "metadata": {},
   "source": [
    "With computational complexity of $ \\Theta(nk) $ and a space complexity of $ \\Theta(k) $."
   ]
  },
  {
   "cell_type": "markdown",
   "metadata": {},
   "source": [
    "## 2. World Championship problem"
   ]
  },
  {
   "cell_type": "code",
   "execution_count": 7,
   "metadata": {},
   "outputs": [],
   "source": [
    "# Example values\n",
    "n = 10\n",
    "p = 0.55\n",
    "q = 1 - p"
   ]
  },
  {
   "cell_type": "markdown",
   "metadata": {},
   "source": [
    "### Simple approach"
   ]
  },
  {
   "cell_type": "code",
   "execution_count": 8,
   "metadata": {},
   "outputs": [],
   "source": [
    "# The recursive natural solution\n",
    "def WCP(i, j):\n",
    "    if i == 0:\n",
    "        return 1\n",
    "    elif j == 0:\n",
    "        return 0\n",
    "    return p * WCP(i - 1, j) + q * WCP(i, j - 1)"
   ]
  },
  {
   "cell_type": "code",
   "execution_count": 9,
   "metadata": {},
   "outputs": [
    {
     "name": "stdout",
     "output_type": "stream",
     "text": [
      "0.6710359124216079\n",
      ">> elapsed time 128.1552 ms\n"
     ]
    }
   ],
   "source": [
    "start_time = timeit.default_timer()\n",
    "print(WCP(n, n))\n",
    "print('>> elapsed time', (timeit.default_timer() - start_time) * 1000, 'ms')"
   ]
  },
  {
   "cell_type": "markdown",
   "metadata": {},
   "source": [
    "### With Dynamic Programming"
   ]
  },
  {
   "cell_type": "code",
   "execution_count": 10,
   "metadata": {},
   "outputs": [],
   "source": [
    "# Solution with dynamic programming (supported by a table)\n",
    "def WCP2(n, p):\n",
    "    n = n + 1\n",
    "    q = 1 - p\n",
    "    prob = [[0] * n for i in range(n)]\n",
    "    \n",
    "    for s in range(n):\n",
    "        prob[0][s] = 1\n",
    "        for k in range(1, s):\n",
    "            prob[k][s - k] = p * prob[k - 1][s - k] + q * prob[k][s - k - 1]\n",
    "    \n",
    "    for s in range(1, n):\n",
    "        for k in range(0, n - s):\n",
    "            prob[s + k][n - k - 1] = p * prob[s + k - 1][n - k - 1] + q * prob[s + k][n - k - 2]\n",
    "    \n",
    "    return prob[n - 1][n - 1]"
   ]
  },
  {
   "cell_type": "code",
   "execution_count": 11,
   "metadata": {},
   "outputs": [
    {
     "name": "stdout",
     "output_type": "stream",
     "text": [
      "0.6710359124216079\n",
      ">> elapsed time 0.8978000000000042 ms\n"
     ]
    }
   ],
   "source": [
    "start_time = timeit.default_timer()\n",
    "print(WCP2(n, p))\n",
    "print('>> elapsed time', (timeit.default_timer() - start_time) * 1000, 'ms')"
   ]
  },
  {
   "cell_type": "markdown",
   "metadata": {},
   "source": [
    "With computational complexity of $ O(n^2) $ and a space complexity of $ \\Theta(n^2) $."
   ]
  },
  {
   "cell_type": "markdown",
   "metadata": {},
   "source": [
    "## 3. Coin Change problem"
   ]
  },
  {
   "cell_type": "markdown",
   "metadata": {},
   "source": [
    "The **coin-change problem** or change-making problem addresses the question of finding the minimum number of coins (of certain denominations) that add up to a given amount of money. It is a special case of the integer knapsack problem, and has applications wider than just currency <a href=\"#link_two\">[2]</a>."
   ]
  },
  {
   "cell_type": "markdown",
   "metadata": {},
   "source": [
    "#### Returns all possible combinations of coins change with Dynamic Programming\n",
    "Version with unlimited supply of coins."
   ]
  },
  {
   "cell_type": "code",
   "execution_count": 12,
   "metadata": {},
   "outputs": [],
   "source": [
    "def coin_change(N, d):\n",
    "    n = len(d)\n",
    "    c = [[0] * (N + 1) for i in range(n)]\n",
    "    \n",
    "    for i in range(0, n):\n",
    "        for j in range(1, N + 1):\n",
    "            if i == 0 and j < d[i]:\n",
    "                c[i][j] = math.inf\n",
    "            elif i == 0:\n",
    "                c[i][j] = 1 + c[0][j - d[0]]\n",
    "            elif j < d[i]:\n",
    "                c[i][j] = c[i - 1][j]\n",
    "            else:\n",
    "                c[i][j] = min(c[i - 1][j], 1 + c[i][j - d[i]])\n",
    "    \n",
    "    return c"
   ]
  },
  {
   "cell_type": "code",
   "execution_count": 13,
   "metadata": {},
   "outputs": [
    {
     "data": {
      "text/html": [
       "<div>\n",
       "<style scoped>\n",
       "    .dataframe tbody tr th:only-of-type {\n",
       "        vertical-align: middle;\n",
       "    }\n",
       "\n",
       "    .dataframe tbody tr th {\n",
       "        vertical-align: top;\n",
       "    }\n",
       "\n",
       "    .dataframe thead th {\n",
       "        text-align: right;\n",
       "    }\n",
       "</style>\n",
       "<table border=\"1\" class=\"dataframe\">\n",
       "  <thead>\n",
       "    <tr style=\"text-align: right;\">\n",
       "      <th></th>\n",
       "      <th>0</th>\n",
       "      <th>1</th>\n",
       "      <th>2</th>\n",
       "      <th>3</th>\n",
       "      <th>4</th>\n",
       "      <th>5</th>\n",
       "      <th>6</th>\n",
       "      <th>7</th>\n",
       "      <th>8</th>\n",
       "    </tr>\n",
       "  </thead>\n",
       "  <tbody>\n",
       "    <tr>\n",
       "      <th>1</th>\n",
       "      <td>0</td>\n",
       "      <td>1</td>\n",
       "      <td>2</td>\n",
       "      <td>3</td>\n",
       "      <td>4</td>\n",
       "      <td>5</td>\n",
       "      <td>6</td>\n",
       "      <td>7</td>\n",
       "      <td>8</td>\n",
       "    </tr>\n",
       "    <tr>\n",
       "      <th>4</th>\n",
       "      <td>0</td>\n",
       "      <td>1</td>\n",
       "      <td>2</td>\n",
       "      <td>3</td>\n",
       "      <td>1</td>\n",
       "      <td>2</td>\n",
       "      <td>3</td>\n",
       "      <td>4</td>\n",
       "      <td>2</td>\n",
       "    </tr>\n",
       "    <tr>\n",
       "      <th>6</th>\n",
       "      <td>0</td>\n",
       "      <td>1</td>\n",
       "      <td>2</td>\n",
       "      <td>3</td>\n",
       "      <td>1</td>\n",
       "      <td>2</td>\n",
       "      <td>1</td>\n",
       "      <td>2</td>\n",
       "      <td>2</td>\n",
       "    </tr>\n",
       "  </tbody>\n",
       "</table>\n",
       "</div>"
      ],
      "text/plain": [
       "   0  1  2  3  4  5  6  7  8\n",
       "1  0  1  2  3  4  5  6  7  8\n",
       "4  0  1  2  3  1  2  3  4  2\n",
       "6  0  1  2  3  1  2  1  2  2"
      ]
     },
     "execution_count": 13,
     "metadata": {},
     "output_type": "execute_result"
    }
   ],
   "source": [
    "# Example values\n",
    "N = 8\n",
    "d = [1, 4, 6]\n",
    "\n",
    "# Showing results\n",
    "coins = coin_change(N, d)\n",
    "pd.DataFrame(coins, index=d)"
   ]
  },
  {
   "cell_type": "markdown",
   "metadata": {},
   "source": [
    "With computational complexity of $ \\Theta(nN) $ and a space complexity of $ \\Theta(n(N + 1)) $."
   ]
  },
  {
   "cell_type": "markdown",
   "metadata": {},
   "source": [
    "#### Calculate the list of coins needed to give change\n",
    "Greedy approach"
   ]
  },
  {
   "cell_type": "code",
   "execution_count": 14,
   "metadata": {},
   "outputs": [],
   "source": [
    "def get_coins_list(c, d, N):\n",
    "    coins_list = []\n",
    "    i = len(d) - 1\n",
    "    j = N\n",
    "    \n",
    "    while i > -1 and j > -1:\n",
    "        if i - 1 >= 0 and c[i][j] == c[i - 1][j]:\n",
    "            i = i - 1\n",
    "        elif j - d[i] >= 0 and c[i][j] == 1 + c[i][j - d[i]]:\n",
    "            coins_list.append(d[i])\n",
    "            j = j - d[i]\n",
    "        else:\n",
    "            break\n",
    "    \n",
    "    return coins_list"
   ]
  },
  {
   "cell_type": "code",
   "execution_count": 15,
   "metadata": {},
   "outputs": [
    {
     "name": "stdout",
     "output_type": "stream",
     "text": [
      "0 -> []\n",
      "1 -> [1]\n",
      "2 -> [1, 1]\n",
      "3 -> [1, 1, 1]\n",
      "4 -> [4]\n",
      "5 -> [4, 1]\n",
      "6 -> [6]\n",
      "7 -> [6, 1]\n",
      "8 -> [4, 4]\n"
     ]
    }
   ],
   "source": [
    "# List of coins for each scenario\n",
    "for j in range(0, N + 1):\n",
    "    print(j, '->', get_coins_list(coins, d, j))"
   ]
  },
  {
   "cell_type": "markdown",
   "metadata": {},
   "source": [
    "With computational complexity of $ \\Theta(n + c[n, N]) $ and a space complexity of $ \\Theta(n(N + 1)) $."
   ]
  },
  {
   "cell_type": "markdown",
   "metadata": {},
   "source": [
    "## 4. The Knapsack problem"
   ]
  },
  {
   "cell_type": "markdown",
   "metadata": {},
   "source": [
    "The **knapsack problem** or rucksack problem is a problem in combinatorial optimization: Given a set of items, each with a weight and a value, determine the number of each item to include in a collection so that the total weight is less than or equal to a given limit **W** and the total value is as large as possible. It derives its name from the problem faced by someone who is constrained by a fixed-size knapsack and must fill it with the most valuable items <a href=\"#link_three\">[3]</a>."
   ]
  },
  {
   "cell_type": "markdown",
   "metadata": {},
   "source": [
    "#### Get best items combination with Dynamic Programming"
   ]
  },
  {
   "cell_type": "code",
   "execution_count": 16,
   "metadata": {},
   "outputs": [],
   "source": [
    "def get_best_knapsack(w, v, W):\n",
    "    n = len(v)\n",
    "    values = [[0] * (W + 1) for i in range(n)]\n",
    "    \n",
    "    for i in range(0, n):\n",
    "        for j in range(1, W + 1):\n",
    "            if i == 0 and j < w[i]:\n",
    "                values[i][j] = -math.inf\n",
    "            elif i == 0:\n",
    "                values[i][j] = v[i]\n",
    "            elif j < w[i]:\n",
    "                values[i][j] = values[i - 1][j]\n",
    "            else:\n",
    "                values[i][j] = max(values[i - 1][j], values[i - 1][j - w[i]] + v[i])\n",
    "    \n",
    "    return values"
   ]
  },
  {
   "cell_type": "code",
   "execution_count": 17,
   "metadata": {},
   "outputs": [
    {
     "data": {
      "text/html": [
       "<div>\n",
       "<style scoped>\n",
       "    .dataframe tbody tr th:only-of-type {\n",
       "        vertical-align: middle;\n",
       "    }\n",
       "\n",
       "    .dataframe tbody tr th {\n",
       "        vertical-align: top;\n",
       "    }\n",
       "\n",
       "    .dataframe thead th {\n",
       "        text-align: right;\n",
       "    }\n",
       "</style>\n",
       "<table border=\"1\" class=\"dataframe\">\n",
       "  <thead>\n",
       "    <tr style=\"text-align: right;\">\n",
       "      <th></th>\n",
       "      <th>0</th>\n",
       "      <th>1</th>\n",
       "      <th>2</th>\n",
       "      <th>3</th>\n",
       "      <th>4</th>\n",
       "      <th>5</th>\n",
       "      <th>6</th>\n",
       "      <th>7</th>\n",
       "      <th>8</th>\n",
       "      <th>9</th>\n",
       "      <th>10</th>\n",
       "      <th>11</th>\n",
       "    </tr>\n",
       "  </thead>\n",
       "  <tbody>\n",
       "    <tr>\n",
       "      <th>w:1, v:1</th>\n",
       "      <td>0</td>\n",
       "      <td>1</td>\n",
       "      <td>1</td>\n",
       "      <td>1</td>\n",
       "      <td>1</td>\n",
       "      <td>1</td>\n",
       "      <td>1</td>\n",
       "      <td>1</td>\n",
       "      <td>1</td>\n",
       "      <td>1</td>\n",
       "      <td>1</td>\n",
       "      <td>1</td>\n",
       "    </tr>\n",
       "    <tr>\n",
       "      <th>w:2, v:6</th>\n",
       "      <td>0</td>\n",
       "      <td>1</td>\n",
       "      <td>6</td>\n",
       "      <td>7</td>\n",
       "      <td>7</td>\n",
       "      <td>7</td>\n",
       "      <td>7</td>\n",
       "      <td>7</td>\n",
       "      <td>7</td>\n",
       "      <td>7</td>\n",
       "      <td>7</td>\n",
       "      <td>7</td>\n",
       "    </tr>\n",
       "    <tr>\n",
       "      <th>w:5, v:18</th>\n",
       "      <td>0</td>\n",
       "      <td>1</td>\n",
       "      <td>6</td>\n",
       "      <td>7</td>\n",
       "      <td>7</td>\n",
       "      <td>18</td>\n",
       "      <td>19</td>\n",
       "      <td>24</td>\n",
       "      <td>25</td>\n",
       "      <td>25</td>\n",
       "      <td>25</td>\n",
       "      <td>25</td>\n",
       "    </tr>\n",
       "    <tr>\n",
       "      <th>w:6, v:22</th>\n",
       "      <td>0</td>\n",
       "      <td>1</td>\n",
       "      <td>6</td>\n",
       "      <td>7</td>\n",
       "      <td>7</td>\n",
       "      <td>18</td>\n",
       "      <td>22</td>\n",
       "      <td>24</td>\n",
       "      <td>28</td>\n",
       "      <td>29</td>\n",
       "      <td>29</td>\n",
       "      <td>40</td>\n",
       "    </tr>\n",
       "    <tr>\n",
       "      <th>w:7, v:28</th>\n",
       "      <td>0</td>\n",
       "      <td>1</td>\n",
       "      <td>6</td>\n",
       "      <td>7</td>\n",
       "      <td>7</td>\n",
       "      <td>18</td>\n",
       "      <td>22</td>\n",
       "      <td>28</td>\n",
       "      <td>29</td>\n",
       "      <td>34</td>\n",
       "      <td>35</td>\n",
       "      <td>40</td>\n",
       "    </tr>\n",
       "  </tbody>\n",
       "</table>\n",
       "</div>"
      ],
      "text/plain": [
       "           0   1   2   3   4   5   6   7   8   9   10  11\n",
       "w:1, v:1    0   1   1   1   1   1   1   1   1   1   1   1\n",
       "w:2, v:6    0   1   6   7   7   7   7   7   7   7   7   7\n",
       "w:5, v:18   0   1   6   7   7  18  19  24  25  25  25  25\n",
       "w:6, v:22   0   1   6   7   7  18  22  24  28  29  29  40\n",
       "w:7, v:28   0   1   6   7   7  18  22  28  29  34  35  40"
      ]
     },
     "execution_count": 17,
     "metadata": {},
     "output_type": "execute_result"
    }
   ],
   "source": [
    "# Example values\n",
    "w = [1, 2, 5, 6, 7]\n",
    "v = [1, 6, 18, 22, 28]\n",
    "max_weight = 11\n",
    "\n",
    "# Run algorithm\n",
    "knapsack = get_best_knapsack(w, v, max_weight)\n",
    "df_index = [\"w:\" + str(w[i]) + \", v:\" + str(v[i]) for i in range(len(v))]\n",
    "pd.DataFrame(knapsack, index=df_index)"
   ]
  },
  {
   "cell_type": "markdown",
   "metadata": {},
   "source": [
    "With computational complexity of $ \\Theta(nW) $ and a space complexity of $ \\Theta(n(W + 1)) $."
   ]
  },
  {
   "cell_type": "markdown",
   "metadata": {},
   "source": [
    "#### Calculate the list of items needed to fill the backpack\n",
    "Greedy approach"
   ]
  },
  {
   "cell_type": "code",
   "execution_count": 18,
   "metadata": {},
   "outputs": [],
   "source": [
    "def get_items_list(values, v, w, W):\n",
    "    item_list = []\n",
    "    i = len(w) - 1\n",
    "    j = W\n",
    "    \n",
    "    while i > -1 and j > -1:\n",
    "        if i - 1 >= 0 and values[i][j] == values[i - 1][j]:\n",
    "            i = i - 1\n",
    "        elif i - 1 >= 0 and j - w[i] >= 0 and values[i][j] == values[i - 1][j - w[i]] + v[i]:\n",
    "            item = { \"w\": w[i], \"v\": v[i] }\n",
    "            item_list.append(item)\n",
    "            j = j - w[i]\n",
    "            i = i - 1\n",
    "        elif i == 0 and values[i][j] == v[i]:\n",
    "            item = { \"w\": w[i], \"v\": v[i] }\n",
    "            item_list.append(item)\n",
    "            break\n",
    "        else:\n",
    "            break\n",
    "    \n",
    "    return item_list"
   ]
  },
  {
   "cell_type": "code",
   "execution_count": 19,
   "metadata": {},
   "outputs": [
    {
     "name": "stdout",
     "output_type": "stream",
     "text": [
      "0 -> []\n",
      "1 -> [{'w': 1, 'v': 1}]\n",
      "2 -> [{'w': 2, 'v': 6}]\n",
      "3 -> [{'w': 2, 'v': 6}, {'w': 1, 'v': 1}]\n",
      "4 -> [{'w': 2, 'v': 6}, {'w': 1, 'v': 1}]\n",
      "5 -> [{'w': 5, 'v': 18}]\n",
      "6 -> [{'w': 6, 'v': 22}]\n",
      "7 -> [{'w': 7, 'v': 28}]\n",
      "8 -> [{'w': 7, 'v': 28}, {'w': 1, 'v': 1}]\n",
      "9 -> [{'w': 7, 'v': 28}, {'w': 2, 'v': 6}]\n",
      "10 -> [{'w': 7, 'v': 28}, {'w': 2, 'v': 6}, {'w': 1, 'v': 1}]\n",
      "11 -> [{'w': 6, 'v': 22}, {'w': 5, 'v': 18}]\n"
     ]
    }
   ],
   "source": [
    "# List of coins for each scenario\n",
    "for j in range(0, max_weight + 1):\n",
    "    print(j, '->', get_items_list(knapsack, v, w, j))"
   ]
  },
  {
   "cell_type": "markdown",
   "metadata": {},
   "source": [
    "With computational complexity of $ \\Theta(n + W) $ and a space complexity of $ \\Theta(n(W + 1)) $."
   ]
  },
  {
   "cell_type": "markdown",
   "metadata": {},
   "source": [
    "## Reference"
   ]
  },
  {
   "cell_type": "markdown",
   "metadata": {},
   "source": [
    "<a name='link_one' href='https://en.wikipedia.org/wiki/Dynamic_programming' target='_blank' >[1]</a> Wikipedia - Dynamic Programming.  \n",
    "<a name='link_two' href='https://en.wikipedia.org/wiki/Change-making_problem' target='_blank' >[2]</a> Wikipedia - Change-making problem.  \n",
    "<a name='link_three' href='https://en.wikipedia.org/wiki/Knapsack_problem' target='_blank' >[3]</a> Wikipedia - Knapsack problem.  "
   ]
  },
  {
   "cell_type": "markdown",
   "metadata": {},
   "source": [
    "---\n",
    "<a href=\"https://ansegura7.github.io/Algorithms/\">« Home</a>"
   ]
  }
 ],
 "metadata": {
  "kernelspec": {
   "display_name": "Python 3",
   "language": "python",
   "name": "python3"
  },
  "language_info": {
   "codemirror_mode": {
    "name": "ipython",
    "version": 3
   },
   "file_extension": ".py",
   "mimetype": "text/x-python",
   "name": "python",
   "nbconvert_exporter": "python",
   "pygments_lexer": "ipython3",
   "version": "3.6.8"
  },
  "varInspector": {
   "cols": {
    "lenName": 16,
    "lenType": 16,
    "lenVar": 40
   },
   "kernels_config": {
    "python": {
     "delete_cmd_postfix": "",
     "delete_cmd_prefix": "del ",
     "library": "var_list.py",
     "varRefreshCmd": "print(var_dic_list())"
    },
    "r": {
     "delete_cmd_postfix": ") ",
     "delete_cmd_prefix": "rm(",
     "library": "var_list.r",
     "varRefreshCmd": "cat(var_dic_list()) "
    }
   },
   "types_to_exclude": [
    "module",
    "function",
    "builtin_function_or_method",
    "instance",
    "_Feature"
   ],
   "window_display": false
  }
 },
 "nbformat": 4,
 "nbformat_minor": 2
}
