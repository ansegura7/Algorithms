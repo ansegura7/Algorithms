{
 "cells": [
  {
   "cell_type": "markdown",
   "metadata": {},
   "source": [
    "# Dynamic Programming"
   ]
  },
  {
   "cell_type": "markdown",
   "metadata": {},
   "source": [
    "- **Created by Andrés Segura Tinoco**\n",
    "- **Created on Jan 26, 2020**"
   ]
  },
  {
   "cell_type": "markdown",
   "metadata": {},
   "source": [
    "Dynamic programming is both a mathematical optimization method and a computer programming method. In both contexts it refers to simplifying a complicated problem by breaking it down into simpler sub-problems in a recursive manner <a href=\"#link_one\">[1]</a>."
   ]
  },
  {
   "cell_type": "code",
   "execution_count": 1,
   "metadata": {},
   "outputs": [],
   "source": [
    "# Load the Python libraries\n",
    "import timeit\n",
    "import math"
   ]
  },
  {
   "cell_type": "markdown",
   "metadata": {},
   "source": [
    "## 1. Binomial Coefficient"
   ]
  },
  {
   "cell_type": "code",
   "execution_count": 2,
   "metadata": {},
   "outputs": [],
   "source": [
    "# Example values\n",
    "n = 20\n",
    "k = 10"
   ]
  },
  {
   "cell_type": "markdown",
   "metadata": {},
   "source": [
    "### Simple approach"
   ]
  },
  {
   "cell_type": "code",
   "execution_count": 3,
   "metadata": {},
   "outputs": [],
   "source": [
    "# The recursive natural solution\n",
    "def C(n, k):\n",
    "    if k == 0 or k == n:\n",
    "        return 1\n",
    "    return C(n - 1, k - 1) + C(n - 1, k)"
   ]
  },
  {
   "cell_type": "code",
   "execution_count": 4,
   "metadata": {},
   "outputs": [
    {
     "name": "stdout",
     "output_type": "stream",
     "text": [
      "184756\n",
      ">> elapsed time 157.7332 ms\n"
     ]
    }
   ],
   "source": [
    "start_time = timeit.default_timer()\n",
    "print(C(n, k))\n",
    "print('>> elapsed time', (timeit.default_timer() - start_time) * 1000, 'ms')"
   ]
  },
  {
   "cell_type": "markdown",
   "metadata": {},
   "source": [
    "### With Dynamic Programming"
   ]
  },
  {
   "cell_type": "code",
   "execution_count": 5,
   "metadata": {},
   "outputs": [],
   "source": [
    "# Solution with dynamic programming (supported by a table)\n",
    "def C2(n, k):\n",
    "    c = 0\n",
    "    v = [1] * (k + 1)\n",
    "    \n",
    "    for i in range(n + 1):\n",
    "        for j in range(k, 0, -1):\n",
    "            if j < i:\n",
    "                v[j] = v[j - 1] + v[j]\n",
    "    \n",
    "    return v[k]"
   ]
  },
  {
   "cell_type": "code",
   "execution_count": 6,
   "metadata": {},
   "outputs": [
    {
     "name": "stdout",
     "output_type": "stream",
     "text": [
      "184756\n",
      ">> elapsed time 1.0717000000000088 ms\n"
     ]
    }
   ],
   "source": [
    "start_time = timeit.default_timer()\n",
    "print(C2(n, k))\n",
    "print('>> elapsed time', (timeit.default_timer() - start_time) * 1000, 'ms')"
   ]
  },
  {
   "cell_type": "markdown",
   "metadata": {},
   "source": [
    "With computational complexity of $ \\Theta(nk) $ and a space complexity of $ \\Theta(k) $."
   ]
  },
  {
   "cell_type": "markdown",
   "metadata": {},
   "source": [
    "## 2. World Championship Problem"
   ]
  },
  {
   "cell_type": "code",
   "execution_count": 7,
   "metadata": {},
   "outputs": [],
   "source": [
    "# Example values\n",
    "n = 10\n",
    "p = 0.55\n",
    "q = 1 - p"
   ]
  },
  {
   "cell_type": "markdown",
   "metadata": {},
   "source": [
    "### Simple approach"
   ]
  },
  {
   "cell_type": "code",
   "execution_count": 8,
   "metadata": {},
   "outputs": [],
   "source": [
    "# The recursive natural solution\n",
    "def WCP(i, j):\n",
    "    if i == 0:\n",
    "        return 1\n",
    "    elif j == 0:\n",
    "        return 0\n",
    "    return p * WCP(i - 1, j) + q * WCP(i, j - 1)"
   ]
  },
  {
   "cell_type": "code",
   "execution_count": 9,
   "metadata": {},
   "outputs": [
    {
     "name": "stdout",
     "output_type": "stream",
     "text": [
      "0.6710359124216079\n",
      ">> elapsed time 116.54350000000002 ms\n"
     ]
    }
   ],
   "source": [
    "start_time = timeit.default_timer()\n",
    "print(WCP(n, n))\n",
    "print('>> elapsed time', (timeit.default_timer() - start_time) * 1000, 'ms')"
   ]
  },
  {
   "cell_type": "markdown",
   "metadata": {},
   "source": [
    "### With Dynamic Programming"
   ]
  },
  {
   "cell_type": "code",
   "execution_count": 10,
   "metadata": {},
   "outputs": [],
   "source": [
    "# Solution with dynamic programming (supported by a table)\n",
    "def WCP2(n, p):\n",
    "    n = n + 1\n",
    "    q = 1 - p\n",
    "    prob = [[0] * n for i in range(n)]\n",
    "    \n",
    "    for s in range(n):\n",
    "        prob[0][s] = 1\n",
    "        for k in range(1, s):\n",
    "            prob[k][s - k] = p * prob[k - 1][s - k] + q * prob[k][s - k - 1]\n",
    "    \n",
    "    for s in range(1, n):\n",
    "        for k in range(0, n - s):\n",
    "            prob[s + k][n - k - 1] = p * prob[s + k - 1][n - k - 1] + q * prob[s + k][n - k - 2]\n",
    "    \n",
    "    return prob[n - 1][n - 1]"
   ]
  },
  {
   "cell_type": "code",
   "execution_count": 11,
   "metadata": {},
   "outputs": [
    {
     "name": "stdout",
     "output_type": "stream",
     "text": [
      "0.6710359124216079\n",
      ">> elapsed time 0.9335999999999789 ms\n"
     ]
    }
   ],
   "source": [
    "start_time = timeit.default_timer()\n",
    "print(WCP2(n, p))\n",
    "print('>> elapsed time', (timeit.default_timer() - start_time) * 1000, 'ms')"
   ]
  },
  {
   "cell_type": "markdown",
   "metadata": {},
   "source": [
    "With computational complexity of $ O(n^2) $ and a space complexity of $ \\Theta(n^2) $."
   ]
  },
  {
   "cell_type": "markdown",
   "metadata": {},
   "source": [
    "## 3. Coin Change Problem"
   ]
  },
  {
   "cell_type": "markdown",
   "metadata": {},
   "source": [
    "The **coin-change problem** or change-making problem addresses the question of finding the minimum number of coins (of certain denominations) that add up to a given amount of money. It is a special case of the integer knapsack problem, and has applications wider than just currency <a href=\"#link_two\">[2]</a>."
   ]
  },
  {
   "cell_type": "markdown",
   "metadata": {},
   "source": [
    "#### Returns all possible combinations of coins change:"
   ]
  },
  {
   "cell_type": "code",
   "execution_count": 12,
   "metadata": {},
   "outputs": [],
   "source": [
    "def coin_change(N, d):\n",
    "    n = len(d)\n",
    "    c = [[0] * (N + 1) for i in range(n)]\n",
    "    \n",
    "    for i in range(0, n):\n",
    "        for j in range(1, N + 1):\n",
    "            if i == 0 and j < d[i]:\n",
    "                c[i][j] = math.inf\n",
    "            elif i == 0:\n",
    "                c[i][j] = 1 + c[0][j - d[0]]\n",
    "            elif j < d[i]:\n",
    "                c[i][j] = c[i - 1][j]\n",
    "            else:\n",
    "                c[i][j] = min(c[i - 1][j], 1 + c[i][j - d[i]])\n",
    "    \n",
    "    return c"
   ]
  },
  {
   "cell_type": "code",
   "execution_count": 13,
   "metadata": {},
   "outputs": [
    {
     "data": {
      "text/plain": [
       "[[0, 1, 2, 3, 4, 5, 6, 7, 8],\n",
       " [0, 1, 2, 3, 1, 2, 3, 4, 2],\n",
       " [0, 1, 2, 3, 1, 2, 1, 2, 2]]"
      ]
     },
     "execution_count": 13,
     "metadata": {},
     "output_type": "execute_result"
    }
   ],
   "source": [
    "# Example\n",
    "N = 8\n",
    "d = [1, 4, 6]\n",
    "coins = coin_change(N, d)\n",
    "coins"
   ]
  },
  {
   "cell_type": "markdown",
   "metadata": {},
   "source": [
    "With computational complexity of $ \\Theta(nN) $ and a space complexity of $ \\Theta(n(N + 1)) $."
   ]
  },
  {
   "cell_type": "markdown",
   "metadata": {},
   "source": [
    "#### Calculate the list of coins needed to give change"
   ]
  },
  {
   "cell_type": "code",
   "execution_count": 14,
   "metadata": {},
   "outputs": [],
   "source": [
    "def get_coins_list(c, d, N):\n",
    "    coins_list = []\n",
    "    i = len(d) - 1\n",
    "    j = N\n",
    "    \n",
    "    while i > -1 and j > -1:\n",
    "        if i - 1 >= 0 and c[i][j] == c[i - 1][j]:\n",
    "            i = i - 1\n",
    "        elif j - d[i] >= 0 and c[i][j] == 1 + c[i][j - d[i]]:\n",
    "            coins_list.append(d[i])\n",
    "            j = j - d[i]\n",
    "        else:\n",
    "            break\n",
    "    return coins_list"
   ]
  },
  {
   "cell_type": "code",
   "execution_count": 15,
   "metadata": {},
   "outputs": [
    {
     "name": "stdout",
     "output_type": "stream",
     "text": [
      "1 -> [1]\n",
      "2 -> [1, 1]\n",
      "3 -> [1, 1, 1]\n",
      "4 -> [4]\n",
      "5 -> [4, 1]\n",
      "6 -> [6]\n",
      "7 -> [6, 1]\n",
      "8 -> [4, 4]\n"
     ]
    }
   ],
   "source": [
    "for j in range(1, N + 1):\n",
    "    print(j, '->', get_coins_list(coins, d, j))"
   ]
  },
  {
   "cell_type": "markdown",
   "metadata": {},
   "source": [
    "With computational complexity of $ \\Theta(n + c[n, N]) $ and a space complexity of $ \\Theta(n(N + 1)) $."
   ]
  },
  {
   "cell_type": "markdown",
   "metadata": {},
   "source": [
    "## Reference"
   ]
  },
  {
   "cell_type": "markdown",
   "metadata": {},
   "source": [
    "<a name='link_one' href='https://en.wikipedia.org/wiki/Dynamic_programming' target='_blank' >[1]</a> Wikipedia - Dynamic Programming.  \n",
    "<a name='link_two' href='https://en.wikipedia.org/wiki/Change-making_problem' target='_blank' >[2]</a> Wikipedia - Change-making problem.  "
   ]
  },
  {
   "cell_type": "markdown",
   "metadata": {},
   "source": [
    "---\n",
    "<a href=\"https://ansegura7.github.io/Algorithms/\">« Home</a>"
   ]
  }
 ],
 "metadata": {
  "kernelspec": {
   "display_name": "Python 3",
   "language": "python",
   "name": "python3"
  },
  "language_info": {
   "codemirror_mode": {
    "name": "ipython",
    "version": 3
   },
   "file_extension": ".py",
   "mimetype": "text/x-python",
   "name": "python",
   "nbconvert_exporter": "python",
   "pygments_lexer": "ipython3",
   "version": "3.6.8"
  },
  "varInspector": {
   "cols": {
    "lenName": 16,
    "lenType": 16,
    "lenVar": 40
   },
   "kernels_config": {
    "python": {
     "delete_cmd_postfix": "",
     "delete_cmd_prefix": "del ",
     "library": "var_list.py",
     "varRefreshCmd": "print(var_dic_list())"
    },
    "r": {
     "delete_cmd_postfix": ") ",
     "delete_cmd_prefix": "rm(",
     "library": "var_list.r",
     "varRefreshCmd": "cat(var_dic_list()) "
    }
   },
   "types_to_exclude": [
    "module",
    "function",
    "builtin_function_or_method",
    "instance",
    "_Feature"
   ],
   "window_display": false
  }
 },
 "nbformat": 4,
 "nbformat_minor": 2
}
