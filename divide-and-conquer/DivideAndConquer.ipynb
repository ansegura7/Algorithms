{
 "cells": [
  {
   "cell_type": "markdown",
   "metadata": {},
   "source": [
    "# 2. Divide and Conquer"
   ]
  },
  {
   "cell_type": "markdown",
   "metadata": {},
   "source": [
    "- **Created by Andrés Segura Tinoco**\n",
    "- **Created on Feb 01, 2020**"
   ]
  },
  {
   "cell_type": "markdown",
   "metadata": {},
   "source": [
    "In computer science, **divide and conquer** is an algorithm design paradigm based on multi-branched recursion. A divide-and-conquer algorithm works by recursively breaking down a problem into two or more sub-problems of the same or related type, until these become simple enough to be solved directly. The solutions to the sub-problems are then combined to give a solution to the original problem <a href=\"#link_one\">[1]</a>."
   ]
  },
  {
   "cell_type": "code",
   "execution_count": 1,
   "metadata": {},
   "outputs": [],
   "source": [
    "# Main libraries\n",
    "import math\n",
    "import random\n",
    "import copy \n",
    "import timeit\n",
    "import numpy as np\n",
    "from datetime import datetime"
   ]
  },
  {
   "cell_type": "code",
   "execution_count": 2,
   "metadata": {},
   "outputs": [],
   "source": [
    "import matplotlib.pyplot as plt"
   ]
  },
  {
   "cell_type": "markdown",
   "metadata": {},
   "source": [
    "## 2.1. Binary Search"
   ]
  },
  {
   "cell_type": "markdown",
   "metadata": {},
   "source": [
    "In computer science, **binary search**, also known as half-interval search or logarithmic search, is a search algorithm that finds the position of a target value within a sorted array. Binary search compares the target value to the middle element of the array. If they are not equal, the half in which the target cannot lie is eliminated and the search continues on the remaining half, again taking the middle element to compare to the target value, and repeating this until the target value is found. If the search ends with the remaining half being empty, the target is not in the array <a href=\"#link_two\">[2]</a>."
   ]
  },
  {
   "cell_type": "code",
   "execution_count": 3,
   "metadata": {},
   "outputs": [],
   "source": [
    "# Recursive sub-algorithm\n",
    "def daq_bin_search(l, i, j, x, d=0):\n",
    "    if i == j:\n",
    "        return i, d\n",
    "    \n",
    "    k = (i + j) // 2\n",
    "    d = d + 1\n",
    "    \n",
    "    if x <= l[k]:\n",
    "        return daq_bin_search(l, i, k, x, d)\n",
    "    else:\n",
    "        return daq_bin_search(l, k + 1, j, x, d)"
   ]
  },
  {
   "cell_type": "code",
   "execution_count": 4,
   "metadata": {},
   "outputs": [],
   "source": [
    "# Binary search algorithm\n",
    "def bin_search(l, x):\n",
    "    n = len(l)\n",
    "    if n == 0 or x < l[0] or x > l[n - 1]:\n",
    "        return -1, -1\n",
    "    \n",
    "    ix, d = daq_bin_search(l, 0, n - 1, x)\n",
    "    return ix, d"
   ]
  },
  {
   "cell_type": "code",
   "execution_count": 5,
   "metadata": {},
   "outputs": [
    {
     "name": "stdout",
     "output_type": "stream",
     "text": [
      "Solution ix: 8 , value: 12 , depth: 4\n"
     ]
    }
   ],
   "source": [
    "# Test values\n",
    "l = [-10, -7, -5, -2, 0, 3, 8, 9, 12, 13, 26, 29, 31, 36, 38, 40]\n",
    "x = 12\n",
    "\n",
    "# Run algorithm\n",
    "ix, depth = bin_search(l, x)\n",
    "print('Solution ix:', ix, ', value:', l[ix], ', depth:', depth)"
   ]
  },
  {
   "cell_type": "markdown",
   "metadata": {},
   "source": [
    "With time complexity of $ \\Theta(\\log_{}{n}) $."
   ]
  },
  {
   "cell_type": "markdown",
   "metadata": {},
   "source": [
    "### Computational Complexity validation"
   ]
  },
  {
   "cell_type": "code",
   "execution_count": 6,
   "metadata": {},
   "outputs": [],
   "source": [
    "# Creating a random value (uniform)\n",
    "ms = datetime.now().microsecond / 1000\n",
    "random.seed(ms)\n",
    "\n",
    "N = 1000\n",
    "n = len(l)\n",
    "depth_list = [0] * n"
   ]
  },
  {
   "cell_type": "code",
   "execution_count": 7,
   "metadata": {},
   "outputs": [
    {
     "data": {
      "text/plain": [
       "4.0"
      ]
     },
     "execution_count": 7,
     "metadata": {},
     "output_type": "execute_result"
    }
   ],
   "source": [
    "# Validation\n",
    "for i in range(N):\n",
    "    rn = int(random.random() * n)\n",
    "    ix, depth = bin_search(l, l[rn])\n",
    "    \n",
    "    if ix > -1:\n",
    "        depth_list[ix] += depth\n",
    "    else:\n",
    "        print(ix, depth, rn, l[rn])\n",
    "\n",
    "# Experimental time complexity\n",
    "sum(depth_list) / N"
   ]
  },
  {
   "cell_type": "markdown",
   "metadata": {},
   "source": [
    "Hence, $ \\Theta(\\log_{2}(n)) = \\log_{2}(16) = 4 $"
   ]
  },
  {
   "cell_type": "markdown",
   "metadata": {},
   "source": [
    "## 2.2. Quick Sort"
   ]
  },
  {
   "cell_type": "markdown",
   "metadata": {},
   "source": [
    "**Quicksort** (sometimes called partition-exchange sort) is an efficient sorting algorithm. Developed by British computer scientist Tony Hoare in 1959 and published in 1961, it is still a commonly used algorithm for sorting <a href=\"#link_three\">[3]</a>.\n",
    "\n",
    "Quicksort is a divide-and-conquer algorithm. It works by selecting a 'pivot' element from the array and partitioning the other elements into two sub-arrays, according to whether they are less than or greater than the pivot. The sub-arrays are then sorted recursively. This can be done in-place, requiring small additional amounts of memory to perform the sorting."
   ]
  },
  {
   "cell_type": "code",
   "execution_count": 8,
   "metadata": {},
   "outputs": [],
   "source": [
    "def partition(array, i, j):\n",
    "    pivot = array[i]\n",
    "    k = i + 1\n",
    "    l = j - 1\n",
    "    \n",
    "    while True:\n",
    "        \n",
    "        while k <= l and array[l] > pivot:\n",
    "            l = l - 1\n",
    "        \n",
    "        while k <= l and array[k] <= pivot:\n",
    "            k = k + 1\n",
    "        \n",
    "        if k <= l:\n",
    "            array[k], array[l] = array[l], array[k]\n",
    "        else:\n",
    "            break\n",
    "\n",
    "    array[i], array[l] = array[l], array[i]\n",
    "\n",
    "    return l"
   ]
  },
  {
   "cell_type": "code",
   "execution_count": 9,
   "metadata": {},
   "outputs": [],
   "source": [
    "# Quicksort recursive algorithm\n",
    "def _quick_sort(array, i, j):\n",
    "    \n",
    "    if i < j:\n",
    "        l = partition(array, i, j)\n",
    "        _quick_sort(array, i, l)\n",
    "        _quick_sort(array, l + 1, j)\n",
    "    \n",
    "    return array\n",
    "\n",
    "# Quicksort algorithm\n",
    "def quick_sort(array):\n",
    "    return _quick_sort(array, 0, len(array))"
   ]
  },
  {
   "cell_type": "code",
   "execution_count": 10,
   "metadata": {},
   "outputs": [
    {
     "data": {
      "text/plain": [
       "[0, 1, 1, 2, 3, 3, 4, 5, 5, 5, 6, 8, 9, 9]"
      ]
     },
     "execution_count": 10,
     "metadata": {},
     "output_type": "execute_result"
    }
   ],
   "source": [
    "# Test values\n",
    "array = [3, 1, 4, 1, 5, 9, 2, 6, 5, 3, 5, 8, 9, 0]\n",
    "\n",
    "# Run algorithm\n",
    "quick_sort(array)"
   ]
  },
  {
   "cell_type": "markdown",
   "metadata": {},
   "source": [
    "With time complexity of $ \\Theta(n \\log_{}{n}) $ and $ O(n^2) $, and space complexity of $ \\Theta(n) $."
   ]
  },
  {
   "cell_type": "markdown",
   "metadata": {},
   "source": [
    "## 2.3. Merge Sort"
   ]
  },
  {
   "cell_type": "markdown",
   "metadata": {},
   "source": [
    "In computer science, **merge sort** (also commonly spelled mergesort) is an efficient, general-purpose, comparison-based sorting algorithm. Most implementations produce a stable sort, which means that the order of equal elements is the same in the input and output. Merge sort is a divide and conquer algorithm that was invented by John von Neumann in 1945 <a href=\"#link_four\">[4]</a>."
   ]
  },
  {
   "cell_type": "code",
   "execution_count": 11,
   "metadata": {},
   "outputs": [],
   "source": [
    "# Efficiente merge function\n",
    "def merge(u, v):\n",
    "    t = []\n",
    "    i, j = 0, 0\n",
    "    m, n = len(u), len(v)\n",
    "    u.append(math.inf)\n",
    "    v.append(math.inf)\n",
    "    \n",
    "    for k in range(m + n):\n",
    "        if u[i] < v[j]:\n",
    "            t.append(u[i])\n",
    "            i += 1\n",
    "        else:\n",
    "            t.append(v[j])\n",
    "            j += 1\n",
    "    \n",
    "    return t"
   ]
  },
  {
   "cell_type": "code",
   "execution_count": 12,
   "metadata": {},
   "outputs": [],
   "source": [
    "# Merge-sort recursive algorithm\n",
    "def merge_sort(l):\n",
    "    n = len(l)\n",
    "    \n",
    "    if n > 1:\n",
    "        u = l[0 : n//2]\n",
    "        v = l[n//2 : n]\n",
    "        \n",
    "        u = merge_sort(u)\n",
    "        v = merge_sort(v)\n",
    "        return merge(u, v)\n",
    "    \n",
    "    return l"
   ]
  },
  {
   "cell_type": "code",
   "execution_count": 13,
   "metadata": {},
   "outputs": [
    {
     "data": {
      "text/plain": [
       "[0, 1, 1, 2, 3, 3, 4, 5, 5, 5, 6, 8, 9, 9]"
      ]
     },
     "execution_count": 13,
     "metadata": {},
     "output_type": "execute_result"
    }
   ],
   "source": [
    "# Test values\n",
    "l = [3, 1, 4, 1, 5, 9, 2, 6, 5, 3, 5, 8, 9, 0]\n",
    "\n",
    "# Run algorithm\n",
    "merge_sort(l)"
   ]
  },
  {
   "cell_type": "markdown",
   "metadata": {},
   "source": [
    "With time complexity of $ \\Theta(n \\log_{}{n}) $."
   ]
  },
  {
   "cell_type": "markdown",
   "metadata": {},
   "source": [
    "### Experiment: compare sorting algorithms"
   ]
  },
  {
   "cell_type": "code",
   "execution_count": 14,
   "metadata": {},
   "outputs": [],
   "source": [
    "# Experiment variables\n",
    "n_list = [1000, 2000, 5000, 10000, 20000, 50000, 100000, 200000]\n",
    "n_max = n_list[len(n_list) -1]"
   ]
  },
  {
   "cell_type": "code",
   "execution_count": 15,
   "metadata": {},
   "outputs": [],
   "source": [
    "# Creating a random value (uniform)\n",
    "ms = datetime.now().microsecond / 1000\n",
    "random.seed(ms)\n",
    "\n",
    "numbers = []\n",
    "for i in range(n_max):\n",
    "    numbers.append(int(random.random() * 1000))"
   ]
  },
  {
   "cell_type": "code",
   "execution_count": 16,
   "metadata": {},
   "outputs": [],
   "source": [
    "a_time = []\n",
    "b_time = []\n",
    "c_time = []\n",
    "\n",
    "for l in n_list:\n",
    "    a = copy.deepcopy(numbers[0:l])\n",
    "    b = copy.deepcopy(numbers[0:l])\n",
    "    c = copy.deepcopy(numbers[0:l])\n",
    "    \n",
    "    start_time = timeit.default_timer()\n",
    "    quick_sort(a)\n",
    "    a_time.append((timeit.default_timer() - start_time) * 1000)\n",
    "    \n",
    "    start_time = timeit.default_timer()\n",
    "    merge_sort(b)\n",
    "    b_time.append((timeit.default_timer() - start_time) * 1000)\n",
    "    \n",
    "    start_time = timeit.default_timer()\n",
    "    c.sort()\n",
    "    c_time.append((timeit.default_timer() - start_time) * 1000)"
   ]
  },
  {
   "cell_type": "code",
   "execution_count": 17,
   "metadata": {},
   "outputs": [
    {
     "data": {
      "image/png": "[encoded data removed]",
      "text/plain": [
       "<Figure size 720x360 with 1 Axes>"
      ]
     },
     "metadata": {
      "needs_background": "light"
     },
     "output_type": "display_data"
    }
   ],
   "source": [
    "# Plotting results\n",
    "plt.figure(figsize=(10, 5))\n",
    "plt.plot(a_time, linewidth = 1, marker=\"o\")\n",
    "plt.plot(b_time, linewidth = 1, marker=\"o\")\n",
    "plt.plot(c_time, linewidth = 1, marker=\"o\")\n",
    "plt.xticks(np.arange(len(n_list)), n_list)\n",
    "plt.title(\"Compare Sorting Algorithms\", fontsize = 14)\n",
    "plt.ylabel('Time (ms)')\n",
    "plt.xlabel('n')\n",
    "plt.legend((\"Quicksort\", \"Mergesort\", \"Timsort\"), loc = \"best\")\n",
    "plt.show()"
   ]
  },
  {
   "cell_type": "markdown",
   "metadata": {},
   "source": [
    "## 3.4. Convex Hull"
   ]
  },
  {
   "cell_type": "markdown",
   "metadata": {},
   "source": [
    "In geometry, **the convex hull** or convex envelope or convex closure of a shape is the smallest convex set that contains it. For a bounded subset of the plane, the convex hull may be visualized as the shape enclosed by a rubber band stretched around the subset <a href=\"#link_five\">[5]</a>.\n",
    "\n",
    "Formally, the convex hull may be defined either as the intersection of all convex sets containing a given subset of a Euclidean space, or equivalently as the set of all convex combinations of points in the subset. Convex hulls of open sets are open, and convex hulls of compact sets are compact. Every convex set is the convex hull of its extreme points"
   ]
  },
  {
   "cell_type": "code",
   "execution_count": 18,
   "metadata": {},
   "outputs": [],
   "source": [
    "class Point:\n",
    "    def __init__(self, x, y):\n",
    "        self.x = x\n",
    "        self.y = y\n",
    "        self.cw_next = None\n",
    "        self.ccw_next = None\n",
    "    \n",
    "    def __eq__(self, p):\n",
    "        return self.x == p.x and self.y == p.y"
   ]
  },
  {
   "cell_type": "code",
   "execution_count": 19,
   "metadata": {},
   "outputs": [],
   "source": [
    "# Example values\n",
    "n = 100\n",
    "points1 = []\n",
    "points2 = []\n",
    "\n",
    "for i in range(n):\n",
    "    x = int(random.random() * n)\n",
    "    y = int(random.random() * n)\n",
    "    \n",
    "    points1.append(Point(x, y))\n",
    "    points2.append((x, y))\n",
    "\n",
    "points2 = np.array(points2)"
   ]
  },
  {
   "cell_type": "markdown",
   "metadata": {},
   "source": [
    "### 3.4.1. Convex Hull from Scratch"
   ]
  },
  {
   "cell_type": "code",
   "execution_count": 20,
   "metadata": {},
   "outputs": [],
   "source": [
    "def orientation(a, b, c):\n",
    "    res = (b.y - a.y) * (c.x - b.x) - (c.y - b.y) * (b.x - a.x)\n",
    "    \n",
    "    if res == 0:\n",
    "        return 0 \n",
    "    elif res > 0:\n",
    "        return 1\n",
    "    return -1"
   ]
  },
  {
   "cell_type": "code",
   "execution_count": 21,
   "metadata": {},
   "outputs": [],
   "source": [
    "def merge(chull1, chull2):\n",
    "    # get the rightmost point of left convex hull\n",
    "    p = max(chull1, key = lambda point: point.x)\n",
    "\n",
    "    # get the leftmost poitn of right convex hull\n",
    "    q = min(chull2, key = lambda point: point.x)\n",
    "\n",
    "    # make copies of p and q\n",
    "    cp_p = p\n",
    "    cp_q = q\n",
    "\n",
    "    # raise the bridge pq to the uper tangent\n",
    "    prev_p = None\n",
    "    prev_q = None\n",
    "    while (True):\n",
    "        prev_p = p\n",
    "        prev_q = q\n",
    "        if q.cw_next:\n",
    "            # move p clockwise as long as it makes left turn\n",
    "            while orientation(p, q, q.cw_next) < 0:\n",
    "                q = q.cw_next\n",
    "        if p.ccw_next:\n",
    "            # move p as long as it makes right turn\n",
    "            while orientation(q, p, p.ccw_next) > 0:\n",
    "                p = p.ccw_next\n",
    "\n",
    "        if p == prev_p and q == prev_q:\n",
    "            break\n",
    "    \n",
    "    # lower the bridge cp_p cp_q to the lower tangent\n",
    "    prev_p = None\n",
    "    prev_q = None\n",
    "    while (True):\n",
    "        prev_p = cp_p\n",
    "        prev_q = cp_q\n",
    "        if cp_q.ccw_next:\n",
    "            # move q as long as it makes right turn\n",
    "            while orientation(cp_p, cp_q, cp_q.ccw_next) > 0:\n",
    "                cp_q = cp_q.ccw_next\n",
    "        if cp_p.cw_next:\n",
    "            # move p as long as it makes left turn\n",
    "            while orientation(cp_q, cp_p, cp_p.cw_next) < 0:\n",
    "                cp_p = cp_p.cw_next\n",
    "        if cp_p == prev_p and cp_q == prev_q:\n",
    "            break\n",
    "\n",
    "    # remove all other points\n",
    "    p.cw_next = q\n",
    "    q.ccw_next = p\n",
    "\n",
    "    cp_p.ccw_next = cp_q\n",
    "    cp_q.cw_next = cp_p\n",
    "\n",
    "    # final result\n",
    "    result = []\n",
    "    start = p \n",
    "    while (True):\n",
    "        result.append(p)\n",
    "        p = p.ccw_next\n",
    "\n",
    "        if p == start:\n",
    "            break\n",
    "\n",
    "    return result"
   ]
  },
  {
   "cell_type": "code",
   "execution_count": 22,
   "metadata": {},
   "outputs": [],
   "source": [
    "def daq_convex_hull(points):\n",
    "    if len(points) == 1:\n",
    "        return points\n",
    "    \n",
    "    left_half = daq_convex_hull(points[0: len(points)//2])\n",
    "    right_half = daq_convex_hull(points[len(points)//2:])\n",
    "    \n",
    "    return merge(left_half, right_half)\n",
    "\n",
    "def convex_hull(points):\n",
    "    hull = daq_convex_hull(sorted(points, key = lambda p: p.x))\n",
    "    return hull + hull[0:1]"
   ]
  },
  {
   "cell_type": "code",
   "execution_count": 23,
   "metadata": {},
   "outputs": [
    {
     "name": "stdout",
     "output_type": "stream",
     "text": [
      ">> elapsed time 2.7127000000000123 ms\n"
     ]
    }
   ],
   "source": [
    "# Run algorithm\n",
    "start_time = timeit.default_timer()\n",
    "hull = convex_hull(points1)\n",
    "print('>> elapsed time', (timeit.default_timer() - start_time) * 1000, 'ms')"
   ]
  },
  {
   "cell_type": "code",
   "execution_count": 24,
   "metadata": {},
   "outputs": [
    {
     "data": {
      "image/png": "[encoded data removed]",
      "text/plain": [
       "<Figure size 576x576 with 1 Axes>"
      ]
     },
     "metadata": {
      "needs_background": "light"
     },
     "output_type": "display_data"
    }
   ],
   "source": [
    "# Cooking data\n",
    "x_data = [p.x for p in points1]\n",
    "y_data = [p.y for p in points1]\n",
    "\n",
    "# Plotting convex hull results\n",
    "plt.figure(figsize = (8, 8))\n",
    "plt.plot(x_data, y_data, linewidth=0, marker=\"o\", markersize=3, color=\"black\")\n",
    "for i in range(1, len(hull)):\n",
    "    p1 = hull[i-1]\n",
    "    p2 = hull[i]\n",
    "    plt.plot([p1.x, p2.x], [p1.y, p2.y], color=\"#3366cc\")\n",
    "\n",
    "plt.title(\"Convex Hull - Divide and Conquer\", fontsize = 14)\n",
    "plt.ylabel('y')\n",
    "plt.xlabel('x')\n",
    "plt.show()"
   ]
  },
  {
   "cell_type": "markdown",
   "metadata": {},
   "source": [
    "### 3.4.2. Convex Hull with scipy.spatial"
   ]
  },
  {
   "cell_type": "code",
   "execution_count": 25,
   "metadata": {},
   "outputs": [],
   "source": [
    "from scipy.spatial import ConvexHull, convex_hull_plot_2d"
   ]
  },
  {
   "cell_type": "code",
   "execution_count": 26,
   "metadata": {},
   "outputs": [
    {
     "name": "stdout",
     "output_type": "stream",
     "text": [
      ">> elapsed time 4.0341000000001515 ms\n"
     ]
    }
   ],
   "source": [
    "# Run algorithm\n",
    "start_time = timeit.default_timer()\n",
    "hull2 = ConvexHull(points2)\n",
    "print('>> elapsed time', (timeit.default_timer() - start_time) * 1000, 'ms')"
   ]
  },
  {
   "cell_type": "code",
   "execution_count": 27,
   "metadata": {},
   "outputs": [
    {
     "data": {
      "image/png": "[encoded data removed]",
      "text/plain": [
       "<Figure size 576x576 with 1 Axes>"
      ]
     },
     "metadata": {
      "needs_background": "light"
     },
     "output_type": "display_data"
    }
   ],
   "source": [
    "# Plotting convex hull results\n",
    "plt.figure(figsize = (8, 8))\n",
    "plt.plot(points2[:,0], points2[:,1], linewidth=0, marker=\"o\", markersize=3, color=\"black\")\n",
    "for simplex in hull2.simplices:\n",
    "    plt.plot(points2[simplex, 0], points2[simplex, 1], 'k-', color=\"#109618\")\n",
    "\n",
    "plt.title(\"Convex Hull - scipy.spatial\", fontsize = 14)\n",
    "plt.ylabel('y')\n",
    "plt.xlabel('x')\n",
    "plt.show()"
   ]
  },
  {
   "cell_type": "markdown",
   "metadata": {},
   "source": [
    "#### Conclusion\n",
    "The Convex Hull with Divide and Conquer offers exceptional performance with time complexity of $ \\Theta(n \\log_{}{n}) $."
   ]
  },
  {
   "cell_type": "markdown",
   "metadata": {},
   "source": [
    "## Reference"
   ]
  },
  {
   "cell_type": "markdown",
   "metadata": {},
   "source": [
    "<a name='link_one' href='https://en.wikipedia.org/wiki/Divide-and-conquer_algorithm' target='_blank' >[1]</a> Wikipedia - Divide-and-Conquer algorithm.  \n",
    "<a name='link_two' href='https://en.wikipedia.org/wiki/Binary_search_algorithm' target='_blank' >[2]</a> Wikipedia - Binary search.  \n",
    "<a name='link_three' href='https://en.wikipedia.org/wiki/Quicksort' target='_blank' >[3]</a> Wikipedia - Quicksort.  \n",
    "<a name='link_four' href='https://en.wikipedia.org/wiki/Merge_sort' target='_blank' >[4]</a> Wikipedia - Merge sort.  \n",
    "<a name='link_five' href='https://en.wikipedia.org/wiki/Convex_hull' target='_blank' >[5]</a> Wikipedia - Convex hull.  "
   ]
  },
  {
   "cell_type": "markdown",
   "metadata": {},
   "source": [
    "---\n",
    "<a href=\"https://ansegura7.github.io/Algorithms/\">« Home</a>"
   ]
  }
 ],
 "metadata": {
  "kernelspec": {
   "display_name": "Python 3",
   "language": "python",
   "name": "python3"
  },
  "language_info": {
   "codemirror_mode": {
    "name": "ipython",
    "version": 3
   },
   "file_extension": ".py",
   "mimetype": "text/x-python",
   "name": "python",
   "nbconvert_exporter": "python",
   "pygments_lexer": "ipython3",
   "version": "3.6.8"
  },
  "varInspector": {
   "cols": {
    "lenName": 16,
    "lenType": 16,
    "lenVar": 40
   },
   "kernels_config": {
    "python": {
     "delete_cmd_postfix": "",
     "delete_cmd_prefix": "del ",
     "library": "var_list.py",
     "varRefreshCmd": "print(var_dic_list())"
    },
    "r": {
     "delete_cmd_postfix": ") ",
     "delete_cmd_prefix": "rm(",
     "library": "var_list.r",
     "varRefreshCmd": "cat(var_dic_list()) "
    }
   },
   "types_to_exclude": [
    "module",
    "function",
    "builtin_function_or_method",
    "instance",
    "_Feature"
   ],
   "window_display": false
  }
 },
 "nbformat": 4,
 "nbformat_minor": 2
}
